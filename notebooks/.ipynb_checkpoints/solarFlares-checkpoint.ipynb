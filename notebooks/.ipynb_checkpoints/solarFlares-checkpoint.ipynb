{
 "cells": [
  {
   "cell_type": "markdown",
   "id": "9dcd95da-c118-4845-a8c2-b204ceef54c7",
   "metadata": {},
   "source": [
    "# Solar Flares — Supervised Learning (Regression)\n",
    "\n",
    "**Goal**: Predict the number of solar flares from sunspot-related features.  \n",
    "**What’s inside**: clean EDA → baseline regressor → model comparison with CV → hyperparameter tuning → test evaluation → sensitivity → conclusions.  \n",
    "**Reproducibility**: consistent workflow; all metrics and plots generated programmatically.  \n",
    "**Metrics**: We report RMSE, MAE, and R² for model selection.  \n",
    "**Rationale**: All features are numeric; no categorical encoding is needed, and we compare multiple regressors under a uniform preprocessing pipeline.\n"
   ]
  },
  {
   "cell_type": "markdown",
   "id": "2214ccb8-8393-4ac1-b372-11e9214b3a42",
   "metadata": {},
   "source": [
    "## 1) Imports & Set up"
   ]
  },
  {
   "cell_type": "code",
   "execution_count": 108,
   "id": "8e4696e4-5f34-496c-962e-9dbd69fb8bc8",
   "metadata": {},
   "outputs": [],
   "source": [
    "# imports\n",
    "import pandas as pd, numpy as np, matplotlib.pyplot as plt\n",
    "from sklearn.model_selection import train_test_split, KFold, cross_validate, GridSearchCV\n",
    "from sklearn.preprocessing import StandardScaler\n",
    "from sklearn.pipeline import Pipeline\n",
    "from sklearn.dummy import DummyRegressor\n",
    "from sklearn.linear_model import LinearRegression, Ridge, Lasso\n",
    "from sklearn.tree import DecisionTreeRegressor\n",
    "from sklearn.ensemble import RandomForestRegressor\n",
    "from sklearn.metrics import make_scorer, mean_absolute_error, mean_squared_error, r2_score\n",
    "from sklearn.base import clone"
   ]
  },
  {
   "cell_type": "code",
   "execution_count": 110,
   "id": "0bf3234a-d551-450f-bd70-3a4cdbd7b6de",
   "metadata": {},
   "outputs": [
    {
     "name": "stdout",
     "output_type": "stream",
     "text": [
      "data size: (1066, 11)\n"
     ]
    },
    {
     "data": {
      "text/html": [
       "<div>\n",
       "<style scoped>\n",
       "    .dataframe tbody tr th:only-of-type {\n",
       "        vertical-align: middle;\n",
       "    }\n",
       "\n",
       "    .dataframe tbody tr th {\n",
       "        vertical-align: top;\n",
       "    }\n",
       "\n",
       "    .dataframe thead th {\n",
       "        text-align: right;\n",
       "    }\n",
       "</style>\n",
       "<table border=\"1\" class=\"dataframe\">\n",
       "  <thead>\n",
       "    <tr style=\"text-align: right;\">\n",
       "      <th></th>\n",
       "      <th>sunspot_group_configuration</th>\n",
       "      <th>sunspot_largest_spot</th>\n",
       "      <th>sunspot_distribution</th>\n",
       "      <th>sunspot_activity</th>\n",
       "      <th>sunspot_evolution</th>\n",
       "      <th>recent_flare_activity</th>\n",
       "      <th>historically_complex_region</th>\n",
       "      <th>historically_complex_region_recent</th>\n",
       "      <th>region_area</th>\n",
       "      <th>largest_spot_area</th>\n",
       "      <th>target</th>\n",
       "    </tr>\n",
       "  </thead>\n",
       "  <tbody>\n",
       "    <tr>\n",
       "      <th>0</th>\n",
       "      <td>6</td>\n",
       "      <td>3</td>\n",
       "      <td>0</td>\n",
       "      <td>0</td>\n",
       "      <td>2</td>\n",
       "      <td>0</td>\n",
       "      <td>0</td>\n",
       "      <td>0</td>\n",
       "      <td>0</td>\n",
       "      <td>0</td>\n",
       "      <td>0</td>\n",
       "    </tr>\n",
       "    <tr>\n",
       "      <th>1</th>\n",
       "      <td>2</td>\n",
       "      <td>1</td>\n",
       "      <td>1</td>\n",
       "      <td>0</td>\n",
       "      <td>2</td>\n",
       "      <td>0</td>\n",
       "      <td>0</td>\n",
       "      <td>1</td>\n",
       "      <td>0</td>\n",
       "      <td>0</td>\n",
       "      <td>0</td>\n",
       "    </tr>\n",
       "    <tr>\n",
       "      <th>2</th>\n",
       "      <td>1</td>\n",
       "      <td>2</td>\n",
       "      <td>1</td>\n",
       "      <td>0</td>\n",
       "      <td>2</td>\n",
       "      <td>0</td>\n",
       "      <td>0</td>\n",
       "      <td>1</td>\n",
       "      <td>0</td>\n",
       "      <td>0</td>\n",
       "      <td>0</td>\n",
       "    </tr>\n",
       "    <tr>\n",
       "      <th>3</th>\n",
       "      <td>6</td>\n",
       "      <td>1</td>\n",
       "      <td>0</td>\n",
       "      <td>0</td>\n",
       "      <td>1</td>\n",
       "      <td>0</td>\n",
       "      <td>0</td>\n",
       "      <td>0</td>\n",
       "      <td>0</td>\n",
       "      <td>0</td>\n",
       "      <td>0</td>\n",
       "    </tr>\n",
       "    <tr>\n",
       "      <th>4</th>\n",
       "      <td>6</td>\n",
       "      <td>2</td>\n",
       "      <td>0</td>\n",
       "      <td>0</td>\n",
       "      <td>0</td>\n",
       "      <td>0</td>\n",
       "      <td>0</td>\n",
       "      <td>1</td>\n",
       "      <td>0</td>\n",
       "      <td>0</td>\n",
       "      <td>0</td>\n",
       "    </tr>\n",
       "  </tbody>\n",
       "</table>\n",
       "</div>"
      ],
      "text/plain": [
       "   sunspot_group_configuration  sunspot_largest_spot  sunspot_distribution  \\\n",
       "0                            6                     3                     0   \n",
       "1                            2                     1                     1   \n",
       "2                            1                     2                     1   \n",
       "3                            6                     1                     0   \n",
       "4                            6                     2                     0   \n",
       "\n",
       "   sunspot_activity  sunspot_evolution  recent_flare_activity  \\\n",
       "0                 0                  2                      0   \n",
       "1                 0                  2                      0   \n",
       "2                 0                  2                      0   \n",
       "3                 0                  1                      0   \n",
       "4                 0                  0                      0   \n",
       "\n",
       "   historically_complex_region  historically_complex_region_recent  \\\n",
       "0                            0                                   0   \n",
       "1                            0                                   1   \n",
       "2                            0                                   1   \n",
       "3                            0                                   0   \n",
       "4                            0                                   1   \n",
       "\n",
       "   region_area  largest_spot_area  target  \n",
       "0            0                  0       0  \n",
       "1            0                  0       0  \n",
       "2            0                  0       0  \n",
       "3            0                  0       0  \n",
       "4            0                  0       0  "
      ]
     },
     "execution_count": 110,
     "metadata": {},
     "output_type": "execute_result"
    }
   ],
   "source": [
    "# load\n",
    "df = pd.read_csv('../data/raw/solar_flare.csv')\n",
    "print(\"data size:\", df.shape)\n",
    "df.head()"
   ]
  },
  {
   "cell_type": "markdown",
   "id": "7e606e2a-44c0-4507-ba39-19415cc399d4",
   "metadata": {},
   "source": [
    "## 2) Validate (Schema check + EDA)"
   ]
  },
  {
   "cell_type": "code",
   "execution_count": 8,
   "id": "5a262cfa-d249-49d4-8cbb-1e25647f8d61",
   "metadata": {},
   "outputs": [
    {
     "name": "stdout",
     "output_type": "stream",
     "text": [
      "\n",
      "[Schema Information]\n",
      "<class 'pandas.core.frame.DataFrame'>\n",
      "RangeIndex: 1066 entries, 0 to 1065\n",
      "Data columns (total 11 columns):\n",
      " #   Column                              Non-Null Count  Dtype\n",
      "---  ------                              --------------  -----\n",
      " 0   sunspot_group_configuration         1066 non-null   int64\n",
      " 1   sunspot_largest_spot                1066 non-null   int64\n",
      " 2   sunspot_distribution                1066 non-null   int64\n",
      " 3   sunspot_activity                    1066 non-null   int64\n",
      " 4   sunspot_evolution                   1066 non-null   int64\n",
      " 5   recent_flare_activity               1066 non-null   int64\n",
      " 6   historically_complex_region         1066 non-null   int64\n",
      " 7   historically_complex_region_recent  1066 non-null   int64\n",
      " 8   region_area                         1066 non-null   int64\n",
      " 9   largest_spot_area                   1066 non-null   int64\n",
      " 10  target                              1066 non-null   int64\n",
      "dtypes: int64(11)\n",
      "memory usage: 91.7 KB\n",
      "None\n"
     ]
    }
   ],
   "source": [
    "# --- schema / data types 확인\n",
    "print(\"\\n[Schema Information]\")\n",
    "print(df.info())"
   ]
  },
  {
   "cell_type": "code",
   "execution_count": 10,
   "id": "3e0276f0-041c-4fe7-a5c6-71d787c515b2",
   "metadata": {},
   "outputs": [
    {
     "name": "stdout",
     "output_type": "stream",
     "text": [
      "\n",
      "[Numeric Describe]\n"
     ]
    },
    {
     "data": {
      "text/html": [
       "<div>\n",
       "<style scoped>\n",
       "    .dataframe tbody tr th:only-of-type {\n",
       "        vertical-align: middle;\n",
       "    }\n",
       "\n",
       "    .dataframe tbody tr th {\n",
       "        vertical-align: top;\n",
       "    }\n",
       "\n",
       "    .dataframe thead th {\n",
       "        text-align: right;\n",
       "    }\n",
       "</style>\n",
       "<table border=\"1\" class=\"dataframe\">\n",
       "  <thead>\n",
       "    <tr style=\"text-align: right;\">\n",
       "      <th></th>\n",
       "      <th>sunspot_group_configuration</th>\n",
       "      <th>sunspot_largest_spot</th>\n",
       "      <th>sunspot_distribution</th>\n",
       "      <th>sunspot_activity</th>\n",
       "      <th>sunspot_evolution</th>\n",
       "      <th>recent_flare_activity</th>\n",
       "      <th>historically_complex_region</th>\n",
       "      <th>historically_complex_region_recent</th>\n",
       "      <th>region_area</th>\n",
       "      <th>largest_spot_area</th>\n",
       "      <th>target</th>\n",
       "    </tr>\n",
       "  </thead>\n",
       "  <tbody>\n",
       "    <tr>\n",
       "      <th>count</th>\n",
       "      <td>1066.000000</td>\n",
       "      <td>1066.000000</td>\n",
       "      <td>1066.000000</td>\n",
       "      <td>1066.000000</td>\n",
       "      <td>1066.000000</td>\n",
       "      <td>1066.000000</td>\n",
       "      <td>1066.000000</td>\n",
       "      <td>1066.000000</td>\n",
       "      <td>1066.000000</td>\n",
       "      <td>1066.0</td>\n",
       "      <td>1066.000000</td>\n",
       "    </tr>\n",
       "    <tr>\n",
       "      <th>mean</th>\n",
       "      <td>2.938086</td>\n",
       "      <td>1.906191</td>\n",
       "      <td>0.964353</td>\n",
       "      <td>0.153846</td>\n",
       "      <td>1.401501</td>\n",
       "      <td>0.059099</td>\n",
       "      <td>0.404315</td>\n",
       "      <td>0.875235</td>\n",
       "      <td>0.025328</td>\n",
       "      <td>0.0</td>\n",
       "      <td>0.300188</td>\n",
       "    </tr>\n",
       "    <tr>\n",
       "      <th>std</th>\n",
       "      <td>2.256740</td>\n",
       "      <td>1.197266</td>\n",
       "      <td>0.806456</td>\n",
       "      <td>0.360971</td>\n",
       "      <td>0.620584</td>\n",
       "      <td>0.320324</td>\n",
       "      <td>0.490989</td>\n",
       "      <td>0.330608</td>\n",
       "      <td>0.157194</td>\n",
       "      <td>0.0</td>\n",
       "      <td>0.835784</td>\n",
       "    </tr>\n",
       "    <tr>\n",
       "      <th>min</th>\n",
       "      <td>0.000000</td>\n",
       "      <td>0.000000</td>\n",
       "      <td>0.000000</td>\n",
       "      <td>0.000000</td>\n",
       "      <td>0.000000</td>\n",
       "      <td>0.000000</td>\n",
       "      <td>0.000000</td>\n",
       "      <td>0.000000</td>\n",
       "      <td>0.000000</td>\n",
       "      <td>0.0</td>\n",
       "      <td>0.000000</td>\n",
       "    </tr>\n",
       "    <tr>\n",
       "      <th>25%</th>\n",
       "      <td>1.000000</td>\n",
       "      <td>1.000000</td>\n",
       "      <td>0.000000</td>\n",
       "      <td>0.000000</td>\n",
       "      <td>1.000000</td>\n",
       "      <td>0.000000</td>\n",
       "      <td>0.000000</td>\n",
       "      <td>1.000000</td>\n",
       "      <td>0.000000</td>\n",
       "      <td>0.0</td>\n",
       "      <td>0.000000</td>\n",
       "    </tr>\n",
       "    <tr>\n",
       "      <th>50%</th>\n",
       "      <td>2.000000</td>\n",
       "      <td>2.000000</td>\n",
       "      <td>1.000000</td>\n",
       "      <td>0.000000</td>\n",
       "      <td>1.000000</td>\n",
       "      <td>0.000000</td>\n",
       "      <td>0.000000</td>\n",
       "      <td>1.000000</td>\n",
       "      <td>0.000000</td>\n",
       "      <td>0.0</td>\n",
       "      <td>0.000000</td>\n",
       "    </tr>\n",
       "    <tr>\n",
       "      <th>75%</th>\n",
       "      <td>6.000000</td>\n",
       "      <td>3.000000</td>\n",
       "      <td>1.000000</td>\n",
       "      <td>0.000000</td>\n",
       "      <td>2.000000</td>\n",
       "      <td>0.000000</td>\n",
       "      <td>1.000000</td>\n",
       "      <td>1.000000</td>\n",
       "      <td>0.000000</td>\n",
       "      <td>0.0</td>\n",
       "      <td>0.000000</td>\n",
       "    </tr>\n",
       "    <tr>\n",
       "      <th>max</th>\n",
       "      <td>6.000000</td>\n",
       "      <td>5.000000</td>\n",
       "      <td>3.000000</td>\n",
       "      <td>1.000000</td>\n",
       "      <td>2.000000</td>\n",
       "      <td>2.000000</td>\n",
       "      <td>1.000000</td>\n",
       "      <td>1.000000</td>\n",
       "      <td>1.000000</td>\n",
       "      <td>0.0</td>\n",
       "      <td>8.000000</td>\n",
       "    </tr>\n",
       "  </tbody>\n",
       "</table>\n",
       "</div>"
      ],
      "text/plain": [
       "       sunspot_group_configuration  sunspot_largest_spot  \\\n",
       "count                  1066.000000           1066.000000   \n",
       "mean                      2.938086              1.906191   \n",
       "std                       2.256740              1.197266   \n",
       "min                       0.000000              0.000000   \n",
       "25%                       1.000000              1.000000   \n",
       "50%                       2.000000              2.000000   \n",
       "75%                       6.000000              3.000000   \n",
       "max                       6.000000              5.000000   \n",
       "\n",
       "       sunspot_distribution  sunspot_activity  sunspot_evolution  \\\n",
       "count           1066.000000       1066.000000        1066.000000   \n",
       "mean               0.964353          0.153846           1.401501   \n",
       "std                0.806456          0.360971           0.620584   \n",
       "min                0.000000          0.000000           0.000000   \n",
       "25%                0.000000          0.000000           1.000000   \n",
       "50%                1.000000          0.000000           1.000000   \n",
       "75%                1.000000          0.000000           2.000000   \n",
       "max                3.000000          1.000000           2.000000   \n",
       "\n",
       "       recent_flare_activity  historically_complex_region  \\\n",
       "count            1066.000000                  1066.000000   \n",
       "mean                0.059099                     0.404315   \n",
       "std                 0.320324                     0.490989   \n",
       "min                 0.000000                     0.000000   \n",
       "25%                 0.000000                     0.000000   \n",
       "50%                 0.000000                     0.000000   \n",
       "75%                 0.000000                     1.000000   \n",
       "max                 2.000000                     1.000000   \n",
       "\n",
       "       historically_complex_region_recent  region_area  largest_spot_area  \\\n",
       "count                         1066.000000  1066.000000             1066.0   \n",
       "mean                             0.875235     0.025328                0.0   \n",
       "std                              0.330608     0.157194                0.0   \n",
       "min                              0.000000     0.000000                0.0   \n",
       "25%                              1.000000     0.000000                0.0   \n",
       "50%                              1.000000     0.000000                0.0   \n",
       "75%                              1.000000     0.000000                0.0   \n",
       "max                              1.000000     1.000000                0.0   \n",
       "\n",
       "            target  \n",
       "count  1066.000000  \n",
       "mean      0.300188  \n",
       "std       0.835784  \n",
       "min       0.000000  \n",
       "25%       0.000000  \n",
       "50%       0.000000  \n",
       "75%       0.000000  \n",
       "max       8.000000  "
      ]
     },
     "metadata": {},
     "output_type": "display_data"
    }
   ],
   "source": [
    "# --- 기본 통계 (수치형만)\n",
    "print(\"\\n[Numeric Describe]\")\n",
    "display(df.describe())"
   ]
  },
  {
   "cell_type": "code",
   "execution_count": 36,
   "id": "ca524a75-355b-4017-8913-b89ed1025a20",
   "metadata": {},
   "outputs": [
    {
     "name": "stdout",
     "output_type": "stream",
     "text": [
      "\n",
      "Target column: target\n",
      "Features: 10\n"
     ]
    }
   ],
   "source": [
    "# --- Target 컬럼 확정\n",
    "target_col = 'target'\n",
    "X = df.drop(columns=[target_col])\n",
    "y = df[target_col]\n",
    "\n",
    "print(\"\\nTarget column:\", target_col)\n",
    "print(\"Features:\", len(X.columns))\n"
   ]
  },
  {
   "cell_type": "code",
   "execution_count": 28,
   "id": "098f9076-5be2-494e-b33f-c97d6aae3653",
   "metadata": {},
   "outputs": [
    {
     "name": "stdout",
     "output_type": "stream",
     "text": [
      "\n",
      "Categorical Columns: []\n",
      "Numeric Feature Columns: ['sunspot_group_configuration', 'sunspot_largest_spot', 'sunspot_distribution', 'sunspot_activity', 'sunspot_evolution', 'recent_flare_activity', 'historically_complex_region', 'historically_complex_region_recent', 'region_area', 'largest_spot_area']\n"
     ]
    }
   ],
   "source": [
    "# --- 범주형 자동 추출\n",
    "cat_cols = X.select_dtypes(include=['object', 'category']).columns.tolist()\n",
    "num_cols = X.select_dtypes(include=['int64','float64']).columns.tolist()\n",
    "\n",
    "print(\"\\nCategorical Columns:\", cat_cols)\n",
    "print(\"Numeric Feature Columns:\", num_cols)\n"
   ]
  },
  {
   "cell_type": "code",
   "execution_count": 30,
   "id": "c3be6c1b-2193-454d-90bc-5a5cd12e02f9",
   "metadata": {},
   "outputs": [
    {
     "name": "stdout",
     "output_type": "stream",
     "text": [
      "\n",
      "Missing values per column:\n",
      "sunspot_group_configuration           0\n",
      "sunspot_largest_spot                  0\n",
      "sunspot_distribution                  0\n",
      "sunspot_activity                      0\n",
      "sunspot_evolution                     0\n",
      "recent_flare_activity                 0\n",
      "historically_complex_region           0\n",
      "historically_complex_region_recent    0\n",
      "region_area                           0\n",
      "largest_spot_area                     0\n",
      "target                                0\n",
      "dtype: int64\n",
      "\n",
      "Total duplicated rows: 716\n"
     ]
    }
   ],
   "source": [
    "# --- 결측/중복 확인\n",
    "print(\"\\nMissing values per column:\")\n",
    "print(df.isna().sum())\n",
    "\n",
    "print(\"\\nTotal duplicated rows:\", df.duplicated().sum())\n"
   ]
  },
  {
   "cell_type": "code",
   "execution_count": 32,
   "id": "55eb38ad-f594-4995-85be-29fac4cfce59",
   "metadata": {},
   "outputs": [
    {
     "data": {
      "image/png": "[encoded data removed]",
      "text/plain": [
       "<Figure size 600x300 with 1 Axes>"
      ]
     },
     "metadata": {},
     "output_type": "display_data"
    }
   ],
   "source": [
    "# --- Target 분포 시각화\n",
    "plt.figure(figsize=(6,3))\n",
    "plt.hist(y, bins=20, alpha=0.7, color='darkorange')\n",
    "plt.title(\"Distribution of Target (Solar Flares)\")\n",
    "plt.xlabel(\"Target Value\")\n",
    "plt.ylabel(\"Frequency\")\n",
    "plt.show()\n"
   ]
  },
  {
   "cell_type": "markdown",
   "id": "99269fc3-4749-4086-bb13-371504a80111",
   "metadata": {},
   "source": [
    "## 3) Preprocessing + Train/Test Split"
   ]
  },
  {
   "cell_type": "code",
   "execution_count": 114,
   "id": "e3850d7f-f303-4a5e-a30d-4b81087da4eb",
   "metadata": {},
   "outputs": [
    {
     "name": "stdout",
     "output_type": "stream",
     "text": [
      "Train/Test: (799, 10) (267, 10)\n"
     ]
    }
   ],
   "source": [
    "# Train/Test split\n",
    "X_tr, X_te, y_tr, y_te = train_test_split(\n",
    "    X, y, test_size=0.25, random_state=42\n",
    ")\n",
    "print(\"Train/Test:\", X_tr.shape, X_te.shape)\n"
   ]
  },
  {
   "cell_type": "code",
   "execution_count": 118,
   "id": "f73d65ca-7347-403c-b6d7-264c2fcab32d",
   "metadata": {},
   "outputs": [],
   "source": [
    "# 전처리: 선형계열은 스케일링, 트리계열은 패스스루로 사용할 예정\n",
    "preprocessor = StandardScaler()\n",
    "prepropass  = 'passthrough'"
   ]
  },
  {
   "cell_type": "markdown",
   "id": "3e315cdf-3699-49ea-aca3-a62320d2d814",
   "metadata": {},
   "source": [
    "## 4) Baseline (Dummy Regressor)"
   ]
  },
  {
   "cell_type": "code",
   "execution_count": 121,
   "id": "ecee0d83-6d15-4e1e-8be8-fa1dda852827",
   "metadata": {},
   "outputs": [
    {
     "name": "stdout",
     "output_type": "stream",
     "text": [
      "Dummy(mean) | RMSE: 0.7917695177286334 MAE: 0.48528825826290367 R²: -0.0020403725470974354\n"
     ]
    }
   ],
   "source": [
    "# 4) Baseline (Dummy Regressor)\n",
    "def rmse(y_true, y_pred):\n",
    "    return np.sqrt(mean_squared_error(y_true, y_pred))\n",
    "\n",
    "# Dummy does not use X -> no need to scale; keep passthrough\n",
    "dummy_mean = Pipeline([\n",
    "    ('prep', 'passthrough'),\n",
    "    ('reg', DummyRegressor(strategy='mean'))\n",
    "]).fit(X_tr, y_tr)\n",
    "\n",
    "y_dummy_mean = dummy_mean.predict(X_te)\n",
    "print(\n",
    "    \"Dummy(mean) | RMSE:\", rmse(y_te, y_dummy_mean),\n",
    "    \"MAE:\", mean_absolute_error(y_te, y_dummy_mean),\n",
    "    \"R²:\", r2_score(y_te, y_dummy_mean)\n",
    ")\n"
   ]
  },
  {
   "cell_type": "markdown",
   "id": "33b3b51f-0639-459f-8a1e-f33fd946f58f",
   "metadata": {},
   "source": [
    "## 5) Model Registry + Cross-Validation Comparison"
   ]
  },
  {
   "cell_type": "code",
   "execution_count": 125,
   "id": "526a5cc4-f09d-4814-8a5a-742fa444b915",
   "metadata": {},
   "outputs": [
    {
     "data": {
      "text/html": [
       "<div>\n",
       "<style scoped>\n",
       "    .dataframe tbody tr th:only-of-type {\n",
       "        vertical-align: middle;\n",
       "    }\n",
       "\n",
       "    .dataframe tbody tr th {\n",
       "        vertical-align: top;\n",
       "    }\n",
       "\n",
       "    .dataframe thead th {\n",
       "        text-align: right;\n",
       "    }\n",
       "</style>\n",
       "<table border=\"1\" class=\"dataframe\">\n",
       "  <thead>\n",
       "    <tr style=\"text-align: right;\">\n",
       "      <th></th>\n",
       "      <th>Model</th>\n",
       "      <th>CV RMSE (mean)</th>\n",
       "      <th>CV RMSE (std)</th>\n",
       "      <th>CV MAE (mean)</th>\n",
       "      <th>CV MAE (std)</th>\n",
       "      <th>CV R² (mean)</th>\n",
       "      <th>CV R² (std)</th>\n",
       "    </tr>\n",
       "  </thead>\n",
       "  <tbody>\n",
       "    <tr>\n",
       "      <th>0</th>\n",
       "      <td>Lasso</td>\n",
       "      <td>0.777676</td>\n",
       "      <td>0.163390</td>\n",
       "      <td>0.430222</td>\n",
       "      <td>0.057754</td>\n",
       "      <td>0.064030</td>\n",
       "      <td>0.196879</td>\n",
       "    </tr>\n",
       "    <tr>\n",
       "      <th>1</th>\n",
       "      <td>Ridge</td>\n",
       "      <td>0.777990</td>\n",
       "      <td>0.163294</td>\n",
       "      <td>0.430813</td>\n",
       "      <td>0.057886</td>\n",
       "      <td>0.062716</td>\n",
       "      <td>0.199674</td>\n",
       "    </tr>\n",
       "    <tr>\n",
       "      <th>2</th>\n",
       "      <td>Linear</td>\n",
       "      <td>0.778085</td>\n",
       "      <td>0.163205</td>\n",
       "      <td>0.430940</td>\n",
       "      <td>0.057941</td>\n",
       "      <td>0.062277</td>\n",
       "      <td>0.200604</td>\n",
       "    </tr>\n",
       "    <tr>\n",
       "      <th>3</th>\n",
       "      <td>RF</td>\n",
       "      <td>0.862331</td>\n",
       "      <td>0.143437</td>\n",
       "      <td>0.440464</td>\n",
       "      <td>0.049117</td>\n",
       "      <td>-0.198886</td>\n",
       "      <td>0.394131</td>\n",
       "    </tr>\n",
       "    <tr>\n",
       "      <th>4</th>\n",
       "      <td>DT</td>\n",
       "      <td>0.937940</td>\n",
       "      <td>0.139888</td>\n",
       "      <td>0.446856</td>\n",
       "      <td>0.040445</td>\n",
       "      <td>-0.461772</td>\n",
       "      <td>0.599110</td>\n",
       "    </tr>\n",
       "  </tbody>\n",
       "</table>\n",
       "</div>"
      ],
      "text/plain": [
       "    Model  CV RMSE (mean)  CV RMSE (std)  CV MAE (mean)  CV MAE (std)  \\\n",
       "0   Lasso        0.777676       0.163390       0.430222      0.057754   \n",
       "1   Ridge        0.777990       0.163294       0.430813      0.057886   \n",
       "2  Linear        0.778085       0.163205       0.430940      0.057941   \n",
       "3      RF        0.862331       0.143437       0.440464      0.049117   \n",
       "4      DT        0.937940       0.139888       0.446856      0.040445   \n",
       "\n",
       "   CV R² (mean)  CV R² (std)  \n",
       "0      0.064030     0.196879  \n",
       "1      0.062716     0.199674  \n",
       "2      0.062277     0.200604  \n",
       "3     -0.198886     0.394131  \n",
       "4     -0.461772     0.599110  "
      ]
     },
     "metadata": {},
     "output_type": "display_data"
    }
   ],
   "source": [
    "CV_SPLITS = 5\n",
    "cv = KFold(n_splits=CV_SPLITS, shuffle=True, random_state=42)\n",
    "\n",
    "# 선형모델엔 스케일링, 트리계열은 패스스루\n",
    "scale = StandardScaler()\n",
    "passthrough = 'passthrough'\n",
    "\n",
    "registry = {\n",
    "    # 선형계열 (스케일 필요)\n",
    "    \"Linear\": Pipeline([('prep', scale), ('reg', LinearRegression())]),\n",
    "    # (random_state는 특정 solver에서만 의미: 참고용)\n",
    "    \"Ridge\":  Pipeline([('prep', scale), ('reg', Ridge(alpha=1.0))]),\n",
    "    # Lasso에서 random_state는 selection='random'일 때만 사용 → 혼란 방지용 제거\n",
    "    \"Lasso\":  Pipeline([('prep', scale), ('reg', Lasso(alpha=0.001, max_iter=5000))]),\n",
    "\n",
    "    # 트리계열 (스케일 불필요)\n",
    "    \"DT\": Pipeline([('prep', passthrough), ('reg', DecisionTreeRegressor(random_state=42))]),\n",
    "    \"RF\": Pipeline([('prep', passthrough), ('reg', RandomForestRegressor(n_estimators=200, random_state=42, n_jobs=-1))]),\n",
    "}\n",
    "\n",
    "rows = []\n",
    "for name, pipe in registry.items():\n",
    "    scores = cross_validate(\n",
    "        pipe, X_tr, y_tr,  # ✅ 훈련 세트에서만 CV 수행 (테스트 완전 분리)\n",
    "        cv=cv, n_jobs=-1,\n",
    "        scoring={\n",
    "            'r2': 'r2',\n",
    "            'neg_rmse': 'neg_root_mean_squared_error',\n",
    "            'neg_mae': 'neg_mean_absolute_error'\n",
    "        },\n",
    "        return_train_score=False\n",
    "    )\n",
    "    rows.append({\n",
    "        \"Model\": name,\n",
    "        \"CV RMSE (mean)\": -scores['test_neg_rmse'].mean(),\n",
    "        \"CV RMSE (std)\":  scores['test_neg_rmse'].std(),\n",
    "        \"CV MAE (mean)\":  -scores['test_neg_mae'].mean(),\n",
    "        \"CV MAE (std)\":   scores['test_neg_mae'].std(),\n",
    "        \"CV R² (mean)\":   scores['test_r2'].mean(),\n",
    "        \"CV R² (std)\":    scores['test_r2'].std(),\n",
    "    })\n",
    "\n",
    "cv_df = pd.DataFrame(rows).sort_values(\"CV RMSE (mean)\").reset_index(drop=True)\n",
    "display(cv_df)\n"
   ]
  },
  {
   "cell_type": "code",
   "execution_count": 129,
   "id": "90694176-d7bc-44a7-94c4-8b14b02e6e47",
   "metadata": {},
   "outputs": [
    {
     "data": {
      "image/png": "[encoded data removed]",
      "text/plain": [
       "<Figure size 800x400 with 1 Axes>"
      ]
     },
     "metadata": {},
     "output_type": "display_data"
    }
   ],
   "source": [
    "# 막대 + 오차막대 (RMSE 중심)\n",
    "plt.figure(figsize=(8,4))\n",
    "plt.barh(cv_df[\"Model\"], cv_df[\"CV RMSE (mean)\"], xerr=cv_df[\"CV RMSE (std)\"])\n",
    "plt.xlabel(\"CV RMSE (mean ± std) ↓\")\n",
    "plt.title(\"Model Comparison via CV (train-only)\")\n",
    "plt.tight_layout()\n",
    "plt.show()"
   ]
  },
  {
   "cell_type": "markdown",
   "id": "92f2dfb1-396e-4269-924f-32f2603c6ec2",
   "metadata": {},
   "source": [
    "## 6) 하이퍼파라미터 튜닝 Cross-Validation Comparison"
   ]
  },
  {
   "cell_type": "code",
   "execution_count": 131,
   "id": "592e7327-b934-4b23-a2e4-7440fe3d4252",
   "metadata": {},
   "outputs": [
    {
     "name": "stdout",
     "output_type": "stream",
     "text": [
      "RF best params: {'reg__max_depth': 12, 'reg__min_samples_leaf': 5, 'reg__n_estimators': 200} | best CV RMSE: 0.7899774415381707\n"
     ]
    }
   ],
   "source": [
    "# (1) RandomForestRegressor — 트리계열은 스케일링 불필요\n",
    "rf_pipe = Pipeline([\n",
    "    ('prep', 'passthrough'),\n",
    "    ('reg', RandomForestRegressor(random_state=42, n_jobs=-1))\n",
    "])\n",
    "rf_grid = {\n",
    "    'reg__n_estimators': [200, 400],\n",
    "    'reg__max_depth': [None, 12, 20],\n",
    "    'reg__min_samples_leaf': [1, 3, 5],\n",
    "    # (선택) 성능/시간 트레이드오프까지 보고 싶다면:\n",
    "    # 'reg__max_features': ['sqrt', 'log2', 1.0],\n",
    "}\n",
    "rf_gs = GridSearchCV(\n",
    "    rf_pipe, rf_grid, cv=cv, n_jobs=-1,\n",
    "    scoring='neg_root_mean_squared_error',\n",
    "    return_train_score=True, refit=True\n",
    ")\n",
    "rf_gs.fit(X_tr, y_tr)\n",
    "print(\"RF best params:\", rf_gs.best_params_,\n",
    "      \"| best CV RMSE:\", -rf_gs.best_score_)\n"
   ]
  },
  {
   "cell_type": "code",
   "execution_count": 133,
   "id": "cd959719-8ce4-453a-a037-e6a19fe84a6c",
   "metadata": {},
   "outputs": [
    {
     "name": "stdout",
     "output_type": "stream",
     "text": [
      "Ridge best params: {'reg__alpha': 10.0} | best CV RMSE: 0.7772410059582848\n"
     ]
    }
   ],
   "source": [
    "# (2) Ridge — 선형계열은 스케일링 필요, random_state 제거\n",
    "ridge_pipe = Pipeline([\n",
    "    ('prep', StandardScaler()),\n",
    "    ('reg', Ridge())  # random_state 제거\n",
    "])\n",
    "ridge_grid = {'reg__alpha': [0.1, 1.0, 5.0, 10.0]}\n",
    "ridge_gs = GridSearchCV(\n",
    "    ridge_pipe, ridge_grid, cv=cv, n_jobs=-1,\n",
    "    scoring='neg_root_mean_squared_error',\n",
    "    return_train_score=True, refit=True\n",
    ")\n",
    "ridge_gs.fit(X_tr, y_tr)\n",
    "print(\"Ridge best params:\", ridge_gs.best_params_,\n",
    "      \"| best CV RMSE:\", -ridge_gs.best_score_)\n"
   ]
  },
  {
   "cell_type": "markdown",
   "id": "e7ea86d9-5e3e-4d93-9dae-9b302dc1520f",
   "metadata": {},
   "source": [
    "## Final Model Selection & Test Evaluation"
   ]
  },
  {
   "cell_type": "code",
   "execution_count": 75,
   "id": "0bb6fd9d-ca30-425d-a7c0-b8b303e81e29",
   "metadata": {},
   "outputs": [
    {
     "name": "stdout",
     "output_type": "stream",
     "text": [
      "Selected: Ridge | CV RMSE: 0.7772410059582848\n"
     ]
    }
   ],
   "source": [
    "def rmse(y_true, y_pred):\n",
    "    from sklearn.metrics import mean_squared_error\n",
    "    return np.sqrt(mean_squared_error(y_true, y_pred))\n",
    "\n",
    "# CV RMSE가 낮은 모델 선택\n",
    "rf_cv_rmse = -rf_gs.best_score_\n",
    "ridge_cv_rmse = -ridge_gs.best_score_\n",
    "\n",
    "if rf_cv_rmse <= ridge_cv_rmse:\n",
    "    best_name = \"RF\"\n",
    "    best_est = rf_gs.best_estimator_\n",
    "    best_cv = rf_cv_rmse\n",
    "else:\n",
    "    best_name = \"Ridge\"\n",
    "    best_est = ridge_gs.best_estimator_\n",
    "    best_cv = ridge_cv_rmse\n",
    "\n",
    "print(\"Selected:\", best_name, \"| CV RMSE:\", best_cv)\n"
   ]
  },
  {
   "cell_type": "code",
   "execution_count": 77,
   "id": "a48f0d9b-533d-42e8-9126-2f42ff745329",
   "metadata": {},
   "outputs": [
    {
     "name": "stdout",
     "output_type": "stream",
     "text": [
      "Test RMSE: 0.7546809659645393\n",
      "Test MAE: 0.41564766262636105\n",
      "Test R²: 0.08963729554296973\n"
     ]
    }
   ],
   "source": [
    "# Test 성능\n",
    "best_est.fit(X_tr, y_tr)\n",
    "y_hat = best_est.predict(X_te)\n",
    "\n",
    "print(\"Test RMSE:\", rmse(y_te, y_hat))\n",
    "print(\"Test MAE:\", mean_absolute_error(y_te, y_hat))\n",
    "print(\"Test R²:\", r2_score(y_te, y_hat))\n"
   ]
  },
  {
   "cell_type": "code",
   "execution_count": 79,
   "id": "68deab49-a1aa-4399-8350-435f9f3019ae",
   "metadata": {},
   "outputs": [
    {
     "data": {
      "image/png": "[encoded data removed]",
      "text/plain": [
       "<Figure size 500x500 with 1 Axes>"
      ]
     },
     "metadata": {},
     "output_type": "display_data"
    }
   ],
   "source": [
    "# Pred vs Actual\n",
    "plt.figure(figsize=(5,5))\n",
    "plt.scatter(y_te, y_hat, alpha=0.4, s=12)\n",
    "lims = [min(y_te.min(), y_hat.min()), max(y_te.max(), y_hat.max())]\n",
    "plt.plot(lims, lims)\n",
    "plt.xlabel(\"Actual\")\n",
    "plt.ylabel(\"Predicted\")\n",
    "plt.title(f\"Predicted vs Actual ({best_name})\")\n",
    "plt.tight_layout()\n",
    "plt.show()\n"
   ]
  },
  {
   "cell_type": "code",
   "execution_count": 81,
   "id": "e1589eb3-7d19-4c93-80ab-074727e37fb9",
   "metadata": {},
   "outputs": [
    {
     "data": {
      "image/png": "[encoded data removed]",
      "text/plain": [
       "<Figure size 600x300 with 1 Axes>"
      ]
     },
     "metadata": {},
     "output_type": "display_data"
    }
   ],
   "source": [
    "# Residual plot\n",
    "resid = y_te - y_hat\n",
    "plt.figure(figsize=(6,3))\n",
    "plt.scatter(y_hat, resid, alpha=0.4, s=12)\n",
    "plt.axhline(0, color='k', lw=1)\n",
    "plt.xlabel(\"Predicted\")\n",
    "plt.ylabel(\"Residual\")\n",
    "plt.title(\"Residual Plot\")\n",
    "plt.tight_layout()\n",
    "plt.show()\n"
   ]
  },
  {
   "cell_type": "code",
   "execution_count": 103,
   "id": "0df13956-f137-4b78-b2c5-d26c77751c68",
   "metadata": {},
   "outputs": [
    {
     "data": {
      "image/png": "[encoded data removed]",
      "text/plain": [
       "<Figure size 600x300 with 1 Axes>"
      ]
     },
     "metadata": {},
     "output_type": "display_data"
    },
    {
     "data": {
      "image/png": "[encoded data removed]",
      "text/plain": [
       "<Figure size 640x480 with 1 Axes>"
      ]
     },
     "metadata": {},
     "output_type": "display_data"
    }
   ],
   "source": [
    "import scipy.stats as st\n",
    "plt.figure(figsize=(6,3))\n",
    "plt.hist(y_te - y_hat, bins=30, alpha=0.7)\n",
    "plt.title(\"Residual Histogram\"); plt.tight_layout(); plt.show()\n",
    "\n",
    "# QQ-plot (optional)\n",
    "import statsmodels.api as sm\n",
    "sm.qqplot(y_te - y_hat, line='45', fit=True)\n",
    "plt.title(\"Residual QQ-Plot\")\n",
    "plt.show()\n"
   ]
  },
  {
   "cell_type": "markdown",
   "id": "9997dc4a-b2c6-4c28-a5e9-19f0f9bda6c4",
   "metadata": {},
   "source": [
    "## Test Size Sensitivity Analysis"
   ]
  },
  {
   "cell_type": "code",
   "execution_count": 141,
   "id": "9fcdb13d-297e-4bbd-b6c3-b331734727e8",
   "metadata": {},
   "outputs": [
    {
     "data": {
      "text/html": [
       "<div>\n",
       "<style scoped>\n",
       "    .dataframe tbody tr th:only-of-type {\n",
       "        vertical-align: middle;\n",
       "    }\n",
       "\n",
       "    .dataframe tbody tr th {\n",
       "        vertical-align: top;\n",
       "    }\n",
       "\n",
       "    .dataframe thead th {\n",
       "        text-align: right;\n",
       "    }\n",
       "</style>\n",
       "<table border=\"1\" class=\"dataframe\">\n",
       "  <thead>\n",
       "    <tr style=\"text-align: right;\">\n",
       "      <th></th>\n",
       "      <th>Test Size</th>\n",
       "      <th>RMSE</th>\n",
       "      <th>MAE</th>\n",
       "      <th>R²</th>\n",
       "    </tr>\n",
       "  </thead>\n",
       "  <tbody>\n",
       "    <tr>\n",
       "      <th>0</th>\n",
       "      <td>0.20</td>\n",
       "      <td>0.820468</td>\n",
       "      <td>0.447721</td>\n",
       "      <td>0.095438</td>\n",
       "    </tr>\n",
       "    <tr>\n",
       "      <th>1</th>\n",
       "      <td>0.25</td>\n",
       "      <td>0.754681</td>\n",
       "      <td>0.415648</td>\n",
       "      <td>0.089637</td>\n",
       "    </tr>\n",
       "    <tr>\n",
       "      <th>2</th>\n",
       "      <td>0.30</td>\n",
       "      <td>0.783027</td>\n",
       "      <td>0.428671</td>\n",
       "      <td>0.066802</td>\n",
       "    </tr>\n",
       "    <tr>\n",
       "      <th>3</th>\n",
       "      <td>0.40</td>\n",
       "      <td>0.808640</td>\n",
       "      <td>0.426498</td>\n",
       "      <td>0.047361</td>\n",
       "    </tr>\n",
       "  </tbody>\n",
       "</table>\n",
       "</div>"
      ],
      "text/plain": [
       "   Test Size      RMSE       MAE        R²\n",
       "0       0.20  0.820468  0.447721  0.095438\n",
       "1       0.25  0.754681  0.415648  0.089637\n",
       "2       0.30  0.783027  0.428671  0.066802\n",
       "3       0.40  0.808640  0.426498  0.047361"
      ]
     },
     "metadata": {},
     "output_type": "display_data"
    }
   ],
   "source": [
    "def eval_with_test_size(model_template, test_size):\n",
    "    X_tr2, X_te2, y_tr2, y_te2 = train_test_split(X, y, test_size=test_size, random_state=42)\n",
    "    model = clone(model_template)\n",
    "    model.fit(X_tr2, y_tr2)\n",
    "    pred = model.predict(X_te2)\n",
    "    return {\"Test Size\": test_size,\n",
    "            \"RMSE\": np.sqrt(mean_squared_error(y_te2, pred)),\n",
    "            \"MAE\": mean_absolute_error(y_te2, pred),\n",
    "            \"R²\": r2_score(y_te2, pred)}\n",
    "\n",
    "final_template = clone(best_est)\n",
    "sizes = [0.2, 0.25, 0.3, 0.4]\n",
    "sens = [eval_with_test_size(final_template, s) for s in sizes]\n",
    "sens_df = pd.DataFrame(sens)\n",
    "display(sens_df)\n"
   ]
  },
  {
   "cell_type": "code",
   "execution_count": 139,
   "id": "65c9ace7-786c-41a3-9285-c68bdc4e9248",
   "metadata": {},
   "outputs": [
    {
     "data": {
      "image/png": "[encoded data removed]",
      "text/plain": [
       "<Figure size 640x480 with 1 Axes>"
      ]
     },
     "metadata": {},
     "output_type": "display_data"
    }
   ],
   "source": [
    "plt.figure()\n",
    "plt.plot(sens_df[\"Test Size\"], sens_df[\"RMSE\"], marker='o', label=\"RMSE\")\n",
    "plt.plot(sens_df[\"Test Size\"], sens_df[\"MAE\"], marker='o', label=\"MAE\")\n",
    "plt.plot(sens_df[\"Test Size\"], sens_df[\"R²\"], marker='o', label=\"R²\")\n",
    "plt.xlabel(\"Test Size\"); plt.ylabel(\"Metric Value\")\n",
    "plt.title(\"Effect of Test Size on Model Performance\")\n",
    "plt.legend(); plt.grid(True, alpha=0.3)\n",
    "plt.show()\n"
   ]
  },
  {
   "cell_type": "markdown",
   "id": "7db7e7a1-156e-4ec4-8346-b8b13db2a243",
   "metadata": {},
   "source": [
    "### Discussion\n",
    "In this regression task, we evaluated multiple models—including Linear Regression, Ridge, Lasso, Decision Tree, and Random Forest—using 5-fold cross-validation on RMSE, MAE, and R². The baseline DummyRegressor achieved an RMSE of 0.79 and an R² close to 0.0, indicating almost no predictive capability. Compared to this baseline, the linear family of models (Lasso, Ridge, Linear Regression) consistently produced lower errors, with Ridge performing the best among them.\n",
    "The CV results clearly show that the linear models outperform the tree-based models (Decision Tree and Random Forest). This suggests that the solar flare target variable exhibits weak but mostly linear relationships with its predictors, which explains why complex non-linear partitioning in tree models did not yield improvements. Ridge Regression achieved the best CV RMSE (0.777), meaning that its L2 regularization effectively reduced coefficient variance and stabilized learning, especially in the presence of weak signal and noise.\n",
    "On the test set, Ridge produced an RMSE of 0.755, MAE of 0.416, and an R² of 0.089. While this R² is modest, the model still represents a meaningful improvement over the baseline, indicating that the dataset has limited predictive structure rather than strong model-dependent patterns. The Test-Size Sensitivity experiment further confirmed low-variance stability: RMSE fluctuated only slightly across different splits (0.82 → 0.75 → 0.78 → 0.81), demonstrating that the model generalizes consistently even when the training sample size changes.\n"
   ]
  },
  {
   "cell_type": "markdown",
   "id": "742cc332-995f-4cbc-95c6-481f360a7ca6",
   "metadata": {},
   "source": [
    "### Conclusion\n",
    "The best model for the Solar Flares dataset is Ridge Regression, selected for its superior cross-validation RMSE and stable generalization performance. The dataset does not exhibit strong non-linear patterns, which is why tree-based models underperformed, while linear models with regularization were more effective. Although the final R² score is relatively low, Ridge Regression still delivers stable and meaningful improvements over the baseline, making it the most suitable model for this task."
   ]
  },
  {
   "cell_type": "markdown",
   "id": "f492f6e9-1036-4864-a044-4b723f2f995f",
   "metadata": {},
   "source": [
    "### Reflection\n",
    "This project demonstrates that there is no single best machine-learning model for all datasets. In the Connect-4 classification problem, the data were highly categorical and non-linear, making Random Forest with one-hot encoding the best performer. In contrast, the Solar Flares regression dataset contained weak but mostly linear signals, where Ridge Regression surpassed tree-based models. These results reinforce a core principle: model performance is determined by the structure and characteristics of the data, and therefore model selection must always be data-driven rather than model-driven."
   ]
  },
  {
   "cell_type": "markdown",
   "id": "1f39d5af-2ad6-4b14-b34c-f9d55ccd1441",
   "metadata": {},
   "source": [
    "Discussion (Analysis & Interpretation)\n",
    "In this regression task, we evaluated multiple models—including Linear Regression, Ridge, Lasso, Decision Tree, and Random Forest—using 5-fold cross-validation on RMSE, MAE, and R². The baseline DummyRegressor achieved an RMSE of 0.79 and an R² close to 0.0, showing almost no predictive capability. Compared to this baseline, the linear family of models (Lasso, Ridge, Linear Regression) consistently produced lower CV errors, with Ridge performing the best among them.\n",
    "The CV results clearly show that Ridge, Lasso, and Linear Regression outperform tree-based models (Decision Tree and Random Forest). This indicates that the solar flare target variable has mostly weak, linear relationships with the predictors, and does not benefit from deep non-linear partitioning, which explains the poor performance of RF (negative R²) and DT. Among the linear models, Ridge achieved the best CV RMSE (0.777), suggesting that L2 regularization effectively stabilizes the model by reducing coefficient variance.\n",
    "On the test set, Ridge produced an RMSE of 0.755, MAE of 0.416, and R² of 0.089. While the overall R² is modest, the model still provides a meaningful improvement over the baseline and demonstrates that the dataset likely has limited predictive signal and moderate noise, rather than being highly model-dependent. The Test-Size Sensitivity experiment further confirms stability: RMSE only fluctuated slightly across splits (0.82 → 0.75 → 0.78 → 0.81), meaning the model generalizes consistently even when the training sample size changes.\n",
    "\n",
    "\n",
    "Final Conclusion\n",
    "The best model for the Solar Flares dataset is Ridge Regression, selected due to its superior cross-validation RMSE and stable generalization performance. The dataset does not exhibit strong non-linear patterns, which is why tree-based methods underperformed, while linear models with regularization were more effective. Although the final R² score is relatively low, the model’s stability across splits and its clear improvement over the baseline make Ridge the most suitable choice for this task.\n",
    "\n",
    "\n",
    "Reflection (Required by assignment: “Is there one best model for all datasets?”)\n",
    "This project demonstrates that there is no single best machine learning model for all datasets. In the Connect-4 classification problem, the data were highly categorical and non-linear, which made Random Forest with one-hot encoding the best performer. However, in the Solar Flares regression dataset, the underlying patterns were closer to linear and weak in signal, so Ridge Regression performed best, outperforming tree-based methods. These results reinforce a key principle: model performance depends on the data’s structure and inductive bias, and therefore model selection must always be data-driven, not model-driven."
   ]
  },
  {
   "cell_type": "code",
   "execution_count": null,
   "id": "3e29f526-ef76-46ef-b035-2c458d5b5b8f",
   "metadata": {},
   "outputs": [],
   "source": []
  }
 ],
 "metadata": {
  "kernelspec": {
   "display_name": "Python 3 (ipykernel)",
   "language": "python",
   "name": "python3"
  },
  "language_info": {
   "codemirror_mode": {
    "name": "ipython",
    "version": 3
   },
   "file_extension": ".py",
   "mimetype": "text/x-python",
   "name": "python",
   "nbconvert_exporter": "python",
   "pygments_lexer": "ipython3",
   "version": "3.12.4"
  }
 },
 "nbformat": 4,
 "nbformat_minor": 5
}
