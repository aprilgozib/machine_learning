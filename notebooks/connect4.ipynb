{
 "cells": [
  {
   "cell_type": "markdown",
   "id": "dfa7fc0e-0aec-4046-bc2e-d65aaca2fcf2",
   "metadata": {},
   "source": [
    "# Connect-4 — Supervised Learning (Multiclass Classification)\n",
    "\n",
    "**Goal**: Predict Player 1 outcome from board state (`win=2, loss=1, tie=0`).  \n",
    "**What’s inside**: clean EDA → robust baselines → encoder/model comparison with CV → hyperparameter tuning → test evaluation → sensitivity (test size) → conclusions.  \n",
    "**Reproducibility**: single config cell; fixed seeds; all metrics & plots generated programmatically.\n",
    "**Metrics**: We report Accuracy and emphasize Macro-F1 due to class imbalance."
   ]
  },
  {
   "cell_type": "markdown",
   "id": "969b1cd3-a2e9-4f80-9a45-4a14c51d618d",
   "metadata": {},
   "source": [
    "## 1) Imports & Set up"
   ]
  },
  {
   "cell_type": "code",
   "execution_count": 16,
   "id": "491e7fb7-107d-4fbf-87a8-fefe48583357",
   "metadata": {},
   "outputs": [],
   "source": [
    "# imports\n",
    "import pandas as pd, numpy as np\n",
    "from sklearn.model_selection import train_test_split, StratifiedKFold, cross_validate, cross_val_score, GridSearchCV, StratifiedShuffleSplit\n",
    "from sklearn.dummy import DummyClassifier\n",
    "from sklearn.metrics import accuracy_score, f1_score, classification_report, ConfusionMatrixDisplay, precision_recall_fscore_support\n",
    "from sklearn.compose import ColumnTransformer\n",
    "from sklearn.preprocessing import OneHotEncoder, StandardScaler\n",
    "from sklearn.pipeline import Pipeline\n",
    "from sklearn.linear_model import LogisticRegression\n",
    "from sklearn.tree import DecisionTreeClassifier\n",
    "from sklearn.ensemble import RandomForestClassifier\n",
    "from sklearn.metrics import make_scorer\n",
    "from sklearn.base import clone\n",
    "import matplotlib.pyplot as plt\n"
   ]
  },
  {
   "cell_type": "code",
   "execution_count": 5,
   "id": "b1d079e8-4be4-4e32-8f02-ba92696954f3",
   "metadata": {},
   "outputs": [
    {
     "name": "stdout",
     "output_type": "stream",
     "text": [
      "data size: (67557, 43)\n"
     ]
    },
    {
     "data": {
      "text/html": [
       "<div>\n",
       "<style scoped>\n",
       "    .dataframe tbody tr th:only-of-type {\n",
       "        vertical-align: middle;\n",
       "    }\n",
       "\n",
       "    .dataframe tbody tr th {\n",
       "        vertical-align: top;\n",
       "    }\n",
       "\n",
       "    .dataframe thead th {\n",
       "        text-align: right;\n",
       "    }\n",
       "</style>\n",
       "<table border=\"1\" class=\"dataframe\">\n",
       "  <thead>\n",
       "    <tr style=\"text-align: right;\">\n",
       "      <th></th>\n",
       "      <th>a1</th>\n",
       "      <th>a2</th>\n",
       "      <th>a3</th>\n",
       "      <th>a4</th>\n",
       "      <th>a5</th>\n",
       "      <th>a6</th>\n",
       "      <th>b1</th>\n",
       "      <th>b2</th>\n",
       "      <th>b3</th>\n",
       "      <th>b4</th>\n",
       "      <th>...</th>\n",
       "      <th>f4</th>\n",
       "      <th>f5</th>\n",
       "      <th>f6</th>\n",
       "      <th>g1</th>\n",
       "      <th>g2</th>\n",
       "      <th>g3</th>\n",
       "      <th>g4</th>\n",
       "      <th>g5</th>\n",
       "      <th>g6</th>\n",
       "      <th>target</th>\n",
       "    </tr>\n",
       "  </thead>\n",
       "  <tbody>\n",
       "    <tr>\n",
       "      <th>0</th>\n",
       "      <td>0</td>\n",
       "      <td>0</td>\n",
       "      <td>0</td>\n",
       "      <td>0</td>\n",
       "      <td>0</td>\n",
       "      <td>0</td>\n",
       "      <td>0</td>\n",
       "      <td>0</td>\n",
       "      <td>0</td>\n",
       "      <td>0</td>\n",
       "      <td>...</td>\n",
       "      <td>0</td>\n",
       "      <td>0</td>\n",
       "      <td>0</td>\n",
       "      <td>0</td>\n",
       "      <td>0</td>\n",
       "      <td>0</td>\n",
       "      <td>0</td>\n",
       "      <td>0</td>\n",
       "      <td>0</td>\n",
       "      <td>2</td>\n",
       "    </tr>\n",
       "    <tr>\n",
       "      <th>1</th>\n",
       "      <td>0</td>\n",
       "      <td>0</td>\n",
       "      <td>0</td>\n",
       "      <td>0</td>\n",
       "      <td>0</td>\n",
       "      <td>0</td>\n",
       "      <td>0</td>\n",
       "      <td>0</td>\n",
       "      <td>0</td>\n",
       "      <td>0</td>\n",
       "      <td>...</td>\n",
       "      <td>0</td>\n",
       "      <td>0</td>\n",
       "      <td>0</td>\n",
       "      <td>0</td>\n",
       "      <td>0</td>\n",
       "      <td>0</td>\n",
       "      <td>0</td>\n",
       "      <td>0</td>\n",
       "      <td>0</td>\n",
       "      <td>2</td>\n",
       "    </tr>\n",
       "    <tr>\n",
       "      <th>2</th>\n",
       "      <td>0</td>\n",
       "      <td>0</td>\n",
       "      <td>0</td>\n",
       "      <td>0</td>\n",
       "      <td>0</td>\n",
       "      <td>0</td>\n",
       "      <td>1</td>\n",
       "      <td>0</td>\n",
       "      <td>0</td>\n",
       "      <td>0</td>\n",
       "      <td>...</td>\n",
       "      <td>0</td>\n",
       "      <td>0</td>\n",
       "      <td>0</td>\n",
       "      <td>0</td>\n",
       "      <td>0</td>\n",
       "      <td>0</td>\n",
       "      <td>0</td>\n",
       "      <td>0</td>\n",
       "      <td>0</td>\n",
       "      <td>2</td>\n",
       "    </tr>\n",
       "    <tr>\n",
       "      <th>3</th>\n",
       "      <td>0</td>\n",
       "      <td>0</td>\n",
       "      <td>0</td>\n",
       "      <td>0</td>\n",
       "      <td>0</td>\n",
       "      <td>0</td>\n",
       "      <td>0</td>\n",
       "      <td>0</td>\n",
       "      <td>0</td>\n",
       "      <td>0</td>\n",
       "      <td>...</td>\n",
       "      <td>0</td>\n",
       "      <td>0</td>\n",
       "      <td>0</td>\n",
       "      <td>0</td>\n",
       "      <td>0</td>\n",
       "      <td>0</td>\n",
       "      <td>0</td>\n",
       "      <td>0</td>\n",
       "      <td>0</td>\n",
       "      <td>2</td>\n",
       "    </tr>\n",
       "    <tr>\n",
       "      <th>4</th>\n",
       "      <td>1</td>\n",
       "      <td>0</td>\n",
       "      <td>0</td>\n",
       "      <td>0</td>\n",
       "      <td>0</td>\n",
       "      <td>0</td>\n",
       "      <td>0</td>\n",
       "      <td>0</td>\n",
       "      <td>0</td>\n",
       "      <td>0</td>\n",
       "      <td>...</td>\n",
       "      <td>0</td>\n",
       "      <td>0</td>\n",
       "      <td>0</td>\n",
       "      <td>0</td>\n",
       "      <td>0</td>\n",
       "      <td>0</td>\n",
       "      <td>0</td>\n",
       "      <td>0</td>\n",
       "      <td>0</td>\n",
       "      <td>2</td>\n",
       "    </tr>\n",
       "  </tbody>\n",
       "</table>\n",
       "<p>5 rows × 43 columns</p>\n",
       "</div>"
      ],
      "text/plain": [
       "   a1  a2  a3  a4  a5  a6  b1  b2  b3  b4  ...  f4  f5  f6  g1  g2  g3  g4  \\\n",
       "0   0   0   0   0   0   0   0   0   0   0  ...   0   0   0   0   0   0   0   \n",
       "1   0   0   0   0   0   0   0   0   0   0  ...   0   0   0   0   0   0   0   \n",
       "2   0   0   0   0   0   0   1   0   0   0  ...   0   0   0   0   0   0   0   \n",
       "3   0   0   0   0   0   0   0   0   0   0  ...   0   0   0   0   0   0   0   \n",
       "4   1   0   0   0   0   0   0   0   0   0  ...   0   0   0   0   0   0   0   \n",
       "\n",
       "   g5  g6  target  \n",
       "0   0   0       2  \n",
       "1   0   0       2  \n",
       "2   0   0       2  \n",
       "3   0   0       2  \n",
       "4   0   0       2  \n",
       "\n",
       "[5 rows x 43 columns]"
      ]
     },
     "execution_count": 5,
     "metadata": {},
     "output_type": "execute_result"
    }
   ],
   "source": [
    "# load\n",
    "df = pd.read_csv('../data/raw/connect-4.csv')\n",
    "print(\"data size:\", df.shape)\n",
    "df.head()"
   ]
  },
  {
   "cell_type": "markdown",
   "id": "392cf2a4-7883-44d2-b48e-5a8248c55ed6",
   "metadata": {},
   "source": [
    "## 2) Validate (Schema check + EDA)"
   ]
  },
  {
   "cell_type": "code",
   "execution_count": 6,
   "id": "e00309e5-e31b-40fa-af15-a5c9a3ce9664",
   "metadata": {},
   "outputs": [
    {
     "name": "stdout",
     "output_type": "stream",
     "text": [
      "Target column: target\n",
      "Board columns: 42\n",
      "target\n",
      "2    44473\n",
      "1    16635\n",
      "0     6449\n",
      "Name: count, dtype: int64\n",
      "Unique board vals (union): [np.int64(0), np.int64(1), np.int64(2)]\n"
     ]
    }
   ],
   "source": [
    "# schema/lave check\n",
    "all_cols = df.columns.tolist()\n",
    "target_col = all_cols[-1]\n",
    "board_cols = all_cols[:-1]\n",
    "\n",
    "print(\"Target column:\", target_col)\n",
    "print(\"Board columns:\", len(board_cols))\n",
    "print(df[target_col].value_counts())\n",
    "print(\"Unique board vals (union):\", sorted(set().union(*[set(df[c].unique()) for c in board_cols])))\n"
   ]
  },
  {
   "cell_type": "code",
   "execution_count": 7,
   "id": "808315e7-ac12-48f0-87de-700f89b0be34",
   "metadata": {},
   "outputs": [
    {
     "data": {
      "image/png": "[encoded data removed]",
      "text/plain": [
       "<Figure size 640x480 with 1 Axes>"
      ]
     },
     "metadata": {},
     "output_type": "display_data"
    }
   ],
   "source": [
    "# Target class distribution (imbalance evidence)\n",
    "ax = df['target'].value_counts().sort_index().plot(kind='bar')\n",
    "ax.set_title(\"Target Class Distribution (0=Draw, 1=Loss, 2=Win)\")\n",
    "ax.set_xlabel(\"Class\"); ax.set_ylabel(\"Count\")\n",
    "plt.tight_layout()\n",
    "plt.show()\n"
   ]
  },
  {
   "cell_type": "code",
   "execution_count": 8,
   "id": "cc5a6f53-530c-4679-a201-68e5a856f322",
   "metadata": {},
   "outputs": [
    {
     "name": "stdout",
     "output_type": "stream",
     "text": [
      "Class Ratios (%): {2: 65.83, 1: 24.62, 0: 9.55}\n"
     ]
    }
   ],
   "source": [
    "print(\"Class Ratios (%):\", \n",
    "      (df['target'].value_counts(normalize=True)*100).round(2).to_dict())\n"
   ]
  },
  {
   "cell_type": "markdown",
   "id": "33b60449-f953-457e-b0d3-d60d8af38985",
   "metadata": {},
   "source": [
    "### class imbalance structure\n",
    "In this situation, simple Accuracy can come out high even if the model ignores minority classes, so **Macro-F1** was used as a major performance indicator in this task. This is a measure that considers the Recall of each class equally, and is a more valid evaluation method in an unbalanced situation."
   ]
  },
  {
   "cell_type": "code",
   "execution_count": 9,
   "id": "befa292c-9088-4346-af9a-7ff559707d5d",
   "metadata": {},
   "outputs": [
    {
     "name": "stdout",
     "output_type": "stream",
     "text": [
      "Total missing values: 0\n",
      "Total duplicated rows: 0\n",
      "Shape after dropping duplicates: (67557, 43)\n"
     ]
    }
   ],
   "source": [
    "# missing/duplicate\n",
    "print(\"Total missing values:\", df.isna().sum().sum())\n",
    "\n",
    "dup_count = df.duplicated().sum()\n",
    "print(\"Total duplicated rows:\", dup_count)\n",
    "\n",
    "df = df.drop_duplicates()\n",
    "print(\"Shape after dropping duplicates:\", df.shape)\n"
   ]
  },
  {
   "cell_type": "markdown",
   "id": "0e255e0b-52d3-4337-9144-765fcd1d3be4",
   "metadata": {},
   "source": [
    "- **No missing data** → no imputation required.\n",
    "- **No feature removal** → spatial positions are meaningful strategy features.\n",
    "- **One-Hot Encoding** → appropriate for categorical non-ordinal board representations.\n"
   ]
  },
  {
   "cell_type": "markdown",
   "id": "d0be7cb2-6fdc-4a6e-aff1-97356dca3e5f",
   "metadata": {},
   "source": [
    "## 3) Split & Baseline"
   ]
  },
  {
   "cell_type": "code",
   "execution_count": 10,
   "id": "91f2f6f2-15a0-4f7a-8797-6734fcabced4",
   "metadata": {},
   "outputs": [
    {
     "name": "stdout",
     "output_type": "stream",
     "text": [
      "Train class dist: {0: 0.095, 1: 0.246, 2: 0.658}\n",
      "Test  class dist: {0: 0.095, 1: 0.246, 2: 0.658}\n"
     ]
    }
   ],
   "source": [
    "# train/test split (stratify)\n",
    "X, y = df[board_cols], df['target']\n",
    "X_tr, X_te, y_tr, y_te = train_test_split(\n",
    "    X, y, test_size=0.25, random_state=42, stratify=y\n",
    ")\n",
    "print(\"Train class dist:\", y_tr.value_counts(normalize=True).sort_index().round(3).to_dict())\n",
    "print(\"Test  class dist:\", y_te.value_counts(normalize=True).sort_index().round(3).to_dict())\n"
   ]
  },
  {
   "cell_type": "code",
   "execution_count": 11,
   "id": "1f6255b9-eea2-46f1-9339-bbe982b4f62d",
   "metadata": {},
   "outputs": [
    {
     "name": "stdout",
     "output_type": "stream",
     "text": [
      "Dummy Accuracy: 0.6583185316755477\n",
      "Dummy macro-F1: 0.2646530281933188\n"
     ]
    }
   ],
   "source": [
    "# Dummy baseline (most_frequent)\n",
    "dummy = DummyClassifier(strategy='most_frequent')\n",
    "dummy.fit(X_tr, y_tr)\n",
    "y_pred = dummy.predict(X_te)\n",
    "print('Dummy Accuracy:', accuracy_score(y_te, y_pred))\n",
    "print('Dummy macro-F1:', f1_score(y_te, y_pred, average='macro'))\n"
   ]
  },
  {
   "cell_type": "markdown",
   "id": "71bfa62e-2983-41cd-9ffa-79923ca79e78",
   "metadata": {},
   "source": [
    "## 4) Encoders & Model Registry\n"
   ]
  },
  {
   "cell_type": "code",
   "execution_count": 12,
   "id": "2c439457-1451-40d5-8801-c9f0783d6ac2",
   "metadata": {},
   "outputs": [],
   "source": [
    "# two preprocessors\n",
    "prep_onehot = ColumnTransformer([('cat', OneHotEncoder(handle_unknown='ignore'), board_cols)], remainder='drop')\n",
    "# for control experiments\n",
    "prep_numeric = 'passthrough' \n"
   ]
  },
  {
   "cell_type": "code",
   "execution_count": 17,
   "id": "9fecd279-4884-4b06-9b71-160221a2a093",
   "metadata": {},
   "outputs": [],
   "source": [
    "models = {\n",
    "    \"LogReg (onehot)\": Pipeline([('prep', prep_onehot), ('clf', LogisticRegression(max_iter=1000, multi_class='multinomial'))]),\n",
    "    \"DecisionTree (onehot)\": Pipeline([('prep', prep_onehot), ('clf', DecisionTreeClassifier(random_state=42))]),\n",
    "    \"RandomForest (onehot)\": Pipeline([('prep', prep_onehot), ('clf', RandomForestClassifier(n_estimators=200, random_state=42))]),\n",
    "    \"LogReg (numeric)\": Pipeline([('prep', prep_numeric), ('clf', LogisticRegression(max_iter=1000, multi_class='multinomial'))]),\n",
    "    \"DecisionTree (numeric)\": Pipeline([('prep', prep_numeric), ('clf', DecisionTreeClassifier(random_state=42))]),\n",
    "    \"RandomForest (numeric)\": Pipeline([('prep', prep_numeric), ('clf', RandomForestClassifier(n_estimators=200, random_state=42))]),\n",
    "}"
   ]
  },
  {
   "cell_type": "code",
   "execution_count": 22,
   "id": "7ca9137c-5be9-44e9-ad82-f65a46f24560",
   "metadata": {},
   "outputs": [],
   "source": [
    "models = {\n",
    "    \"LogReg (onehot)\": Pipeline([\n",
    "        ('prep', prep_onehot),\n",
    "        ('clf', LogisticRegression(max_iter=1000, solver='lbfgs'))  # multi_class 제거\n",
    "    ]),\n",
    "    \"DecisionTree (onehot)\": Pipeline([\n",
    "        ('prep', prep_onehot),\n",
    "        ('clf', DecisionTreeClassifier(random_state=42))\n",
    "    ]),\n",
    "    \"RandomForest (onehot)\": Pipeline([\n",
    "        ('prep', prep_onehot),\n",
    "        ('clf', RandomForestClassifier(n_estimators=200, random_state=42))\n",
    "    ]),\n",
    "    \"LogReg (numeric)\": Pipeline([\n",
    "        ('prep', prep_numeric),\n",
    "        ('clf', LogisticRegression(max_iter=1000, solver='lbfgs'))  # multi_class 제거\n",
    "    ]),\n",
    "    \"DecisionTree (numeric)\": Pipeline([\n",
    "        ('prep', prep_numeric),\n",
    "        ('clf', DecisionTreeClassifier(random_state=42))\n",
    "    ]),\n",
    "    \"RandomForest (numeric)\": Pipeline([\n",
    "        ('prep', prep_numeric),\n",
    "        ('clf', RandomForestClassifier(n_estimators=200, random_state=42))\n",
    "    ]),\n",
    "}\n"
   ]
  },
  {
   "cell_type": "markdown",
   "id": "b45c34aa-c307-42e6-b49e-6efacdfc334a",
   "metadata": {},
   "source": [
    "The board values in Connect-4 represent **categorical states with no inherent order**.  \n",
    "If Label Encoding is used, the model may incorrectly assume a relationship such as `2 > 1 > 0`,  \n",
    "which **does not reflect any real semantic ordering** in the game.\n",
    "\n",
    "In contrast, **One-Hot Encoding** separates each state into its own feature,  \n",
    "**making it explicit that no ordinal relationship exists among the categories.**\n"
   ]
  },
  {
   "cell_type": "markdown",
   "id": "7eaf954b-bdf9-45e0-bbea-91c79e485684",
   "metadata": {},
   "source": [
    "## 5) Cross-Validation Comparison"
   ]
  },
  {
   "cell_type": "code",
   "execution_count": 23,
   "id": "f48c0953-f71b-4468-8b93-1f581a4fe2dd",
   "metadata": {},
   "outputs": [
    {
     "data": {
      "text/html": [
       "<div>\n",
       "<style scoped>\n",
       "    .dataframe tbody tr th:only-of-type {\n",
       "        vertical-align: middle;\n",
       "    }\n",
       "\n",
       "    .dataframe tbody tr th {\n",
       "        vertical-align: top;\n",
       "    }\n",
       "\n",
       "    .dataframe thead th {\n",
       "        text-align: right;\n",
       "    }\n",
       "</style>\n",
       "<table border=\"1\" class=\"dataframe\">\n",
       "  <thead>\n",
       "    <tr style=\"text-align: right;\">\n",
       "      <th></th>\n",
       "      <th>Model</th>\n",
       "      <th>CV Acc (mean)</th>\n",
       "      <th>CV Acc (std)</th>\n",
       "      <th>CV Macro-F1 (mean)</th>\n",
       "      <th>CV Macro-F1 (std)</th>\n",
       "    </tr>\n",
       "  </thead>\n",
       "  <tbody>\n",
       "    <tr>\n",
       "      <th>2</th>\n",
       "      <td>RandomForest (onehot)</td>\n",
       "      <td>0.831091</td>\n",
       "      <td>0.003373</td>\n",
       "      <td>0.630179</td>\n",
       "      <td>0.005256</td>\n",
       "    </tr>\n",
       "    <tr>\n",
       "      <th>1</th>\n",
       "      <td>DecisionTree (onehot)</td>\n",
       "      <td>0.762497</td>\n",
       "      <td>0.002822</td>\n",
       "      <td>0.610243</td>\n",
       "      <td>0.002277</td>\n",
       "    </tr>\n",
       "    <tr>\n",
       "      <th>5</th>\n",
       "      <td>RandomForest (numeric)</td>\n",
       "      <td>0.815933</td>\n",
       "      <td>0.001372</td>\n",
       "      <td>0.607648</td>\n",
       "      <td>0.003440</td>\n",
       "    </tr>\n",
       "    <tr>\n",
       "      <th>4</th>\n",
       "      <td>DecisionTree (numeric)</td>\n",
       "      <td>0.734136</td>\n",
       "      <td>0.002688</td>\n",
       "      <td>0.576216</td>\n",
       "      <td>0.002814</td>\n",
       "    </tr>\n",
       "    <tr>\n",
       "      <th>0</th>\n",
       "      <td>LogReg (onehot)</td>\n",
       "      <td>0.757301</td>\n",
       "      <td>0.002026</td>\n",
       "      <td>0.500781</td>\n",
       "      <td>0.002377</td>\n",
       "    </tr>\n",
       "    <tr>\n",
       "      <th>3</th>\n",
       "      <td>LogReg (numeric)</td>\n",
       "      <td>0.660923</td>\n",
       "      <td>0.000281</td>\n",
       "      <td>0.283522</td>\n",
       "      <td>0.001163</td>\n",
       "    </tr>\n",
       "  </tbody>\n",
       "</table>\n",
       "</div>"
      ],
      "text/plain": [
       "                    Model  CV Acc (mean)  CV Acc (std)  CV Macro-F1 (mean)  \\\n",
       "2   RandomForest (onehot)       0.831091      0.003373            0.630179   \n",
       "1   DecisionTree (onehot)       0.762497      0.002822            0.610243   \n",
       "5  RandomForest (numeric)       0.815933      0.001372            0.607648   \n",
       "4  DecisionTree (numeric)       0.734136      0.002688            0.576216   \n",
       "0         LogReg (onehot)       0.757301      0.002026            0.500781   \n",
       "3        LogReg (numeric)       0.660923      0.000281            0.283522   \n",
       "\n",
       "   CV Macro-F1 (std)  \n",
       "2           0.005256  \n",
       "1           0.002277  \n",
       "5           0.003440  \n",
       "4           0.002814  \n",
       "0           0.002377  \n",
       "3           0.001163  "
      ]
     },
     "execution_count": 23,
     "metadata": {},
     "output_type": "execute_result"
    }
   ],
   "source": [
    "skf = StratifiedKFold(n_splits=5, shuffle=True, random_state=42)\n",
    "scores = []\n",
    "for name, pipe in models.items():\n",
    "    cv = cross_validate(\n",
    "        pipe, X, y, cv=skf,\n",
    "        scoring={'acc':'accuracy', 'f1':'f1_macro'},\n",
    "        n_jobs=-1, return_train_score=False\n",
    "    )\n",
    "    scores.append({\n",
    "        \"Model\": name,\n",
    "        \"CV Acc (mean)\": cv['test_acc'].mean(),\n",
    "        \"CV Acc (std)\": cv['test_acc'].std(),\n",
    "        \"CV Macro-F1 (mean)\": cv['test_f1'].mean(),\n",
    "        \"CV Macro-F1 (std)\": cv['test_f1'].std()\n",
    "    })\n",
    "\n",
    "cv_df = pd.DataFrame(scores).sort_values(\"CV Macro-F1 (mean)\", ascending=False)\n",
    "cv_df\n"
   ]
  },
  {
   "cell_type": "code",
   "execution_count": 24,
   "id": "25efe60c-c7a6-45c3-bf73-3adeeb2706b8",
   "metadata": {},
   "outputs": [
    {
     "data": {
      "image/png": "[encoded data removed]",
      "text/plain": [
       "<Figure size 1000x400 with 1 Axes>"
      ]
     },
     "metadata": {},
     "output_type": "display_data"
    }
   ],
   "source": [
    "plt.figure(figsize=(10,4))\n",
    "plt.barh(cv_df['Model'],\n",
    "         cv_df['CV Macro-F1 (mean)'],\n",
    "         xerr=cv_df['CV Macro-F1 (std)'])\n",
    "plt.xlabel(\"CV Macro-F1 (mean ± std)\")\n",
    "plt.title(\"Model Performance Comparison (with One-Hot vs Numeric)\")\n",
    "plt.tight_layout()\n",
    "plt.show()\n"
   ]
  },
  {
   "cell_type": "markdown",
   "id": "28dc8c0f-7409-4cc9-8237-0e803735c942",
   "metadata": {},
   "source": [
    "## 6) Hyperparameter Tuning"
   ]
  },
  {
   "cell_type": "code",
   "execution_count": 27,
   "id": "097ec021-e765-4356-903a-ddce824242b7",
   "metadata": {},
   "outputs": [
    {
     "name": "stderr",
     "output_type": "stream",
     "text": [
      "/Users/gwonnahyeong/miniforge3/lib/python3.12/site-packages/joblib/externals/loky/process_executor.py:782: UserWarning: A worker stopped while some jobs were given to the executor. This can be caused by a too short worker timeout or by a memory leak.\n",
      "  warnings.warn(\n"
     ]
    },
    {
     "name": "stdout",
     "output_type": "stream",
     "text": [
      "RF best params: {'clf__max_depth': None, 'clf__min_samples_leaf': 1, 'clf__n_estimators': 200}  | best CV f1_macro: 0.6159210171171282\n",
      "LogReg best params: {'clf__C': 2.0}  | best CV f1_macro: 0.5032695427644758\n"
     ]
    }
   ],
   "source": [
    "# RandomForest\n",
    "rf_grid = {\n",
    "    'clf__n_estimators': [200, 400],\n",
    "    'clf__max_depth': [None, 12, 20], # To explore overfitting/underfitting\n",
    "    'clf__min_samples_leaf': [1, 3, 5]\n",
    "}\n",
    "rf_pipe = Pipeline([('prep', prep_onehot), ('clf', RandomForestClassifier(random_state=42, n_estimators=200, n_jobs=1))])\n",
    "rf_gs = GridSearchCV(rf_pipe, rf_grid, scoring='f1_macro', cv=skf, n_jobs=2, pre_dispatch='2*n_jobs', error_score='raise')\n",
    "rf_gs.fit(X_tr, y_tr)\n",
    "print(\"RF best params:\", rf_gs.best_params_, \" | best CV f1_macro:\", rf_gs.best_score_)\n",
    "\n",
    "# LogisticRegression\n",
    "log_grid = {'clf__C': [0.5, 1.0, 2.0]} # weak, moderate, strong\n",
    "log_pipe = Pipeline([('prep', prep_onehot), ('clf', LogisticRegression(max_iter=1000, solver='lbfgs'))])\n",
    "log_gs = GridSearchCV(log_pipe, log_grid, scoring='f1_macro', cv=skf, n_jobs=2)\n",
    "log_gs.fit(X_tr, y_tr)\n",
    "print(\"LogReg best params:\", log_gs.best_params_, \" | best CV f1_macro:\", log_gs.best_score_)\n"
   ]
  },
  {
   "cell_type": "code",
   "execution_count": 28,
   "id": "c0445fbc-b93f-4e8e-bbd6-2cbe05ef922c",
   "metadata": {},
   "outputs": [
    {
     "data": {
      "text/html": [
       "<div>\n",
       "<style scoped>\n",
       "    .dataframe tbody tr th:only-of-type {\n",
       "        vertical-align: middle;\n",
       "    }\n",
       "\n",
       "    .dataframe tbody tr th {\n",
       "        vertical-align: top;\n",
       "    }\n",
       "\n",
       "    .dataframe thead th {\n",
       "        text-align: right;\n",
       "    }\n",
       "</style>\n",
       "<table border=\"1\" class=\"dataframe\">\n",
       "  <thead>\n",
       "    <tr style=\"text-align: right;\">\n",
       "      <th></th>\n",
       "      <th>param_clf__n_estimators</th>\n",
       "      <th>param_clf__max_depth</th>\n",
       "      <th>param_clf__min_samples_leaf</th>\n",
       "      <th>mean_test_score</th>\n",
       "      <th>std_test_score</th>\n",
       "    </tr>\n",
       "  </thead>\n",
       "  <tbody>\n",
       "    <tr>\n",
       "      <th>0</th>\n",
       "      <td>200</td>\n",
       "      <td>None</td>\n",
       "      <td>1</td>\n",
       "      <td>0.615921</td>\n",
       "      <td>0.003454</td>\n",
       "    </tr>\n",
       "    <tr>\n",
       "      <th>1</th>\n",
       "      <td>400</td>\n",
       "      <td>None</td>\n",
       "      <td>1</td>\n",
       "      <td>0.615781</td>\n",
       "      <td>0.002352</td>\n",
       "    </tr>\n",
       "    <tr>\n",
       "      <th>12</th>\n",
       "      <td>200</td>\n",
       "      <td>20</td>\n",
       "      <td>1</td>\n",
       "      <td>0.577076</td>\n",
       "      <td>0.003523</td>\n",
       "    </tr>\n",
       "    <tr>\n",
       "      <th>13</th>\n",
       "      <td>400</td>\n",
       "      <td>20</td>\n",
       "      <td>1</td>\n",
       "      <td>0.576723</td>\n",
       "      <td>0.003312</td>\n",
       "    </tr>\n",
       "    <tr>\n",
       "      <th>2</th>\n",
       "      <td>200</td>\n",
       "      <td>None</td>\n",
       "      <td>3</td>\n",
       "      <td>0.549150</td>\n",
       "      <td>0.004344</td>\n",
       "    </tr>\n",
       "    <tr>\n",
       "      <th>3</th>\n",
       "      <td>400</td>\n",
       "      <td>None</td>\n",
       "      <td>3</td>\n",
       "      <td>0.548400</td>\n",
       "      <td>0.003676</td>\n",
       "    </tr>\n",
       "    <tr>\n",
       "      <th>14</th>\n",
       "      <td>200</td>\n",
       "      <td>20</td>\n",
       "      <td>3</td>\n",
       "      <td>0.537987</td>\n",
       "      <td>0.004124</td>\n",
       "    </tr>\n",
       "    <tr>\n",
       "      <th>15</th>\n",
       "      <td>400</td>\n",
       "      <td>20</td>\n",
       "      <td>3</td>\n",
       "      <td>0.537352</td>\n",
       "      <td>0.004055</td>\n",
       "    </tr>\n",
       "    <tr>\n",
       "      <th>4</th>\n",
       "      <td>200</td>\n",
       "      <td>None</td>\n",
       "      <td>5</td>\n",
       "      <td>0.528367</td>\n",
       "      <td>0.005333</td>\n",
       "    </tr>\n",
       "    <tr>\n",
       "      <th>5</th>\n",
       "      <td>400</td>\n",
       "      <td>None</td>\n",
       "      <td>5</td>\n",
       "      <td>0.527008</td>\n",
       "      <td>0.004795</td>\n",
       "    </tr>\n",
       "  </tbody>\n",
       "</table>\n",
       "</div>"
      ],
      "text/plain": [
       "    param_clf__n_estimators param_clf__max_depth  param_clf__min_samples_leaf  \\\n",
       "0                       200                 None                            1   \n",
       "1                       400                 None                            1   \n",
       "12                      200                   20                            1   \n",
       "13                      400                   20                            1   \n",
       "2                       200                 None                            3   \n",
       "3                       400                 None                            3   \n",
       "14                      200                   20                            3   \n",
       "15                      400                   20                            3   \n",
       "4                       200                 None                            5   \n",
       "5                       400                 None                            5   \n",
       "\n",
       "    mean_test_score  std_test_score  \n",
       "0          0.615921        0.003454  \n",
       "1          0.615781        0.002352  \n",
       "12         0.577076        0.003523  \n",
       "13         0.576723        0.003312  \n",
       "2          0.549150        0.004344  \n",
       "3          0.548400        0.003676  \n",
       "14         0.537987        0.004124  \n",
       "15         0.537352        0.004055  \n",
       "4          0.528367        0.005333  \n",
       "5          0.527008        0.004795  "
      ]
     },
     "metadata": {},
     "output_type": "display_data"
    }
   ],
   "source": [
    "# RF grid results table (Top 10)\n",
    "rf_res = pd.DataFrame(rf_gs.cv_results_)\n",
    "cols = ['param_clf__n_estimators','param_clf__max_depth','param_clf__min_samples_leaf','mean_test_score','std_test_score']\n",
    "display(rf_res[cols].sort_values('mean_test_score', ascending=False).head(10))\n"
   ]
  },
  {
   "cell_type": "code",
   "execution_count": 37,
   "id": "8cb74d9f-a479-4ecb-acc3-238de76ab1f5",
   "metadata": {},
   "outputs": [
    {
     "data": {
      "image/png": "[encoded data removed]",
      "text/plain": [
       "<Figure size 600x400 with 1 Axes>"
      ]
     },
     "metadata": {},
     "output_type": "display_data"
    }
   ],
   "source": [
    "rf_res = pd.DataFrame(rf_gs.cv_results_)\n",
    "\n",
    "plt.figure(figsize=(6,4))\n",
    "for leaf in sorted(rf_res[\"param_clf__min_samples_leaf\"].unique()):\n",
    "    sub = rf_res[rf_res[\"param_clf__min_samples_leaf\"] == leaf]\n",
    "    plt.plot(\n",
    "        sub[\"param_clf__max_depth\"],\n",
    "        sub[\"mean_test_score\"],\n",
    "        marker='o',\n",
    "        label=f\"min_samples_leaf = {leaf}\"\n",
    "    )\n",
    "\n",
    "plt.xlabel(\"max_depth\")\n",
    "plt.ylabel(\"CV Macro-F1 (mean)\")\n",
    "plt.title(\"Effect of max_depth on RandomForest Performance\")\n",
    "plt.legend()\n",
    "plt.grid(alpha=0.3)\n",
    "plt.show()\n"
   ]
  },
  {
   "cell_type": "markdown",
   "id": "5174df0a-4d22-46a1-ac45-3e7812b31b2b",
   "metadata": {},
   "source": [
    "## 7) Final Model Selection & Test Evaluation"
   ]
  },
  {
   "cell_type": "code",
   "execution_count": 29,
   "id": "038d0dde-7474-4092-92c7-5cc407bc364c",
   "metadata": {},
   "outputs": [
    {
     "name": "stdout",
     "output_type": "stream",
     "text": [
      "Selected: RF(onehot) | CV f1_macro: 0.6159210171171282\n"
     ]
    }
   ],
   "source": [
    "best_est, best_name, best_cv = (\n",
    "    (rf_gs.best_estimator_, \"RF(onehot)\", rf_gs.best_score_) \n",
    "    if rf_gs.best_score_ >= log_gs.best_score_ \n",
    "    else (log_gs.best_estimator_, \"LogReg(onehot)\", log_gs.best_score_)\n",
    ")\n",
    "\n",
    "print(\"Selected:\", best_name, \"| CV f1_macro:\", best_cv)\n"
   ]
  },
  {
   "cell_type": "code",
   "execution_count": 30,
   "id": "9ce109bf-caa4-4d5c-8fc1-244c80d1032b",
   "metadata": {},
   "outputs": [
    {
     "name": "stdout",
     "output_type": "stream",
     "text": [
      "Final best params: {'bootstrap': True, 'ccp_alpha': 0.0, 'class_weight': None, 'criterion': 'gini', 'max_depth': None, 'max_features': 'sqrt', 'max_leaf_nodes': None, 'max_samples': None, 'min_impurity_decrease': 0.0, 'min_samples_leaf': 1, 'min_samples_split': 2, 'min_weight_fraction_leaf': 0.0, 'monotonic_cst': None, 'n_estimators': 200, 'n_jobs': 1, 'oob_score': False, 'random_state': 42, 'verbose': 0, 'warm_start': False}\n"
     ]
    }
   ],
   "source": [
    "if hasattr(best_est, \"get_params\"):\n",
    "    # inside of pipeline\n",
    "    final_clf = best_est.named_steps.get('clf', best_est)\n",
    "    print(\"Final best params:\", final_clf.get_params())\n"
   ]
  },
  {
   "cell_type": "code",
   "execution_count": 31,
   "id": "0f9982f1-eaca-4929-9850-732b3547147e",
   "metadata": {},
   "outputs": [
    {
     "name": "stdout",
     "output_type": "stream",
     "text": [
      "Test Accuracy: 0.8328004736530491\n",
      "Test Macro-F1: 0.6325574911543822\n",
      "              precision    recall  f1-score   support\n",
      "\n",
      "           0     0.5861    0.1309    0.2140      1612\n",
      "           1     0.8277    0.7439    0.7836      4159\n",
      "           2     0.8412    0.9678    0.9001     11119\n",
      "\n",
      "    accuracy                         0.8328     16890\n",
      "   macro avg     0.7517    0.6142    0.6326     16890\n",
      "weighted avg     0.8136    0.8328    0.8059     16890\n",
      "\n"
     ]
    }
   ],
   "source": [
    "best_est.fit(X_tr, y_tr)\n",
    "y_hat = best_est.predict(X_te)\n",
    "\n",
    "print(\"Test Accuracy:\", accuracy_score(y_te, y_hat))\n",
    "print(\"Test Macro-F1:\", f1_score(y_te, y_hat, average='macro'))\n",
    "print(classification_report(y_te, y_hat, digits=4))"
   ]
  },
  {
   "cell_type": "code",
   "execution_count": 32,
   "id": "9daad670-7344-46ea-af3a-4aef18fd54e0",
   "metadata": {},
   "outputs": [
    {
     "data": {
      "image/png": "[encoded data removed]",
      "text/plain": [
       "<Figure size 640x480 with 2 Axes>"
      ]
     },
     "metadata": {},
     "output_type": "display_data"
    }
   ],
   "source": [
    "ConfusionMatrixDisplay.from_predictions(y_te, y_hat)\n",
    "plt.title(f\"Confusion Matrix — {best_name}\")\n",
    "plt.show()\n"
   ]
  },
  {
   "cell_type": "code",
   "execution_count": 33,
   "id": "7ed6f413-0b1a-40c1-b74d-dd8b317533c7",
   "metadata": {},
   "outputs": [
    {
     "data": {
      "image/png": "[encoded data removed]",
      "text/plain": [
       "<Figure size 600x300 with 1 Axes>"
      ]
     },
     "metadata": {},
     "output_type": "display_data"
    },
    {
     "name": "stdout",
     "output_type": "stream",
     "text": [
      "Support: {0: np.int64(1612), 1: np.int64(4159), 2: np.int64(11119)}\n"
     ]
    }
   ],
   "source": [
    "# Requires y_te and y_hat defined in prior cells\n",
    "prec, rec, f1, sup = precision_recall_fscore_support(y_te, y_hat, labels=[0,1,2], zero_division=0)\n",
    "cls = np.array([0,1,2])\n",
    "\n",
    "plt.figure(figsize=(6,3))\n",
    "plt.bar(cls-0.2, prec, width=0.2, label='Precision')\n",
    "plt.bar(cls,     rec,  width=0.2, label='Recall')\n",
    "plt.bar(cls+0.2, f1,   width=0.2, label='F1')\n",
    "plt.xticks(cls)\n",
    "plt.legend()\n",
    "plt.title(\"Per-class metrics (Test)\")\n",
    "plt.tight_layout()\n",
    "plt.show()\n",
    "\n",
    "print(\"Support:\", dict(zip([0,1,2], sup)))\n"
   ]
  },
  {
   "cell_type": "markdown",
   "id": "73915c5e-2d5f-4988-85e5-8e26165667c5",
   "metadata": {},
   "source": [
    "## 8) Sensitivity: Train/Test Split difference"
   ]
  },
  {
   "cell_type": "code",
   "execution_count": 34,
   "id": "cac4e308-1794-44c0-a966-fad8dc61838d",
   "metadata": {},
   "outputs": [],
   "source": [
    "# final templete\n",
    "try:\n",
    "    if best_name.startswith(\"RF\"):\n",
    "        final_template = Pipeline([\n",
    "            ('prep', prep_onehot),\n",
    "            ('clf', RandomForestClassifier(\n",
    "                random_state=42,\n",
    "                **{k.split('__')[1]: v for k, v in rf_gs.best_params_.items()}\n",
    "            ))\n",
    "        ])\n",
    "    else:\n",
    "        final_template = Pipeline([\n",
    "            ('prep', prep_onehot),\n",
    "            ('clf', LogisticRegression(\n",
    "                max_iter=1000, multi_class='multinomial', random_state=42,\n",
    "                **{k.split('__')[1]: v for k, v in log_gs.best_params_.items()}\n",
    "            ))\n",
    "        ])\n",
    "except NameError as e:\n",
    "    raise RuntimeError(\n",
    "        \"This cell expects variables from previous steps: best_name, rf_gs, log_gs, prep_onehot, X, y. \"\n",
    "        \"Please run the tuning & selection cells first.\"\n",
    "    ) from e\n"
   ]
  },
  {
   "cell_type": "code",
   "execution_count": 35,
   "id": "78d44226-2131-4a3e-adf1-b1a306858fee",
   "metadata": {},
   "outputs": [
    {
     "data": {
      "text/html": [
       "<div>\n",
       "<style scoped>\n",
       "    .dataframe tbody tr th:only-of-type {\n",
       "        vertical-align: middle;\n",
       "    }\n",
       "\n",
       "    .dataframe tbody tr th {\n",
       "        vertical-align: top;\n",
       "    }\n",
       "\n",
       "    .dataframe thead th {\n",
       "        text-align: right;\n",
       "    }\n",
       "</style>\n",
       "<table border=\"1\" class=\"dataframe\">\n",
       "  <thead>\n",
       "    <tr style=\"text-align: right;\">\n",
       "      <th></th>\n",
       "      <th>Model</th>\n",
       "      <th>Test Size</th>\n",
       "      <th>Accuracy (mean)</th>\n",
       "      <th>Accuracy (std)</th>\n",
       "      <th>Macro-F1 (mean)</th>\n",
       "      <th>Macro-F1 (std)</th>\n",
       "    </tr>\n",
       "  </thead>\n",
       "  <tbody>\n",
       "    <tr>\n",
       "      <th>0</th>\n",
       "      <td>RF(onehot)</td>\n",
       "      <td>0.20</td>\n",
       "      <td>0.831977</td>\n",
       "      <td>0.002271</td>\n",
       "      <td>0.631886</td>\n",
       "      <td>0.004773</td>\n",
       "    </tr>\n",
       "    <tr>\n",
       "      <th>1</th>\n",
       "      <td>RF(onehot)</td>\n",
       "      <td>0.25</td>\n",
       "      <td>0.830827</td>\n",
       "      <td>0.001620</td>\n",
       "      <td>0.630660</td>\n",
       "      <td>0.001962</td>\n",
       "    </tr>\n",
       "    <tr>\n",
       "      <th>2</th>\n",
       "      <td>RF(onehot)</td>\n",
       "      <td>0.30</td>\n",
       "      <td>0.828432</td>\n",
       "      <td>0.000484</td>\n",
       "      <td>0.624971</td>\n",
       "      <td>0.001248</td>\n",
       "    </tr>\n",
       "    <tr>\n",
       "      <th>3</th>\n",
       "      <td>RF(onehot)</td>\n",
       "      <td>0.40</td>\n",
       "      <td>0.825852</td>\n",
       "      <td>0.000842</td>\n",
       "      <td>0.620579</td>\n",
       "      <td>0.000911</td>\n",
       "    </tr>\n",
       "  </tbody>\n",
       "</table>\n",
       "</div>"
      ],
      "text/plain": [
       "        Model  Test Size  Accuracy (mean)  Accuracy (std)  Macro-F1 (mean)  \\\n",
       "0  RF(onehot)       0.20         0.831977        0.002271         0.631886   \n",
       "1  RF(onehot)       0.25         0.830827        0.001620         0.630660   \n",
       "2  RF(onehot)       0.30         0.828432        0.000484         0.624971   \n",
       "3  RF(onehot)       0.40         0.825852        0.000842         0.620579   \n",
       "\n",
       "   Macro-F1 (std)  \n",
       "0        0.004773  \n",
       "1        0.001962  \n",
       "2        0.001248  \n",
       "3        0.000911  "
      ]
     },
     "metadata": {},
     "output_type": "display_data"
    }
   ],
   "source": [
    "# calculate mean ± standard deviation by iterative partition\n",
    "seeds = [42, 123, 777]\n",
    "test_sizes = [0.20, 0.25, 0.30, 0.40]\n",
    "\n",
    "rows = []\n",
    "for ts in test_sizes:\n",
    "    accs, f1s = [], []\n",
    "    for sd in seeds:\n",
    "        sss = StratifiedShuffleSplit(n_splits=1, test_size=ts, random_state=sd)\n",
    "        (tr_idx, te_idx), = sss.split(X, y)\n",
    "        X_tr2, X_te2 = X.iloc[tr_idx], X.iloc[te_idx]\n",
    "        y_tr2, y_te2 = y.iloc[tr_idx], y.iloc[te_idx]\n",
    "\n",
    "        model = clone(final_template)\n",
    "        model.fit(X_tr2, y_tr2)\n",
    "        pred = model.predict(X_te2)\n",
    "        accs.append(accuracy_score(y_te2, pred))\n",
    "        f1s.append(f1_score(y_te2, pred, average='macro'))\n",
    "\n",
    "    rows.append({\n",
    "        \"Model\": best_name,\n",
    "        \"Test Size\": ts,\n",
    "        \"Accuracy (mean)\": float(np.mean(accs)),\n",
    "        \"Accuracy (std)\":  float(np.std(accs)),\n",
    "        \"Macro-F1 (mean)\": float(np.mean(f1s)),\n",
    "        \"Macro-F1 (std)\":  float(np.std(f1s)),\n",
    "    })\n",
    "\n",
    "sens_df = pd.DataFrame(rows)\n",
    "display(sens_df)\n"
   ]
  },
  {
   "cell_type": "code",
   "execution_count": 36,
   "id": "04915e16-78ac-44b3-883f-4350759b6466",
   "metadata": {},
   "outputs": [
    {
     "data": {
      "image/png": "[encoded data removed]",
      "text/plain": [
       "<Figure size 640x480 with 1 Axes>"
      ]
     },
     "metadata": {},
     "output_type": "display_data"
    }
   ],
   "source": [
    "plt.figure()\n",
    "plt.plot(sens_df[\"Test Size\"], sens_df[\"Macro-F1 (mean)\"], marker='o', label=\"Macro-F1\")\n",
    "plt.fill_between(\n",
    "    sens_df[\"Test Size\"],\n",
    "    sens_df[\"Macro-F1 (mean)\"] - sens_df[\"Macro-F1 (std)\"],\n",
    "    sens_df[\"Macro-F1 (mean)\"] + sens_df[\"Macro-F1 (std)\"],\n",
    "    alpha=0.15\n",
    ")\n",
    "plt.plot(sens_df[\"Test Size\"], sens_df[\"Accuracy (mean)\"], marker='s', linestyle='--', label=\"Accuracy\")\n",
    "plt.xlabel(\"Test Size\"); plt.ylabel(\"Score\")\n",
    "plt.title(f\"Effect of Test Size on Performance — {best_name}\")\n",
    "plt.grid(True, alpha=0.3); plt.legend()\n",
    "plt.tight_layout(); plt.show()\n"
   ]
  },
  {
   "cell_type": "markdown",
   "id": "135f0056-6727-40ae-a0fa-64b166e9830d",
   "metadata": {},
   "source": [
    "## Discussion\n",
    "This experiment dealt with the multiple classification problem of predicting the result of Player 1 with Connect-4 game status as input.\n",
    "The data has a state of {0=empty, 1=Player1, 2=Player2}, which consists of **unordered categorical features**.\n",
    "\n",
    "As a result of comparing the encoding strategy, **One-Hot Encoding** provided the most stable performance.\n",
    "Label Encoding risked causing the model to mislearn **non-existent orders such as '2 > 1 > 0'\n",
    "This has been shown to be particularly performance degradation in logistic regression and other linear models.\n",
    "\n",
    "Model comparisons show that **RandomForest achieves the highest Macro-F1**.\n",
    "This means that Connect-4 data contains a **non-linear interaction pattern**,\n",
    "This is because tree-based models **have strengths** in learning these complex rules.\n",
    "\n",
    "The class distribution was also unbalanced,\n",
    "Instead of Accuracy, the **Macro-F1 score was used as a key comparison indicator**.\n",
    "This choice was appropriate for a balanced assessment of the predictive performance of each class.\n",
    "\n",
    "In summary,\n",
    "\n",
    "- **One-Hot** is a representation method that matches data characteristics\n",
    "- **RandomForest** has learned the nonlinear structure and interaction patterns well\n",
    "- **Logistic Regression** had a small performance improvement due to its limited structural expressiveness.\n",
    "\n",
    "Therefore, it was confirmed that model selection should be based on the structural nature** of the **data."
   ]
  },
  {
   "cell_type": "markdown",
   "id": "8fc3dd37-c647-409e-8204-7e1ccdac12a0",
   "metadata": {},
   "source": [
    "## Conclusion\n",
    "In this project, we compared different encoding schemes and models for Connect-4 game outcome prediction.\n",
    "As a result of the experiment, the **One-Hot Encoding + Random Forest** combination showed the highest performance and was selected as the final model.\n",
    "\n",
    "This means that Connect-4 data consists of **unordered categorical information** and **complicated locational patterns**,\n",
    "This means that **Non-linear tree-based models** are more suitable than linear models.\n",
    "\n",
    "In addition, the performance evaluation of the model was performed based on the **Macro-F1 score to reflect the data imbalance problem**.\n",
    "This approach provided more valid performance comparisons than simple accuracy.\n",
    "\n",
    "In conclusion, **A single model may not always be optimal**,\n",
    "**It was confirmed that expression (encoding) and model selection that fit the characteristics and structural patterns of the data are key**."
   ]
  },
  {
   "cell_type": "code",
   "execution_count": null,
   "id": "b30f3db1-ed5f-43e7-bb0f-b1f6a98edd66",
   "metadata": {},
   "outputs": [],
   "source": []
  }
 ],
 "metadata": {
  "kernelspec": {
   "display_name": "Python 3 (ipykernel)",
   "language": "python",
   "name": "python3"
  },
  "language_info": {
   "codemirror_mode": {
    "name": "ipython",
    "version": 3
   },
   "file_extension": ".py",
   "mimetype": "text/x-python",
   "name": "python",
   "nbconvert_exporter": "python",
   "pygments_lexer": "ipython3",
   "version": "3.12.11"
  }
 },
 "nbformat": 4,
 "nbformat_minor": 5
}
