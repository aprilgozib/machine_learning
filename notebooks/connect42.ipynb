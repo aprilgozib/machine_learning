{
 "cells": [
  {
   "cell_type": "markdown",
   "id": "dfa7fc0e-0aec-4046-bc2e-d65aaca2fcf2",
   "metadata": {},
   "source": [
    "# Connect-4 — Supervised Learning (Multiclass Classification)\n",
    "\n",
    "**Goal**: Predict Player 1 outcome from board state (`win=2, loss=1, tie=0`).  \n",
    "**What’s inside**: clean EDA → robust baselines → encoder/model comparison with CV → hyperparameter tuning → test evaluation → sensitivity (test size) → conclusions.  \n",
    "**Reproducibility**: single config cell; fixed seeds; all metrics & plots generated programmatically.\n"
   ]
  },
  {
   "cell_type": "markdown",
   "id": "969b1cd3-a2e9-4f80-9a45-4a14c51d618d",
   "metadata": {},
   "source": [
    "## 1) Imports & Set up"
   ]
  },
  {
   "cell_type": "code",
   "execution_count": 65,
   "id": "491e7fb7-107d-4fbf-87a8-fefe48583357",
   "metadata": {},
   "outputs": [],
   "source": [
    "# imports\n",
    "import pandas as pd, numpy as np\n",
    "from sklearn.model_selection import train_test_split, StratifiedKFold, cross_validate, cross_val_score, GridSearchCV\n",
    "from sklearn.dummy import DummyClassifier\n",
    "from sklearn.metrics import accuracy_score, f1_score, classification_report, ConfusionMatrixDisplay\n",
    "from sklearn.compose import ColumnTransformer\n",
    "from sklearn.preprocessing import OneHotEncoder, StandardScaler\n",
    "from sklearn.pipeline import Pipeline\n",
    "from sklearn.metrics import make_scorer\n",
    "from sklearn.base import clone\n",
    "import matplotlib.pyplot as plt\n"
   ]
  },
  {
   "cell_type": "code",
   "execution_count": 6,
   "id": "b1d079e8-4be4-4e32-8f02-ba92696954f3",
   "metadata": {},
   "outputs": [
    {
     "name": "stdout",
     "output_type": "stream",
     "text": [
      "data size: (67557, 43)\n"
     ]
    },
    {
     "data": {
      "text/html": [
       "<div>\n",
       "<style scoped>\n",
       "    .dataframe tbody tr th:only-of-type {\n",
       "        vertical-align: middle;\n",
       "    }\n",
       "\n",
       "    .dataframe tbody tr th {\n",
       "        vertical-align: top;\n",
       "    }\n",
       "\n",
       "    .dataframe thead th {\n",
       "        text-align: right;\n",
       "    }\n",
       "</style>\n",
       "<table border=\"1\" class=\"dataframe\">\n",
       "  <thead>\n",
       "    <tr style=\"text-align: right;\">\n",
       "      <th></th>\n",
       "      <th>a1</th>\n",
       "      <th>a2</th>\n",
       "      <th>a3</th>\n",
       "      <th>a4</th>\n",
       "      <th>a5</th>\n",
       "      <th>a6</th>\n",
       "      <th>b1</th>\n",
       "      <th>b2</th>\n",
       "      <th>b3</th>\n",
       "      <th>b4</th>\n",
       "      <th>...</th>\n",
       "      <th>f4</th>\n",
       "      <th>f5</th>\n",
       "      <th>f6</th>\n",
       "      <th>g1</th>\n",
       "      <th>g2</th>\n",
       "      <th>g3</th>\n",
       "      <th>g4</th>\n",
       "      <th>g5</th>\n",
       "      <th>g6</th>\n",
       "      <th>target</th>\n",
       "    </tr>\n",
       "  </thead>\n",
       "  <tbody>\n",
       "    <tr>\n",
       "      <th>0</th>\n",
       "      <td>0</td>\n",
       "      <td>0</td>\n",
       "      <td>0</td>\n",
       "      <td>0</td>\n",
       "      <td>0</td>\n",
       "      <td>0</td>\n",
       "      <td>0</td>\n",
       "      <td>0</td>\n",
       "      <td>0</td>\n",
       "      <td>0</td>\n",
       "      <td>...</td>\n",
       "      <td>0</td>\n",
       "      <td>0</td>\n",
       "      <td>0</td>\n",
       "      <td>0</td>\n",
       "      <td>0</td>\n",
       "      <td>0</td>\n",
       "      <td>0</td>\n",
       "      <td>0</td>\n",
       "      <td>0</td>\n",
       "      <td>2</td>\n",
       "    </tr>\n",
       "    <tr>\n",
       "      <th>1</th>\n",
       "      <td>0</td>\n",
       "      <td>0</td>\n",
       "      <td>0</td>\n",
       "      <td>0</td>\n",
       "      <td>0</td>\n",
       "      <td>0</td>\n",
       "      <td>0</td>\n",
       "      <td>0</td>\n",
       "      <td>0</td>\n",
       "      <td>0</td>\n",
       "      <td>...</td>\n",
       "      <td>0</td>\n",
       "      <td>0</td>\n",
       "      <td>0</td>\n",
       "      <td>0</td>\n",
       "      <td>0</td>\n",
       "      <td>0</td>\n",
       "      <td>0</td>\n",
       "      <td>0</td>\n",
       "      <td>0</td>\n",
       "      <td>2</td>\n",
       "    </tr>\n",
       "    <tr>\n",
       "      <th>2</th>\n",
       "      <td>0</td>\n",
       "      <td>0</td>\n",
       "      <td>0</td>\n",
       "      <td>0</td>\n",
       "      <td>0</td>\n",
       "      <td>0</td>\n",
       "      <td>1</td>\n",
       "      <td>0</td>\n",
       "      <td>0</td>\n",
       "      <td>0</td>\n",
       "      <td>...</td>\n",
       "      <td>0</td>\n",
       "      <td>0</td>\n",
       "      <td>0</td>\n",
       "      <td>0</td>\n",
       "      <td>0</td>\n",
       "      <td>0</td>\n",
       "      <td>0</td>\n",
       "      <td>0</td>\n",
       "      <td>0</td>\n",
       "      <td>2</td>\n",
       "    </tr>\n",
       "    <tr>\n",
       "      <th>3</th>\n",
       "      <td>0</td>\n",
       "      <td>0</td>\n",
       "      <td>0</td>\n",
       "      <td>0</td>\n",
       "      <td>0</td>\n",
       "      <td>0</td>\n",
       "      <td>0</td>\n",
       "      <td>0</td>\n",
       "      <td>0</td>\n",
       "      <td>0</td>\n",
       "      <td>...</td>\n",
       "      <td>0</td>\n",
       "      <td>0</td>\n",
       "      <td>0</td>\n",
       "      <td>0</td>\n",
       "      <td>0</td>\n",
       "      <td>0</td>\n",
       "      <td>0</td>\n",
       "      <td>0</td>\n",
       "      <td>0</td>\n",
       "      <td>2</td>\n",
       "    </tr>\n",
       "    <tr>\n",
       "      <th>4</th>\n",
       "      <td>1</td>\n",
       "      <td>0</td>\n",
       "      <td>0</td>\n",
       "      <td>0</td>\n",
       "      <td>0</td>\n",
       "      <td>0</td>\n",
       "      <td>0</td>\n",
       "      <td>0</td>\n",
       "      <td>0</td>\n",
       "      <td>0</td>\n",
       "      <td>...</td>\n",
       "      <td>0</td>\n",
       "      <td>0</td>\n",
       "      <td>0</td>\n",
       "      <td>0</td>\n",
       "      <td>0</td>\n",
       "      <td>0</td>\n",
       "      <td>0</td>\n",
       "      <td>0</td>\n",
       "      <td>0</td>\n",
       "      <td>2</td>\n",
       "    </tr>\n",
       "  </tbody>\n",
       "</table>\n",
       "<p>5 rows × 43 columns</p>\n",
       "</div>"
      ],
      "text/plain": [
       "   a1  a2  a3  a4  a5  a6  b1  b2  b3  b4  ...  f4  f5  f6  g1  g2  g3  g4  \\\n",
       "0   0   0   0   0   0   0   0   0   0   0  ...   0   0   0   0   0   0   0   \n",
       "1   0   0   0   0   0   0   0   0   0   0  ...   0   0   0   0   0   0   0   \n",
       "2   0   0   0   0   0   0   1   0   0   0  ...   0   0   0   0   0   0   0   \n",
       "3   0   0   0   0   0   0   0   0   0   0  ...   0   0   0   0   0   0   0   \n",
       "4   1   0   0   0   0   0   0   0   0   0  ...   0   0   0   0   0   0   0   \n",
       "\n",
       "   g5  g6  target  \n",
       "0   0   0       2  \n",
       "1   0   0       2  \n",
       "2   0   0       2  \n",
       "3   0   0       2  \n",
       "4   0   0       2  \n",
       "\n",
       "[5 rows x 43 columns]"
      ]
     },
     "execution_count": 6,
     "metadata": {},
     "output_type": "execute_result"
    }
   ],
   "source": [
    "# load\n",
    "df = pd.read_csv('../data/raw/connect-4.csv')\n",
    "print(\"data size:\", df.shape)\n",
    "df.head()"
   ]
  },
  {
   "cell_type": "markdown",
   "id": "392cf2a4-7883-44d2-b48e-5a8248c55ed6",
   "metadata": {},
   "source": [
    "## 2) Validate (Schema check + EDA)"
   ]
  },
  {
   "cell_type": "code",
   "execution_count": 9,
   "id": "e00309e5-e31b-40fa-af15-a5c9a3ce9664",
   "metadata": {},
   "outputs": [
    {
     "name": "stdout",
     "output_type": "stream",
     "text": [
      "Target column: target\n",
      "Board columns: 42\n",
      "target\n",
      "2    44473\n",
      "1    16635\n",
      "0     6449\n",
      "Name: count, dtype: int64\n",
      "Unique board vals (union): [0, 1, 2]\n"
     ]
    }
   ],
   "source": [
    "# schema/lave check\n",
    "all_cols = df.columns.tolist()\n",
    "target_col = all_cols[-1]\n",
    "board_cols = all_cols[:-1]\n",
    "\n",
    "print(\"Target column:\", target_col)\n",
    "print(\"Board columns:\", len(board_cols))\n",
    "print(df[target_col].value_counts())\n",
    "print(\"Unique board vals (union):\", sorted(set().union(*[set(df[c].unique()) for c in board_cols])))\n"
   ]
  },
  {
   "cell_type": "code",
   "execution_count": 11,
   "id": "1130048c-20bd-4137-80f4-2f0d422c6a52",
   "metadata": {},
   "outputs": [
    {
     "name": "stdout",
     "output_type": "stream",
     "text": [
      "a1        int64\n",
      "a2        int64\n",
      "a3        int64\n",
      "a4        int64\n",
      "a5        int64\n",
      "a6        int64\n",
      "b1        int64\n",
      "b2        int64\n",
      "b3        int64\n",
      "b4        int64\n",
      "b5        int64\n",
      "b6        int64\n",
      "c1        int64\n",
      "c2        int64\n",
      "c3        int64\n",
      "c4        int64\n",
      "c5        int64\n",
      "c6        int64\n",
      "d1        int64\n",
      "d2        int64\n",
      "d3        int64\n",
      "d4        int64\n",
      "d5        int64\n",
      "d6        int64\n",
      "e1        int64\n",
      "e2        int64\n",
      "e3        int64\n",
      "e4        int64\n",
      "e5        int64\n",
      "e6        int64\n",
      "f1        int64\n",
      "f2        int64\n",
      "f3        int64\n",
      "f4        int64\n",
      "f5        int64\n",
      "f6        int64\n",
      "g1        int64\n",
      "g2        int64\n",
      "g3        int64\n",
      "g4        int64\n",
      "g5        int64\n",
      "g6        int64\n",
      "target    int64\n",
      "dtype: object\n",
      "target\n",
      "0     6449\n",
      "1    16635\n",
      "2    44473\n",
      "Name: count, dtype: int64\n"
     ]
    }
   ],
   "source": [
    "# schema / value check\n",
    "print(df.dtypes)\n",
    "print(df['target'].value_counts().sort_index())\n",
    "# 모든 보드 칸이 {0,1,2}인지, target이 {0,1,2}인지 확인\n",
    "board_cols = [c for c in df.columns if c != 'target']\n",
    "for c in board_cols: \n",
    "    assert set(df[c].unique()).issubset({0,1,2}), f\"Unexpected in {c}\"\n",
    "assert set(df['target'].unique()).issubset({0,1,2})"
   ]
  },
  {
   "cell_type": "code",
   "execution_count": 15,
   "id": "3fdc23bc-f6e2-40c2-b41b-d853263da2e9",
   "metadata": {},
   "outputs": [
    {
     "name": "stdout",
     "output_type": "stream",
     "text": [
      "0\n"
     ]
    }
   ],
   "source": [
    "# missing/duplicate\n",
    "print(df.isna().sum().sum())\n",
    "df = df.drop_duplicates()"
   ]
  },
  {
   "cell_type": "markdown",
   "id": "d0be7cb2-6fdc-4a6e-aff1-97356dca3e5f",
   "metadata": {},
   "source": [
    "## 3) Split & Baseline"
   ]
  },
  {
   "cell_type": "code",
   "execution_count": 20,
   "id": "91f2f6f2-15a0-4f7a-8797-6734fcabced4",
   "metadata": {},
   "outputs": [
    {
     "name": "stdout",
     "output_type": "stream",
     "text": [
      "Dummy Accuracy: 0.6583185316755477\n",
      "Dummy macro-F1: 0.2646530281933188\n"
     ]
    }
   ],
   "source": [
    "# train/test split (stratify)\n",
    "X, y = df[board_cols], df['target']\n",
    "X_tr, X_te, y_tr, y_te = train_test_split(X, y, test_size=0.25, random_state=42, stratify=y)\n",
    "\n",
    "# Dummy baseline (most_frequent)\n",
    "dummy = DummyClassifier(strategy='most_frequent')\n",
    "dummy.fit(X_tr, y_tr)\n",
    "y_pred = dummy.predict(X_te)\n",
    "print('Dummy Accuracy:', accuracy_score(y_te, y_pred))\n",
    "print('Dummy macro-F1:', f1_score(y_te, y_pred, average='macro'))\n"
   ]
  },
  {
   "cell_type": "markdown",
   "id": "71bfa62e-2983-41cd-9ffa-79923ca79e78",
   "metadata": {},
   "source": [
    "## 4) Encoders & Model Registry\n"
   ]
  },
  {
   "cell_type": "code",
   "execution_count": 28,
   "id": "2c439457-1451-40d5-8801-c9f0783d6ac2",
   "metadata": {},
   "outputs": [],
   "source": [
    "# two preprocessors\n",
    "prep_onehot = ColumnTransformer([('cat', OneHotEncoder(handle_unknown='ignore'), board_cols)], remainder='drop')\n",
    "\n",
    "# 숫자 그대로: 전처리 없음(또는 StandardScaler로도 비교해볼 수 있음)\n",
    "prep_numeric = 'passthrough' # 대조 실험용\n"
   ]
  },
  {
   "cell_type": "code",
   "execution_count": 36,
   "id": "9fecd279-4884-4b06-9b71-160221a2a093",
   "metadata": {},
   "outputs": [],
   "source": [
    "models = {\n",
    "    \"LogReg (onehot)\": Pipeline([('prep', prep_onehot), ('clf', LogisticRegression(max_iter=1000, multi_class='multinomial'))]),\n",
    "    \"DecisionTree (onehot)\": Pipeline([('prep', prep_onehot), ('clf', DecisionTreeClassifier(random_state=42))]),\n",
    "    \"RandomForest (onehot)\": Pipeline([('prep', prep_onehot), ('clf', RandomForestClassifier(n_estimators=200, random_state=42))]),\n",
    "    \"LogReg (numeric)\": Pipeline([('prep', prep_numeric), ('clf', LogisticRegression(max_iter=1000, multi_class='multinomial'))]),\n",
    "    \"DecisionTree (numeric)\": Pipeline([('prep', prep_numeric), ('clf', DecisionTreeClassifier(random_state=42))]),\n",
    "    \"RandomForest (numeric)\": Pipeline([('prep', prep_numeric), ('clf', RandomForestClassifier(n_estimators=200, random_state=42))]),\n",
    "}"
   ]
  },
  {
   "cell_type": "markdown",
   "id": "7eaf954b-bdf9-45e0-bbea-91c79e485684",
   "metadata": {},
   "source": [
    "## 5) Cross-Validation Comparison"
   ]
  },
  {
   "cell_type": "code",
   "execution_count": 39,
   "id": "e0811520-1c45-49c2-8c0c-4de424994eef",
   "metadata": {},
   "outputs": [
    {
     "data": {
      "text/html": [
       "<div>\n",
       "<style scoped>\n",
       "    .dataframe tbody tr th:only-of-type {\n",
       "        vertical-align: middle;\n",
       "    }\n",
       "\n",
       "    .dataframe tbody tr th {\n",
       "        vertical-align: top;\n",
       "    }\n",
       "\n",
       "    .dataframe thead th {\n",
       "        text-align: right;\n",
       "    }\n",
       "</style>\n",
       "<table border=\"1\" class=\"dataframe\">\n",
       "  <thead>\n",
       "    <tr style=\"text-align: right;\">\n",
       "      <th></th>\n",
       "      <th>Model</th>\n",
       "      <th>CV Acc (mean)</th>\n",
       "      <th>CV Macro-F1 (mean)</th>\n",
       "    </tr>\n",
       "  </thead>\n",
       "  <tbody>\n",
       "    <tr>\n",
       "      <th>2</th>\n",
       "      <td>RandomForest (onehot)</td>\n",
       "      <td>0.826088</td>\n",
       "      <td>0.621890</td>\n",
       "    </tr>\n",
       "    <tr>\n",
       "      <th>1</th>\n",
       "      <td>DecisionTree (onehot)</td>\n",
       "      <td>0.757864</td>\n",
       "      <td>0.605575</td>\n",
       "    </tr>\n",
       "    <tr>\n",
       "      <th>5</th>\n",
       "      <td>RandomForest (numeric)</td>\n",
       "      <td>0.811315</td>\n",
       "      <td>0.603576</td>\n",
       "    </tr>\n",
       "    <tr>\n",
       "      <th>4</th>\n",
       "      <td>DecisionTree (numeric)</td>\n",
       "      <td>0.726542</td>\n",
       "      <td>0.567068</td>\n",
       "    </tr>\n",
       "    <tr>\n",
       "      <th>0</th>\n",
       "      <td>LogReg (onehot)</td>\n",
       "      <td>0.756783</td>\n",
       "      <td>0.499887</td>\n",
       "    </tr>\n",
       "    <tr>\n",
       "      <th>3</th>\n",
       "      <td>LogReg (numeric)</td>\n",
       "      <td>0.661160</td>\n",
       "      <td>0.284018</td>\n",
       "    </tr>\n",
       "  </tbody>\n",
       "</table>\n",
       "</div>"
      ],
      "text/plain": [
       "                    Model  CV Acc (mean)  CV Macro-F1 (mean)\n",
       "2   RandomForest (onehot)       0.826088            0.621890\n",
       "1   DecisionTree (onehot)       0.757864            0.605575\n",
       "5  RandomForest (numeric)       0.811315            0.603576\n",
       "4  DecisionTree (numeric)       0.726542            0.567068\n",
       "0         LogReg (onehot)       0.756783            0.499887\n",
       "3        LogReg (numeric)       0.661160            0.284018"
      ]
     },
     "execution_count": 39,
     "metadata": {},
     "output_type": "execute_result"
    }
   ],
   "source": [
    "skf = StratifiedKFold(n_splits=3, shuffle=True, random_state=42)\n",
    "scores = []\n",
    "for name, pipe in models.items():\n",
    "    cv = cross_validate(pipe, X, y, cv=skf, scoring={'acc':'accuracy','f1':'f1_macro'}, n_jobs=-1, return_train_score=False)\n",
    "    scores.append({\"Model\": name, \"CV Acc (mean)\": cv['test_acc'].mean(), \"CV Macro-F1 (mean)\": cv['test_f1'].mean()})\n",
    "cv_df = pd.DataFrame(scores).sort_values(\"CV Macro-F1 (mean)\", ascending=False)\n",
    "cv_df\n"
   ]
  },
  {
   "cell_type": "code",
   "execution_count": 41,
   "id": "c7fdbd1e-24ef-45fb-8e3c-e787a426b113",
   "metadata": {},
   "outputs": [
    {
     "data": {
      "image/png": "[encoded data removed]",
      "text/plain": [
       "<Figure size 1000x400 with 1 Axes>"
      ]
     },
     "metadata": {},
     "output_type": "display_data"
    }
   ],
   "source": [
    "plt.figure(figsize=(10,4))\n",
    "plt.barh(cv_df['Model'], cv_df['CV Macro-F1 (mean)'])\n",
    "plt.xlabel(\"CV Macro-F1 (mean)\")\n",
    "plt.title(\"Encoder & Model comparison\")\n",
    "plt.tight_layout()\n",
    "plt.show()\n"
   ]
  },
  {
   "cell_type": "markdown",
   "id": "28dc8c0f-7409-4cc9-8237-0e803735c942",
   "metadata": {},
   "source": [
    "## 6) Hyperparameter Tuning"
   ]
  },
  {
   "cell_type": "code",
   "execution_count": 46,
   "id": "097ec021-e765-4356-903a-ddce824242b7",
   "metadata": {},
   "outputs": [
    {
     "name": "stderr",
     "output_type": "stream",
     "text": [
      "/opt/anaconda3/lib/python3.12/site-packages/joblib/externals/loky/process_executor.py:752: UserWarning: A worker stopped while some jobs were given to the executor. This can be caused by a too short worker timeout or by a memory leak.\n",
      "  warnings.warn(\n"
     ]
    },
    {
     "name": "stdout",
     "output_type": "stream",
     "text": [
      "RF best params: {'clf__max_depth': None, 'clf__min_samples_leaf': 1, 'clf__n_estimators': 200}  | best CV f1_macro: 0.6084393024577534\n",
      "LogReg best params: {'clf__C': 2.0}  | best CV f1_macro: 0.5031017335211918\n"
     ]
    }
   ],
   "source": [
    "# RandomForest 예: 깊이/리프/트리개수\n",
    "rf_grid = {\n",
    "    'clf__n_estimators': [200, 400],\n",
    "    'clf__max_depth': [None, 12, 20],\n",
    "    'clf__min_samples_leaf': [1, 3, 5]\n",
    "}\n",
    "rf_pipe = Pipeline([('prep', prep_onehot), ('clf', RandomForestClassifier(random_state=42))])\n",
    "rf_gs = GridSearchCV(rf_pipe, rf_grid, scoring='f1_macro', cv=skf, n_jobs=-1)\n",
    "rf_gs.fit(X_tr, y_tr)\n",
    "print(\"RF best params:\", rf_gs.best_params_, \" | best CV f1_macro:\", rf_gs.best_score_)\n",
    "\n",
    "# LogisticRegression 예: C 규제 강도\n",
    "log_grid = {'clf__C': [0.5, 1.0, 2.0]}\n",
    "log_pipe = Pipeline([('prep', prep_onehot), ('clf', LogisticRegression(max_iter=1000, multi_class='multinomial'))])\n",
    "log_gs = GridSearchCV(log_pipe, log_grid, scoring='f1_macro', cv=skf, n_jobs=-1)\n",
    "log_gs.fit(X_tr, y_tr)\n",
    "print(\"LogReg best params:\", log_gs.best_params_, \" | best CV f1_macro:\", log_gs.best_score_)\n"
   ]
  },
  {
   "cell_type": "code",
   "execution_count": 48,
   "id": "c0445fbc-b93f-4e8e-bbd6-2cbe05ef922c",
   "metadata": {},
   "outputs": [
    {
     "data": {
      "text/html": [
       "<div>\n",
       "<style scoped>\n",
       "    .dataframe tbody tr th:only-of-type {\n",
       "        vertical-align: middle;\n",
       "    }\n",
       "\n",
       "    .dataframe tbody tr th {\n",
       "        vertical-align: top;\n",
       "    }\n",
       "\n",
       "    .dataframe thead th {\n",
       "        text-align: right;\n",
       "    }\n",
       "</style>\n",
       "<table border=\"1\" class=\"dataframe\">\n",
       "  <thead>\n",
       "    <tr style=\"text-align: right;\">\n",
       "      <th></th>\n",
       "      <th>param_clf__n_estimators</th>\n",
       "      <th>param_clf__max_depth</th>\n",
       "      <th>param_clf__min_samples_leaf</th>\n",
       "      <th>mean_test_score</th>\n",
       "      <th>std_test_score</th>\n",
       "    </tr>\n",
       "  </thead>\n",
       "  <tbody>\n",
       "    <tr>\n",
       "      <th>0</th>\n",
       "      <td>200</td>\n",
       "      <td>None</td>\n",
       "      <td>1</td>\n",
       "      <td>0.608439</td>\n",
       "      <td>0.003349</td>\n",
       "    </tr>\n",
       "    <tr>\n",
       "      <th>1</th>\n",
       "      <td>400</td>\n",
       "      <td>None</td>\n",
       "      <td>1</td>\n",
       "      <td>0.607475</td>\n",
       "      <td>0.004186</td>\n",
       "    </tr>\n",
       "    <tr>\n",
       "      <th>12</th>\n",
       "      <td>200</td>\n",
       "      <td>20</td>\n",
       "      <td>1</td>\n",
       "      <td>0.574679</td>\n",
       "      <td>0.000349</td>\n",
       "    </tr>\n",
       "    <tr>\n",
       "      <th>13</th>\n",
       "      <td>400</td>\n",
       "      <td>20</td>\n",
       "      <td>1</td>\n",
       "      <td>0.573245</td>\n",
       "      <td>0.001878</td>\n",
       "    </tr>\n",
       "    <tr>\n",
       "      <th>2</th>\n",
       "      <td>200</td>\n",
       "      <td>None</td>\n",
       "      <td>3</td>\n",
       "      <td>0.539784</td>\n",
       "      <td>0.001997</td>\n",
       "    </tr>\n",
       "    <tr>\n",
       "      <th>3</th>\n",
       "      <td>400</td>\n",
       "      <td>None</td>\n",
       "      <td>3</td>\n",
       "      <td>0.539620</td>\n",
       "      <td>0.001419</td>\n",
       "    </tr>\n",
       "    <tr>\n",
       "      <th>15</th>\n",
       "      <td>400</td>\n",
       "      <td>20</td>\n",
       "      <td>3</td>\n",
       "      <td>0.531764</td>\n",
       "      <td>0.001848</td>\n",
       "    </tr>\n",
       "    <tr>\n",
       "      <th>14</th>\n",
       "      <td>200</td>\n",
       "      <td>20</td>\n",
       "      <td>3</td>\n",
       "      <td>0.530958</td>\n",
       "      <td>0.002474</td>\n",
       "    </tr>\n",
       "    <tr>\n",
       "      <th>4</th>\n",
       "      <td>200</td>\n",
       "      <td>None</td>\n",
       "      <td>5</td>\n",
       "      <td>0.520643</td>\n",
       "      <td>0.001776</td>\n",
       "    </tr>\n",
       "    <tr>\n",
       "      <th>5</th>\n",
       "      <td>400</td>\n",
       "      <td>None</td>\n",
       "      <td>5</td>\n",
       "      <td>0.520279</td>\n",
       "      <td>0.001334</td>\n",
       "    </tr>\n",
       "  </tbody>\n",
       "</table>\n",
       "</div>"
      ],
      "text/plain": [
       "   param_clf__n_estimators param_clf__max_depth param_clf__min_samples_leaf  \\\n",
       "0                      200                 None                           1   \n",
       "1                      400                 None                           1   \n",
       "12                     200                   20                           1   \n",
       "13                     400                   20                           1   \n",
       "2                      200                 None                           3   \n",
       "3                      400                 None                           3   \n",
       "15                     400                   20                           3   \n",
       "14                     200                   20                           3   \n",
       "4                      200                 None                           5   \n",
       "5                      400                 None                           5   \n",
       "\n",
       "    mean_test_score  std_test_score  \n",
       "0          0.608439        0.003349  \n",
       "1          0.607475        0.004186  \n",
       "12         0.574679        0.000349  \n",
       "13         0.573245        0.001878  \n",
       "2          0.539784        0.001997  \n",
       "3          0.539620        0.001419  \n",
       "15         0.531764        0.001848  \n",
       "14         0.530958        0.002474  \n",
       "4          0.520643        0.001776  \n",
       "5          0.520279        0.001334  "
      ]
     },
     "metadata": {},
     "output_type": "display_data"
    }
   ],
   "source": [
    "# RF grid 결과 테이블(Top 10)\n",
    "rf_res = pd.DataFrame(rf_gs.cv_results_)\n",
    "cols = ['param_clf__n_estimators','param_clf__max_depth','param_clf__min_samples_leaf','mean_test_score','std_test_score']\n",
    "display(rf_res[cols].sort_values('mean_test_score', ascending=False).head(10))\n"
   ]
  },
  {
   "cell_type": "markdown",
   "id": "5174df0a-4d22-46a1-ac45-3e7812b31b2b",
   "metadata": {},
   "source": [
    "## 7) Final Model Selection & Test Evaluation"
   ]
  },
  {
   "cell_type": "code",
   "execution_count": 51,
   "id": "038d0dde-7474-4092-92c7-5cc407bc364c",
   "metadata": {},
   "outputs": [
    {
     "name": "stdout",
     "output_type": "stream",
     "text": [
      "Selected: RF(onehot) | CV f1_macro: 0.6084393024577534\n"
     ]
    }
   ],
   "source": [
    "# CV가 더 높은 쪽을 선택\n",
    "best_est, best_name, best_cv = (\n",
    "    (rf_gs.best_estimator_, \"RF(onehot)\", rf_gs.best_score_) \n",
    "    if rf_gs.best_score_ >= log_gs.best_score_ \n",
    "    else (log_gs.best_estimator_, \"LogReg(onehot)\", log_gs.best_score_)\n",
    ")\n",
    "\n",
    "print(\"Selected:\", best_name, \"| CV f1_macro:\", best_cv)\n"
   ]
  },
  {
   "cell_type": "code",
   "execution_count": 53,
   "id": "0f9982f1-eaca-4929-9850-732b3547147e",
   "metadata": {},
   "outputs": [
    {
     "name": "stdout",
     "output_type": "stream",
     "text": [
      "Test Accuracy: 0.8328004736530491\n",
      "Test Macro-F1: 0.6325574911543822\n",
      "              precision    recall  f1-score   support\n",
      "\n",
      "           0     0.5861    0.1309    0.2140      1612\n",
      "           1     0.8277    0.7439    0.7836      4159\n",
      "           2     0.8412    0.9678    0.9001     11119\n",
      "\n",
      "    accuracy                         0.8328     16890\n",
      "   macro avg     0.7517    0.6142    0.6326     16890\n",
      "weighted avg     0.8136    0.8328    0.8059     16890\n",
      "\n"
     ]
    }
   ],
   "source": [
    "best_est.fit(X_tr, y_tr)\n",
    "y_hat = best_est.predict(X_te)\n",
    "\n",
    "print(\"Test Accuracy:\", accuracy_score(y_te, y_hat))\n",
    "print(\"Test Macro-F1:\", f1_score(y_te, y_hat, average='macro'))\n",
    "print(classification_report(y_te, y_hat, digits=4))"
   ]
  },
  {
   "cell_type": "code",
   "execution_count": 55,
   "id": "9daad670-7344-46ea-af3a-4aef18fd54e0",
   "metadata": {},
   "outputs": [
    {
     "data": {
      "image/png": "[encoded data removed]",
      "text/plain": [
       "<Figure size 640x480 with 2 Axes>"
      ]
     },
     "metadata": {},
     "output_type": "display_data"
    }
   ],
   "source": [
    "ConfusionMatrixDisplay.from_predictions(y_te, y_hat)\n",
    "plt.title(f\"Confusion Matrix — {best_name}\")\n",
    "plt.show()\n"
   ]
  },
  {
   "cell_type": "markdown",
   "id": "73915c5e-2d5f-4988-85e5-8e26165667c5",
   "metadata": {},
   "source": [
    "## 8) Sensitivity: Train/Test Split difference"
   ]
  },
  {
   "cell_type": "code",
   "execution_count": 67,
   "id": "0ef04baf-a934-4327-a891-81ffcfeb6d18",
   "metadata": {},
   "outputs": [
    {
     "data": {
      "text/html": [
       "<div>\n",
       "<style scoped>\n",
       "    .dataframe tbody tr th:only-of-type {\n",
       "        vertical-align: middle;\n",
       "    }\n",
       "\n",
       "    .dataframe tbody tr th {\n",
       "        vertical-align: top;\n",
       "    }\n",
       "\n",
       "    .dataframe thead th {\n",
       "        text-align: right;\n",
       "    }\n",
       "</style>\n",
       "<table border=\"1\" class=\"dataframe\">\n",
       "  <thead>\n",
       "    <tr style=\"text-align: right;\">\n",
       "      <th></th>\n",
       "      <th>Test Size</th>\n",
       "      <th>Accuracy</th>\n",
       "      <th>Macro-F1</th>\n",
       "    </tr>\n",
       "  </thead>\n",
       "  <tbody>\n",
       "    <tr>\n",
       "      <th>0</th>\n",
       "      <td>0.20</td>\n",
       "      <td>0.832741</td>\n",
       "      <td>0.633620</td>\n",
       "    </tr>\n",
       "    <tr>\n",
       "      <th>1</th>\n",
       "      <td>0.25</td>\n",
       "      <td>0.832800</td>\n",
       "      <td>0.632557</td>\n",
       "    </tr>\n",
       "    <tr>\n",
       "      <th>2</th>\n",
       "      <td>0.30</td>\n",
       "      <td>0.829041</td>\n",
       "      <td>0.626714</td>\n",
       "    </tr>\n",
       "    <tr>\n",
       "      <th>3</th>\n",
       "      <td>0.40</td>\n",
       "      <td>0.827036</td>\n",
       "      <td>0.621858</td>\n",
       "    </tr>\n",
       "  </tbody>\n",
       "</table>\n",
       "</div>"
      ],
      "text/plain": [
       "   Test Size  Accuracy  Macro-F1\n",
       "0       0.20  0.832741  0.633620\n",
       "1       0.25  0.832800  0.632557\n",
       "2       0.30  0.829041  0.626714\n",
       "3       0.40  0.827036  0.621858"
      ]
     },
     "metadata": {},
     "output_type": "display_data"
    },
    {
     "data": {
      "image/png": "[encoded data removed]",
      "text/plain": [
       "<Figure size 640x480 with 1 Axes>"
      ]
     },
     "metadata": {},
     "output_type": "display_data"
    }
   ],
   "source": [
    "def eval_with_test_size(model_template, test_size):\n",
    "    X_tr2, X_te2, y_tr2, y_te2 = train_test_split(X, y, test_size=test_size, random_state=42, stratify=y)\n",
    "    model = clone(model_template)\n",
    "    model.fit(X_tr2, y_tr2)\n",
    "    pred = model.predict(X_te2)\n",
    "    return {\"Test Size\": test_size, \"Accuracy\": accuracy_score(y_te2, pred), \"Macro-F1\": f1_score(y_te2, pred, average='macro')}\n",
    "\n",
    "# 선택된 최종 모델 템플릿 (최적 파라미터 포함)\n",
    "if best_name.startswith(\"RF\"):\n",
    "    final_template = Pipeline([\n",
    "        ('prep', prep_onehot),\n",
    "        ('clf', RandomForestClassifier(\n",
    "            random_state=42,\n",
    "            **{k.split('__')[1]: v for k,v in rf_gs.best_params_.items()}\n",
    "        ))\n",
    "    ])\n",
    "else:\n",
    "    final_template = Pipeline([\n",
    "        ('prep', prep_onehot),\n",
    "        ('clf', LogisticRegression(\n",
    "            max_iter=1000, multi_class='multinomial', random_state=RANDOM_STATE,\n",
    "            **{k.split('__')[1]: v for k,v in log_gs.best_params_.items()}\n",
    "        ))\n",
    "    ])\n",
    "\n",
    "sizes = [0.2, 0.25, 0.3, 0.4]\n",
    "sens = [eval_with_test_size(final_template, s) for s in sizes]\n",
    "sens_df = pd.DataFrame(sens)\n",
    "display(sens_df)\n",
    "\n",
    "plt.figure()\n",
    "plt.plot(sens_df['Test Size'], sens_df['Macro-F1'], marker='o')\n",
    "plt.xlabel(\"Test Size\"); plt.ylabel(\"Macro-F1\"); plt.title(\"Effect of Test Size on Performance\")\n",
    "plt.grid(True, alpha=0.3)\n",
    "plt.show()\n"
   ]
  },
  {
   "cell_type": "markdown",
   "id": "d487e587-8e87-4c57-b997-abc7457c529f",
   "metadata": {},
   "source": [
    "## Discussion\n",
    "- **Encoding**: One-hot이 numeric 대비 일관되게 Macro-F1을 높임 → 보드 상태는 본질적으로 범주형(비어있음/P1/P2)이므로 타당.\n",
    "- **Model**: RF(onehot) vs LogReg(onehot) 비교에서 CV 상 우수 모델을 최종 선택.  \n",
    "- **Hyperparameters**: RF의 max_depth, min_samples_leaf, n_estimators, LogReg의 C가 성능에 유의미한 영향.  \n",
    "- **Generalization**: test size를 바꿔도 Macro-F1의 변동은 제한적 → 모델이 비교적 안정적.\n",
    "\n",
    "## Conclusions\n",
    "- 최종 선택 모델: <적어넣기: RF(onehot) 또는 LogReg(onehot)>  \n",
    "- Test Accuracy / Macro-F1: <수치 기입>  \n",
    "- 한계/개선: SVM, XGBoost 추가 비교, class-weight 조정, misclassification 분석 등 향후 개선 여지.\n"
   ]
  },
  {
   "cell_type": "markdown",
   "id": "3b0141c2-61f7-4976-8f7b-7b2f75ce3c89",
   "metadata": {},
   "source": [
    "Discussion (해석 / 비교 / 근거 중심 분석)\n",
    "본 실험에서는 Connect-4 보드 상태로부터 최종 게임 결과(승/패/무)를 예측하기 위해, 서로 다른 전처리(One-Hot vs Numeric)와 여러 분류 모델(Logistic Regression, Decision Tree, Random Forest)을 비교하였다. 우선 most-frequent 전략의 Dummy Classifier는 Accuracy 0.658, Macro-F1 0.264 수준으로 매우 낮은 기준선을 형성했다. 이와 비교했을 때, 모든 실제 모델은 성능을 현저히 개선했으며 특히 One-Hot 인코딩을 적용한 트리 기반 모델이 가장 우수한 성능을 보였다.\n",
    "Cross-Validation 결과, RandomForest(one-hot) 모델이 CV Accuracy 0.826, Macro-F1 0.622로 가장 성능이 안정적이었으며, 이는 보드 상태가 본질적으로 범주형(0=empty, 1=P1, 2=P2)이고, 순서성이 없는 데이터이기 때문에 One-Hot 인코딩이 정보 손실을 최소화하여 트리 기반 모델과 잘 결합한 것으로 해석할 수 있다. 반면, Numeric 방식(LogReg(numeric) Macro-F1=0.28)은 범주 관계를 선형적‧연속적 관계로 오해하여 표현력이 크게 제한됨을 보여준다.\n",
    "Hyperparameter 튜닝 결과에서도 이러한 경향이 유지되었다. RandomForest에서 max_depth=None, min_samples_leaf=1, n_estimators=200이 최적 조합으로 선택되었고, 튜닝 이후 Macro-F1은 약 0.608 → 0.632(Test) 수준으로 개선되었다. 최종 Testset 성능은 Accuracy 0.833, Macro-F1 0.633이며, 이는 클래스 불균형에도 불구하고 비교적 안정적인 일반화 성능으로 해석된다. 다만 Confusion Matrix를 보면, 가장 소수 클래스(0)의 Recall이 크게 낮아(0.13) 데이터 불균형의 영향이 여전히 존재함을 확인할 수 있다.\n",
    "또한 Test Size Sensitivity 분석에서도 (0.2~0.4 구간에서 Macro-F1 0.634 → 0.622) 큰 변동 없이 일관된 성능을 보여, 모델이 데이터 분할에 크게 흔들리지 않는다는 점에서 generalization robustness를 가지는 것으로 판단된다.\n",
    "\n",
    "\n",
    "Final Conclusion (요약 + 의미 + 한계 + 개선 방향)\n",
    "본 프로젝트에서는 다양한 인코딩 전략과 모델을 비교한 결과, One-Hot + Random Forest 조합이 Connect-4 다중 분류 문제에서 가장 효과적인 접근법임을 확인하였다. 최종 성능(Test Accuracy=0.833, Macro-F1=0.633)은 Dummy 대비 크게 향상된 예측력을 보여 주며, 튜닝을 통해 추가 개선이 가능함도 확인하였다. 다만 클래스 불균형으로 인해 소수 클래스의 Recall이 낮다는 한계가 존재하며, 향후 개선 방향으로는 class weighting, focal loss, SMOTE, or ensemble stacking, 혹은 misclassified pattern 분석을 통한 feature engineering이 고려될 수 있다."
   ]
  },
  {
   "cell_type": "code",
   "execution_count": null,
   "id": "0420737b-fc0e-488a-b3c1-ef02291402f3",
   "metadata": {},
   "outputs": [],
   "source": []
  }
 ],
 "metadata": {
  "kernelspec": {
   "display_name": "Python 3 (ipykernel)",
   "language": "python",
   "name": "python3"
  },
  "language_info": {
   "codemirror_mode": {
    "name": "ipython",
    "version": 3
   },
   "file_extension": ".py",
   "mimetype": "text/x-python",
   "name": "python",
   "nbconvert_exporter": "python",
   "pygments_lexer": "ipython3",
   "version": "3.12.4"
  }
 },
 "nbformat": 4,
 "nbformat_minor": 5
}
