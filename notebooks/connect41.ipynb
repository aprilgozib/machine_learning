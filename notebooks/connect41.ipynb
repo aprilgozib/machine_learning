{
 "cells": [
  {
   "cell_type": "markdown",
   "id": "14da7ca2-5b16-4199-a47f-e4bb675225b5",
   "metadata": {},
   "source": [
    "# Connect-4 — Supervised Learning (Classification)\n",
    "**Goal:** Predict game outcome for Player 1 (win/loss/tie) from board state.\n",
    "\n",
    "**Rubric coverage:** multiple models, hyperparameter tuning, multiple splits, rich metrics/graphs.\n"
   ]
  },
  {
   "cell_type": "markdown",
   "id": "7950ea86-b743-48c4-bc8a-37c43252fc46",
   "metadata": {},
   "source": [
    "# 셋업 & 데이터 적재"
   ]
  },
  {
   "cell_type": "code",
   "execution_count": 98,
   "id": "358a903b-fe94-44d2-af2d-3067e4a216c7",
   "metadata": {},
   "outputs": [],
   "source": [
    "# imports\n",
    "import pandas as pd, numpy as np\n",
    "from sklearn.model_selection import train_test_split, StratifiedKFold, cross_validate, cross_val_score, GridSearchCV\n",
    "from sklearn.dummy import DummyClassifier\n",
    "from sklearn.metrics import accuracy_score, f1_score, classification_report, ConfusionMatrixDisplay\n",
    "from sklearn.compose import ColumnTransformer\n",
    "from sklearn.preprocessing import OneHotEncoder, StandardScaler\n",
    "from sklearn.pipeline import Pipeline\n",
    "from sklearn.metrics import make_scorer\n",
    "import matplotlib.pyplot as plt\n"
   ]
  },
  {
   "cell_type": "code",
   "execution_count": 11,
   "id": "07f8749b-9c7e-478c-85f2-6f8c51e694e4",
   "metadata": {},
   "outputs": [
    {
     "name": "stdout",
     "output_type": "stream",
     "text": [
      "data size: (67557, 43)\n"
     ]
    },
    {
     "data": {
      "text/html": [
       "<div>\n",
       "<style scoped>\n",
       "    .dataframe tbody tr th:only-of-type {\n",
       "        vertical-align: middle;\n",
       "    }\n",
       "\n",
       "    .dataframe tbody tr th {\n",
       "        vertical-align: top;\n",
       "    }\n",
       "\n",
       "    .dataframe thead th {\n",
       "        text-align: right;\n",
       "    }\n",
       "</style>\n",
       "<table border=\"1\" class=\"dataframe\">\n",
       "  <thead>\n",
       "    <tr style=\"text-align: right;\">\n",
       "      <th></th>\n",
       "      <th>a1</th>\n",
       "      <th>a2</th>\n",
       "      <th>a3</th>\n",
       "      <th>a4</th>\n",
       "      <th>a5</th>\n",
       "      <th>a6</th>\n",
       "      <th>b1</th>\n",
       "      <th>b2</th>\n",
       "      <th>b3</th>\n",
       "      <th>b4</th>\n",
       "      <th>...</th>\n",
       "      <th>f4</th>\n",
       "      <th>f5</th>\n",
       "      <th>f6</th>\n",
       "      <th>g1</th>\n",
       "      <th>g2</th>\n",
       "      <th>g3</th>\n",
       "      <th>g4</th>\n",
       "      <th>g5</th>\n",
       "      <th>g6</th>\n",
       "      <th>target</th>\n",
       "    </tr>\n",
       "  </thead>\n",
       "  <tbody>\n",
       "    <tr>\n",
       "      <th>0</th>\n",
       "      <td>0</td>\n",
       "      <td>0</td>\n",
       "      <td>0</td>\n",
       "      <td>0</td>\n",
       "      <td>0</td>\n",
       "      <td>0</td>\n",
       "      <td>0</td>\n",
       "      <td>0</td>\n",
       "      <td>0</td>\n",
       "      <td>0</td>\n",
       "      <td>...</td>\n",
       "      <td>0</td>\n",
       "      <td>0</td>\n",
       "      <td>0</td>\n",
       "      <td>0</td>\n",
       "      <td>0</td>\n",
       "      <td>0</td>\n",
       "      <td>0</td>\n",
       "      <td>0</td>\n",
       "      <td>0</td>\n",
       "      <td>2</td>\n",
       "    </tr>\n",
       "    <tr>\n",
       "      <th>1</th>\n",
       "      <td>0</td>\n",
       "      <td>0</td>\n",
       "      <td>0</td>\n",
       "      <td>0</td>\n",
       "      <td>0</td>\n",
       "      <td>0</td>\n",
       "      <td>0</td>\n",
       "      <td>0</td>\n",
       "      <td>0</td>\n",
       "      <td>0</td>\n",
       "      <td>...</td>\n",
       "      <td>0</td>\n",
       "      <td>0</td>\n",
       "      <td>0</td>\n",
       "      <td>0</td>\n",
       "      <td>0</td>\n",
       "      <td>0</td>\n",
       "      <td>0</td>\n",
       "      <td>0</td>\n",
       "      <td>0</td>\n",
       "      <td>2</td>\n",
       "    </tr>\n",
       "    <tr>\n",
       "      <th>2</th>\n",
       "      <td>0</td>\n",
       "      <td>0</td>\n",
       "      <td>0</td>\n",
       "      <td>0</td>\n",
       "      <td>0</td>\n",
       "      <td>0</td>\n",
       "      <td>1</td>\n",
       "      <td>0</td>\n",
       "      <td>0</td>\n",
       "      <td>0</td>\n",
       "      <td>...</td>\n",
       "      <td>0</td>\n",
       "      <td>0</td>\n",
       "      <td>0</td>\n",
       "      <td>0</td>\n",
       "      <td>0</td>\n",
       "      <td>0</td>\n",
       "      <td>0</td>\n",
       "      <td>0</td>\n",
       "      <td>0</td>\n",
       "      <td>2</td>\n",
       "    </tr>\n",
       "    <tr>\n",
       "      <th>3</th>\n",
       "      <td>0</td>\n",
       "      <td>0</td>\n",
       "      <td>0</td>\n",
       "      <td>0</td>\n",
       "      <td>0</td>\n",
       "      <td>0</td>\n",
       "      <td>0</td>\n",
       "      <td>0</td>\n",
       "      <td>0</td>\n",
       "      <td>0</td>\n",
       "      <td>...</td>\n",
       "      <td>0</td>\n",
       "      <td>0</td>\n",
       "      <td>0</td>\n",
       "      <td>0</td>\n",
       "      <td>0</td>\n",
       "      <td>0</td>\n",
       "      <td>0</td>\n",
       "      <td>0</td>\n",
       "      <td>0</td>\n",
       "      <td>2</td>\n",
       "    </tr>\n",
       "    <tr>\n",
       "      <th>4</th>\n",
       "      <td>1</td>\n",
       "      <td>0</td>\n",
       "      <td>0</td>\n",
       "      <td>0</td>\n",
       "      <td>0</td>\n",
       "      <td>0</td>\n",
       "      <td>0</td>\n",
       "      <td>0</td>\n",
       "      <td>0</td>\n",
       "      <td>0</td>\n",
       "      <td>...</td>\n",
       "      <td>0</td>\n",
       "      <td>0</td>\n",
       "      <td>0</td>\n",
       "      <td>0</td>\n",
       "      <td>0</td>\n",
       "      <td>0</td>\n",
       "      <td>0</td>\n",
       "      <td>0</td>\n",
       "      <td>0</td>\n",
       "      <td>2</td>\n",
       "    </tr>\n",
       "  </tbody>\n",
       "</table>\n",
       "<p>5 rows × 43 columns</p>\n",
       "</div>"
      ],
      "text/plain": [
       "   a1  a2  a3  a4  a5  a6  b1  b2  b3  b4  ...  f4  f5  f6  g1  g2  g3  g4  \\\n",
       "0   0   0   0   0   0   0   0   0   0   0  ...   0   0   0   0   0   0   0   \n",
       "1   0   0   0   0   0   0   0   0   0   0  ...   0   0   0   0   0   0   0   \n",
       "2   0   0   0   0   0   0   1   0   0   0  ...   0   0   0   0   0   0   0   \n",
       "3   0   0   0   0   0   0   0   0   0   0  ...   0   0   0   0   0   0   0   \n",
       "4   1   0   0   0   0   0   0   0   0   0  ...   0   0   0   0   0   0   0   \n",
       "\n",
       "   g5  g6  target  \n",
       "0   0   0       2  \n",
       "1   0   0       2  \n",
       "2   0   0       2  \n",
       "3   0   0       2  \n",
       "4   0   0       2  \n",
       "\n",
       "[5 rows x 43 columns]"
      ]
     },
     "execution_count": 11,
     "metadata": {},
     "output_type": "execute_result"
    }
   ],
   "source": [
    "# load\n",
    "df = pd.read_csv('../data/raw/connect-4.csv')\n",
    "print(\"data size:\", df.shape)\n",
    "df.head()"
   ]
  },
  {
   "cell_type": "markdown",
   "id": "c4f8619a-c12d-471b-8e4b-96d0f6d6a67d",
   "metadata": {},
   "source": [
    "# 스키마 확인 & 기본 EDA"
   ]
  },
  {
   "cell_type": "code",
   "execution_count": 86,
   "id": "62a9d72f-89c0-44f7-bcda-79e2a1367f72",
   "metadata": {},
   "outputs": [
    {
     "name": "stdout",
     "output_type": "stream",
     "text": [
      "Target column: target\n",
      "Board columns: 42\n",
      "target\n",
      "2    44473\n",
      "1    16635\n",
      "0     6449\n",
      "Name: count, dtype: int64\n",
      "Unique board vals (union): [0, 1, 2]\n"
     ]
    }
   ],
   "source": [
    "# schema/lave check\n",
    "all_cols = df.columns.tolist()\n",
    "target_col = all_cols[-1]\n",
    "board_cols = all_cols[:-1]\n",
    "\n",
    "print(\"Target column:\", target_col)\n",
    "print(\"Board columns:\", len(board_cols))\n",
    "print(df[target_col].value_counts())\n",
    "print(\"Unique board vals (union):\", sorted(set().union(*[set(df[c].unique()) for c in board_cols])))\n"
   ]
  },
  {
   "cell_type": "code",
   "execution_count": 22,
   "id": "d0c8d3a9-2503-4075-abad-5bf0eb434c20",
   "metadata": {},
   "outputs": [
    {
     "name": "stdout",
     "output_type": "stream",
     "text": [
      "a1        int64\n",
      "a2        int64\n",
      "a3        int64\n",
      "a4        int64\n",
      "a5        int64\n",
      "a6        int64\n",
      "b1        int64\n",
      "b2        int64\n",
      "b3        int64\n",
      "b4        int64\n",
      "b5        int64\n",
      "b6        int64\n",
      "c1        int64\n",
      "c2        int64\n",
      "c3        int64\n",
      "c4        int64\n",
      "c5        int64\n",
      "c6        int64\n",
      "d1        int64\n",
      "d2        int64\n",
      "d3        int64\n",
      "d4        int64\n",
      "d5        int64\n",
      "d6        int64\n",
      "e1        int64\n",
      "e2        int64\n",
      "e3        int64\n",
      "e4        int64\n",
      "e5        int64\n",
      "e6        int64\n",
      "f1        int64\n",
      "f2        int64\n",
      "f3        int64\n",
      "f4        int64\n",
      "f5        int64\n",
      "f6        int64\n",
      "g1        int64\n",
      "g2        int64\n",
      "g3        int64\n",
      "g4        int64\n",
      "g5        int64\n",
      "g6        int64\n",
      "target    int64\n",
      "dtype: object\n",
      "target\n",
      "0     6449\n",
      "1    16635\n",
      "2    44473\n",
      "Name: count, dtype: int64\n"
     ]
    }
   ],
   "source": [
    "# schema / value check\n",
    "print(df.dtypes)\n",
    "print(df['target'].value_counts().sort_index())\n",
    "# 모든 보드 칸이 {0,1,2}인지, target이 {0,1,2}인지 확인\n",
    "board_cols = [c for c in df.columns if c != 'target']\n",
    "for c in board_cols: \n",
    "    assert set(df[c].unique()).issubset({0,1,2}), f\"Unexpected in {c}\"\n",
    "assert set(df['target'].unique()).issubset({0,1,2})"
   ]
  },
  {
   "cell_type": "markdown",
   "id": "48f8cd78-c6f1-4c60-a515-63156e7912e0",
   "metadata": {},
   "source": [
    "# 결측/중복/이상치 처리"
   ]
  },
  {
   "cell_type": "code",
   "execution_count": 27,
   "id": "439887bc-09da-4fff-8ce5-b938c1b2f08f",
   "metadata": {},
   "outputs": [
    {
     "name": "stdout",
     "output_type": "stream",
     "text": [
      "0\n"
     ]
    }
   ],
   "source": [
    "# missing/duplicate\n",
    "print(df.isna().sum().sum())\n",
    "df = df.drop_duplicates()"
   ]
  },
  {
   "cell_type": "markdown",
   "id": "427cbf3b-2ee5-43e7-ab52-7cca1eee8acd",
   "metadata": {},
   "source": [
    "# 베이스라인 세우기"
   ]
  },
  {
   "cell_type": "code",
   "execution_count": 88,
   "id": "1f51f74b-ab16-4922-90da-b434730455fd",
   "metadata": {},
   "outputs": [
    {
     "name": "stdout",
     "output_type": "stream",
     "text": [
      "Dummy Accuracy: 0.6583185316755477\n",
      "Dummy macro-F1: 0.2646530281933188\n"
     ]
    }
   ],
   "source": [
    "# train/test split (stratify)\n",
    "X, y = df[board_cols], df['target']\n",
    "X_tr, X_te, y_tr, y_te = train_test_split(X, y, test_size=0.25, random_state=42, stratify=y)\n",
    "\n",
    "# Dummy baseline (most_frequent)\n",
    "dummy = DummyClassifier(strategy='most_frequent')\n",
    "dummy.fit(X_tr, y_tr)\n",
    "y_pred = dummy.predict(X_te)\n",
    "print('Dummy Accuracy:', accuracy_score(y_te, y_pred))\n",
    "print('Dummy macro-F1:', f1_score(y_te, y_pred, average='macro'))"
   ]
  },
  {
   "cell_type": "markdown",
   "id": "5e9dd706-3b08-409c-a65b-a5ebd9d941c5",
   "metadata": {},
   "source": [
    "# 인코딩 전략 결정\n",
    "### 1. 원-핫 인코딩 (보드 칸을 범주형으로 처리)\n",
    "### 2. 숫자 0/1/2를 그대로 사용 (순서형 가정)"
   ]
  },
  {
   "cell_type": "code",
   "execution_count": 53,
   "id": "d52430fe-c5e7-41e6-b2b6-41a6eea63b2a",
   "metadata": {},
   "outputs": [],
   "source": [
    "# two preprocessors\n",
    "cat_cols = board_cols   # 전부 범주 취급\n",
    "prep_onehot = ColumnTransformer([('cat', OneHotEncoder(handle_unknown='ignore'), cat_cols)], remainder='drop')\n",
    "\n",
    "# 숫자 그대로: 전처리 없음(또는 StandardScaler로도 비교해볼 수 있음)\n",
    "prep_numeric = 'passthrough'\n"
   ]
  },
  {
   "cell_type": "markdown",
   "id": "2201738b-5df1-4c17-933d-fa6d74753f75",
   "metadata": {},
   "source": [
    "# 모델 후보 구성\n",
    "## LogisticRegression (multi_class='multinomial') – 빠른 baseline, 해석 용이\n",
    "## DecisionTreeClassifier – 규칙 기반, 빠르고 직관적\n",
    "## RandomForestClassifier – 강력한 앙상블(추천)\n",
    "## SVM(RBF) – 성능 좋지만 느릴 수 있음(부분 샘플로 시도)"
   ]
  },
  {
   "cell_type": "code",
   "execution_count": 56,
   "id": "fede2edb-bc97-4200-b35c-9bb32b66d7ef",
   "metadata": {},
   "outputs": [],
   "source": [
    "from sklearn.linear_model import LogisticRegression\n",
    "from sklearn.tree import DecisionTreeClassifier\n",
    "from sklearn.ensemble import RandomForestClassifier\n",
    "from sklearn.svm import SVC\n"
   ]
  },
  {
   "cell_type": "code",
   "execution_count": 62,
   "id": "bdd16114-6f13-4561-9fb3-b9fdedf734ea",
   "metadata": {},
   "outputs": [],
   "source": [
    "models = {\n",
    "    \"LogReg(onehot)\": Pipeline([('prep', prep_onehot),\n",
    "                                ('clf', LogisticRegression(max_iter=1000, multi_class='multinomial'))]),\n",
    "\n",
    "    \"DecisionTree(onehot)\": Pipeline([('prep', prep_onehot),\n",
    "                                      ('clf', DecisionTreeClassifier(random_state=42))]),\n",
    "\n",
    "    \"RandomForest(onehot)\": Pipeline([('prep', prep_onehot),\n",
    "                                      ('clf', RandomForestClassifier(n_estimators=200, random_state=42))]),\n",
    "\n",
    "    \"LogReg(numeric)\": Pipeline([('prep', prep_numeric),\n",
    "                                 ('clf', LogisticRegression(max_iter=1000, multi_class='multinomial'))]),\n",
    "}"
   ]
  },
  {
   "cell_type": "markdown",
   "id": "5522c459-9e3c-44f3-9df3-39075c9d1ba3",
   "metadata": {},
   "source": [
    "# 교차검증으로 1차 성능 비교 (Accuracy + Macro-F1)"
   ]
  },
  {
   "cell_type": "code",
   "execution_count": 69,
   "id": "d877c062-0306-421f-a0a0-7605ba2ccd26",
   "metadata": {},
   "outputs": [
    {
     "data": {
      "text/html": [
       "<div>\n",
       "<style scoped>\n",
       "    .dataframe tbody tr th:only-of-type {\n",
       "        vertical-align: middle;\n",
       "    }\n",
       "\n",
       "    .dataframe tbody tr th {\n",
       "        vertical-align: top;\n",
       "    }\n",
       "\n",
       "    .dataframe thead th {\n",
       "        text-align: right;\n",
       "    }\n",
       "</style>\n",
       "<table border=\"1\" class=\"dataframe\">\n",
       "  <thead>\n",
       "    <tr style=\"text-align: right;\">\n",
       "      <th></th>\n",
       "      <th>Model</th>\n",
       "      <th>CV Accuracy</th>\n",
       "      <th>CV Macro-F1</th>\n",
       "    </tr>\n",
       "  </thead>\n",
       "  <tbody>\n",
       "    <tr>\n",
       "      <th>2</th>\n",
       "      <td>RandomForest(onehot)</td>\n",
       "      <td>0.831091</td>\n",
       "      <td>0.630179</td>\n",
       "    </tr>\n",
       "    <tr>\n",
       "      <th>1</th>\n",
       "      <td>DecisionTree(onehot)</td>\n",
       "      <td>0.762497</td>\n",
       "      <td>0.610243</td>\n",
       "    </tr>\n",
       "    <tr>\n",
       "      <th>0</th>\n",
       "      <td>LogReg(onehot)</td>\n",
       "      <td>0.757242</td>\n",
       "      <td>0.500866</td>\n",
       "    </tr>\n",
       "    <tr>\n",
       "      <th>3</th>\n",
       "      <td>LogReg(numeric)</td>\n",
       "      <td>0.660938</td>\n",
       "      <td>0.283627</td>\n",
       "    </tr>\n",
       "  </tbody>\n",
       "</table>\n",
       "</div>"
      ],
      "text/plain": [
       "                  Model  CV Accuracy  CV Macro-F1\n",
       "2  RandomForest(onehot)     0.831091     0.630179\n",
       "1  DecisionTree(onehot)     0.762497     0.610243\n",
       "0        LogReg(onehot)     0.757242     0.500866\n",
       "3       LogReg(numeric)     0.660938     0.283627"
      ]
     },
     "execution_count": 69,
     "metadata": {},
     "output_type": "execute_result"
    }
   ],
   "source": [
    "skf = StratifiedKFold(n_splits=5, shuffle=True, random_state=42)\n",
    "macro_f1 = make_scorer(f1_score, average='macro')\n",
    "\n",
    "cv_table = []\n",
    "for name, pipe in models.items():\n",
    "    acc = cross_val_score(pipe, X, y, scoring='accuracy', cv=skf).mean()\n",
    "    f1m = cross_val_score(pipe, X, y, scoring=macro_f1, cv=skf).mean()\n",
    "    cv_table.append((name, acc, f1m))\n",
    "pd.DataFrame(cv_table, columns=[\"Model\",\"CV Accuracy\",\"CV Macro-F1\"]).sort_values(\"CV Macro-F1\", ascending=False)\n"
   ]
  },
  {
   "cell_type": "code",
   "execution_count": 100,
   "id": "96dab28d-e287-474f-8d04-b21637ac7fcd",
   "metadata": {},
   "outputs": [
    {
     "data": {
      "text/html": [
       "<div>\n",
       "<style scoped>\n",
       "    .dataframe tbody tr th:only-of-type {\n",
       "        vertical-align: middle;\n",
       "    }\n",
       "\n",
       "    .dataframe tbody tr th {\n",
       "        vertical-align: top;\n",
       "    }\n",
       "\n",
       "    .dataframe thead th {\n",
       "        text-align: right;\n",
       "    }\n",
       "</style>\n",
       "<table border=\"1\" class=\"dataframe\">\n",
       "  <thead>\n",
       "    <tr style=\"text-align: right;\">\n",
       "      <th></th>\n",
       "      <th>Model</th>\n",
       "      <th>CV Acc (mean)</th>\n",
       "      <th>CV Macro-F1 (mean)</th>\n",
       "    </tr>\n",
       "  </thead>\n",
       "  <tbody>\n",
       "    <tr>\n",
       "      <th>2</th>\n",
       "      <td>RandomForest (onehot)</td>\n",
       "      <td>0.826088</td>\n",
       "      <td>0.621890</td>\n",
       "    </tr>\n",
       "    <tr>\n",
       "      <th>1</th>\n",
       "      <td>DecisionTree (onehot)</td>\n",
       "      <td>0.757864</td>\n",
       "      <td>0.605575</td>\n",
       "    </tr>\n",
       "    <tr>\n",
       "      <th>5</th>\n",
       "      <td>RandomForest (numeric)</td>\n",
       "      <td>0.811315</td>\n",
       "      <td>0.603576</td>\n",
       "    </tr>\n",
       "    <tr>\n",
       "      <th>4</th>\n",
       "      <td>DecisionTree (numeric)</td>\n",
       "      <td>0.726542</td>\n",
       "      <td>0.567068</td>\n",
       "    </tr>\n",
       "    <tr>\n",
       "      <th>0</th>\n",
       "      <td>LogReg (onehot)</td>\n",
       "      <td>0.756783</td>\n",
       "      <td>0.499887</td>\n",
       "    </tr>\n",
       "    <tr>\n",
       "      <th>3</th>\n",
       "      <td>LogReg (numeric)</td>\n",
       "      <td>0.661160</td>\n",
       "      <td>0.284018</td>\n",
       "    </tr>\n",
       "  </tbody>\n",
       "</table>\n",
       "</div>"
      ],
      "text/plain": [
       "                    Model  CV Acc (mean)  CV Macro-F1 (mean)\n",
       "2   RandomForest (onehot)       0.826088            0.621890\n",
       "1   DecisionTree (onehot)       0.757864            0.605575\n",
       "5  RandomForest (numeric)       0.811315            0.603576\n",
       "4  DecisionTree (numeric)       0.726542            0.567068\n",
       "0         LogReg (onehot)       0.756783            0.499887\n",
       "3        LogReg (numeric)       0.661160            0.284018"
      ]
     },
     "execution_count": 100,
     "metadata": {},
     "output_type": "execute_result"
    }
   ],
   "source": [
    "prep_onehot = ColumnTransformer([('cat', OneHotEncoder(handle_unknown='ignore'), board_cols)], remainder='drop')\n",
    "prep_numeric = 'passthrough'\n",
    "\n",
    "models = {\n",
    "    \"LogReg (onehot)\": Pipeline([('prep', prep_onehot), ('clf', LogisticRegression(max_iter=1000, multi_class='multinomial'))]),\n",
    "    \"DecisionTree (onehot)\": Pipeline([('prep', prep_onehot), ('clf', DecisionTreeClassifier(random_state=42))]),\n",
    "    \"RandomForest (onehot)\": Pipeline([('prep', prep_onehot), ('clf', RandomForestClassifier(n_estimators=200, random_state=42))]),\n",
    "    \"LogReg (numeric)\": Pipeline([('prep', prep_numeric), ('clf', LogisticRegression(max_iter=1000, multi_class='multinomial'))]),\n",
    "    \"DecisionTree (numeric)\": Pipeline([('prep', prep_numeric), ('clf', DecisionTreeClassifier(random_state=42))]),\n",
    "    \"RandomForest (numeric)\": Pipeline([('prep', prep_numeric), ('clf', RandomForestClassifier(n_estimators=200, random_state=42))]),\n",
    "}\n",
    "skf = StratifiedKFold(n_splits=3, shuffle=True, random_state=42)\n",
    "scores = []\n",
    "for name, pipe in models.items():\n",
    "    cv = cross_validate(pipe, X, y, cv=skf, scoring={'acc':'accuracy','f1':'f1_macro'}, n_jobs=-1, return_train_score=False)\n",
    "    scores.append({\"Model\": name, \"CV Acc (mean)\": cv['test_acc'].mean(), \"CV Macro-F1 (mean)\": cv['test_f1'].mean()})\n",
    "cv_df = pd.DataFrame(scores).sort_values(\"CV Macro-F1 (mean)\", ascending=False)\n",
    "cv_df\n"
   ]
  },
  {
   "cell_type": "code",
   "execution_count": 104,
   "id": "b1983b2f-2c95-4794-b892-4848be9a38a1",
   "metadata": {},
   "outputs": [
    {
     "data": {
      "image/png": "[encoded data removed]",
      "text/plain": [
       "<Figure size 1000x400 with 1 Axes>"
      ]
     },
     "metadata": {},
     "output_type": "display_data"
    }
   ],
   "source": [
    "plt.figure(figsize=(10,4))\n",
    "plt.barh(cv_df['Model'], cv_df['CV Macro-F1 (mean)'])\n",
    "plt.xlabel(\"CV Macro-F1 (mean)\")\n",
    "plt.title(\"Encoder & Model comparison\")\n",
    "plt.tight_layout()\n",
    "plt.show()\n"
   ]
  },
  {
   "cell_type": "markdown",
   "id": "85fe899b-b102-4bda-bb5a-b0e3376eb16d",
   "metadata": {},
   "source": [
    "# 하이퍼파라미터 탐색"
   ]
  },
  {
   "cell_type": "code",
   "execution_count": 74,
   "id": "b997b055-75b0-4e14-8b7b-73d3a2497ca9",
   "metadata": {},
   "outputs": [
    {
     "name": "stdout",
     "output_type": "stream",
     "text": [
      "RF best: {'clf__max_depth': None, 'clf__min_samples_leaf': 1, 'clf__n_estimators': 200} 0.6159210171171282\n",
      "LogReg best: {'clf__C': 2.0} 0.5032400769658105\n"
     ]
    }
   ],
   "source": [
    "# RandomForest 예: 깊이/리프/트리개수\n",
    "rf_grid = {\n",
    "    'clf__n_estimators': [200, 400],\n",
    "    'clf__max_depth': [None, 12, 20],\n",
    "    'clf__min_samples_leaf': [1, 3, 5]\n",
    "}\n",
    "rf_pipe = Pipeline([('prep', prep_onehot), ('clf', RandomForestClassifier(random_state=42))])\n",
    "rf_gs = GridSearchCV(rf_pipe, rf_grid, scoring=macro_f1, cv=skf, n_jobs=-1)\n",
    "rf_gs.fit(X_tr, y_tr)\n",
    "print(\"RF best:\", rf_gs.best_params_, rf_gs.best_score_)\n",
    "\n",
    "# LogisticRegression 예: C 규제 강도\n",
    "log_grid = {'clf__C': [0.5, 1.0, 2.0]}\n",
    "log_pipe = Pipeline([('prep', prep_onehot), ('clf', LogisticRegression(max_iter=1000, multi_class='multinomial'))])\n",
    "log_gs = GridSearchCV(log_pipe, log_grid, scoring=macro_f1, cv=skf, n_jobs=-1)\n",
    "log_gs.fit(X_tr, y_tr)\n",
    "print(\"LogReg best:\", log_gs.best_params_, log_gs.best_score_)\n"
   ]
  },
  {
   "cell_type": "code",
   "execution_count": 106,
   "id": "e3c20220-696b-4797-999a-064b3868f5fa",
   "metadata": {},
   "outputs": [
    {
     "name": "stderr",
     "output_type": "stream",
     "text": [
      "/opt/anaconda3/lib/python3.12/site-packages/joblib/externals/loky/process_executor.py:752: UserWarning: A worker stopped while some jobs were given to the executor. This can be caused by a too short worker timeout or by a memory leak.\n",
      "  warnings.warn(\n"
     ]
    },
    {
     "name": "stdout",
     "output_type": "stream",
     "text": [
      "RF best params: {'clf__max_depth': None, 'clf__min_samples_leaf': 1, 'clf__n_estimators': 200}\n",
      "RF best CV f1_macro: 0.6084393024577534\n",
      "LogReg best params: {'clf__C': 2.0}\n",
      "LogReg best CV f1_macro: 0.5031017335211918\n"
     ]
    }
   ],
   "source": [
    "# RandomForest (one-hot)\n",
    "rf_pipe = Pipeline([('prep', prep_onehot), ('clf', RandomForestClassifier(random_state=42))])\n",
    "rf_grid = {\n",
    "    'clf__n_estimators': [200, 400],\n",
    "    'clf__max_depth': [None, 12, 20],\n",
    "    'clf__min_samples_leaf': [1, 3, 5]\n",
    "}\n",
    "rf_gs = GridSearchCV(rf_pipe, rf_grid, scoring='f1_macro', cv=skf, n_jobs=-1)\n",
    "rf_gs.fit(X_tr, y_tr)\n",
    "print(\"RF best params:\", rf_gs.best_params_)\n",
    "print(\"RF best CV f1_macro:\", rf_gs.best_score_)\n",
    "\n",
    "# Logistic Regression (one-hot)\n",
    "log_pipe = Pipeline([('prep', prep_onehot), ('clf', LogisticRegression(max_iter=1000, multi_class='multinomial'))])\n",
    "log_grid = {'clf__C': [0.5, 1.0, 2.0]}\n",
    "log_gs = GridSearchCV(log_pipe, log_grid, scoring='f1_macro', cv=skf, n_jobs=-1)\n",
    "log_gs.fit(X_tr, y_tr)\n",
    "print(\"LogReg best params:\", log_gs.best_params_)\n",
    "print(\"LogReg best CV f1_macro:\", log_gs.best_score_)\n"
   ]
  },
  {
   "cell_type": "code",
   "execution_count": 108,
   "id": "8af50a1c-20c8-4323-aaed-18ed0f68fb24",
   "metadata": {},
   "outputs": [
    {
     "data": {
      "text/html": [
       "<div>\n",
       "<style scoped>\n",
       "    .dataframe tbody tr th:only-of-type {\n",
       "        vertical-align: middle;\n",
       "    }\n",
       "\n",
       "    .dataframe tbody tr th {\n",
       "        vertical-align: top;\n",
       "    }\n",
       "\n",
       "    .dataframe thead th {\n",
       "        text-align: right;\n",
       "    }\n",
       "</style>\n",
       "<table border=\"1\" class=\"dataframe\">\n",
       "  <thead>\n",
       "    <tr style=\"text-align: right;\">\n",
       "      <th></th>\n",
       "      <th>param_clf__n_estimators</th>\n",
       "      <th>param_clf__max_depth</th>\n",
       "      <th>param_clf__min_samples_leaf</th>\n",
       "      <th>mean_test_score</th>\n",
       "    </tr>\n",
       "  </thead>\n",
       "  <tbody>\n",
       "    <tr>\n",
       "      <th>0</th>\n",
       "      <td>200</td>\n",
       "      <td>None</td>\n",
       "      <td>1</td>\n",
       "      <td>0.608439</td>\n",
       "    </tr>\n",
       "    <tr>\n",
       "      <th>1</th>\n",
       "      <td>400</td>\n",
       "      <td>None</td>\n",
       "      <td>1</td>\n",
       "      <td>0.607475</td>\n",
       "    </tr>\n",
       "    <tr>\n",
       "      <th>12</th>\n",
       "      <td>200</td>\n",
       "      <td>20</td>\n",
       "      <td>1</td>\n",
       "      <td>0.574679</td>\n",
       "    </tr>\n",
       "    <tr>\n",
       "      <th>13</th>\n",
       "      <td>400</td>\n",
       "      <td>20</td>\n",
       "      <td>1</td>\n",
       "      <td>0.573245</td>\n",
       "    </tr>\n",
       "    <tr>\n",
       "      <th>2</th>\n",
       "      <td>200</td>\n",
       "      <td>None</td>\n",
       "      <td>3</td>\n",
       "      <td>0.539784</td>\n",
       "    </tr>\n",
       "    <tr>\n",
       "      <th>3</th>\n",
       "      <td>400</td>\n",
       "      <td>None</td>\n",
       "      <td>3</td>\n",
       "      <td>0.539620</td>\n",
       "    </tr>\n",
       "    <tr>\n",
       "      <th>15</th>\n",
       "      <td>400</td>\n",
       "      <td>20</td>\n",
       "      <td>3</td>\n",
       "      <td>0.531764</td>\n",
       "    </tr>\n",
       "    <tr>\n",
       "      <th>14</th>\n",
       "      <td>200</td>\n",
       "      <td>20</td>\n",
       "      <td>3</td>\n",
       "      <td>0.530958</td>\n",
       "    </tr>\n",
       "    <tr>\n",
       "      <th>4</th>\n",
       "      <td>200</td>\n",
       "      <td>None</td>\n",
       "      <td>5</td>\n",
       "      <td>0.520643</td>\n",
       "    </tr>\n",
       "    <tr>\n",
       "      <th>5</th>\n",
       "      <td>400</td>\n",
       "      <td>None</td>\n",
       "      <td>5</td>\n",
       "      <td>0.520279</td>\n",
       "    </tr>\n",
       "  </tbody>\n",
       "</table>\n",
       "</div>"
      ],
      "text/plain": [
       "   param_clf__n_estimators param_clf__max_depth param_clf__min_samples_leaf  \\\n",
       "0                      200                 None                           1   \n",
       "1                      400                 None                           1   \n",
       "12                     200                   20                           1   \n",
       "13                     400                   20                           1   \n",
       "2                      200                 None                           3   \n",
       "3                      400                 None                           3   \n",
       "15                     400                   20                           3   \n",
       "14                     200                   20                           3   \n",
       "4                      200                 None                           5   \n",
       "5                      400                 None                           5   \n",
       "\n",
       "    mean_test_score  \n",
       "0          0.608439  \n",
       "1          0.607475  \n",
       "12         0.574679  \n",
       "13         0.573245  \n",
       "2          0.539784  \n",
       "3          0.539620  \n",
       "15         0.531764  \n",
       "14         0.530958  \n",
       "4          0.520643  \n",
       "5          0.520279  "
      ]
     },
     "execution_count": 108,
     "metadata": {},
     "output_type": "execute_result"
    }
   ],
   "source": [
    "rf_res = pd.DataFrame(rf_gs.cv_results_)\n",
    "cols = ['param_clf__n_estimators','param_clf__max_depth','param_clf__min_samples_leaf','mean_test_score']\n",
    "rf_res_small = rf_res[cols].sort_values('mean_test_score', ascending=False)\n",
    "rf_res_small.head(10)\n"
   ]
  },
  {
   "cell_type": "markdown",
   "id": "b48c43e8-ad10-43c3-917d-85752449b5a4",
   "metadata": {},
   "source": [
    "# 테스트 성능 보고 + 혼동행렬/리포트"
   ]
  },
  {
   "cell_type": "code",
   "execution_count": 81,
   "id": "40cb3b04-46a2-4c5c-a3bf-36cbffb3a1a4",
   "metadata": {},
   "outputs": [
    {
     "name": "stdout",
     "output_type": "stream",
     "text": [
      "Test Accuracy: 0.8328004736530491\n",
      "Test Macro-F1: 0.6325574911543822\n",
      "              precision    recall  f1-score   support\n",
      "\n",
      "           0     0.5861    0.1309    0.2140      1612\n",
      "           1     0.8277    0.7439    0.7836      4159\n",
      "           2     0.8412    0.9678    0.9001     11119\n",
      "\n",
      "    accuracy                         0.8328     16890\n",
      "   macro avg     0.7517    0.6142    0.6326     16890\n",
      "weighted avg     0.8136    0.8328    0.8059     16890\n",
      "\n"
     ]
    },
    {
     "data": {
      "image/png": "[encoded data removed]",
      "text/plain": [
       "<Figure size 640x480 with 2 Axes>"
      ]
     },
     "metadata": {},
     "output_type": "display_data"
    }
   ],
   "source": [
    "# 가장 좋은 모델 선택 (여기서는 rf_gs, log_gs 중 높은 CV score)\n",
    "best = rf_gs if rf_gs.best_score_ >= log_gs.best_score_ else log_gs\n",
    "y_pred = best.predict(X_te)\n",
    "\n",
    "print(\"Test Accuracy:\", accuracy_score(y_te, y_pred))\n",
    "print(\"Test Macro-F1:\", f1_score(y_te, y_pred, average='macro'))\n",
    "print(classification_report(y_te, y_pred, digits=4))\n",
    "\n",
    "ConfusionMatrixDisplay.from_predictions(y_te, y_pred)\n",
    "plt.title(\"Confusion Matrix (Connect-4)\")\n",
    "plt.show()\n"
   ]
  },
  {
   "cell_type": "code",
   "execution_count": 110,
   "id": "845b773f-7d3d-48ff-b909-2449dc1da0c1",
   "metadata": {},
   "outputs": [
    {
     "name": "stdout",
     "output_type": "stream",
     "text": [
      "Selected: RandomForest(onehot) CV f1_macro: 0.6084393024577534\n",
      "Test Accuracy: 0.8328004736530491\n",
      "Test Macro-F1: 0.6325574911543822\n",
      "              precision    recall  f1-score   support\n",
      "\n",
      "           0     0.5861    0.1309    0.2140      1612\n",
      "           1     0.8277    0.7439    0.7836      4159\n",
      "           2     0.8412    0.9678    0.9001     11119\n",
      "\n",
      "    accuracy                         0.8328     16890\n",
      "   macro avg     0.7517    0.6142    0.6326     16890\n",
      "weighted avg     0.8136    0.8328    0.8059     16890\n",
      "\n"
     ]
    },
    {
     "data": {
      "image/png": "[encoded data removed]",
      "text/plain": [
       "<Figure size 640x480 with 2 Axes>"
      ]
     },
     "metadata": {},
     "output_type": "display_data"
    }
   ],
   "source": [
    "best_est, best_name, best_cv = (\n",
    "    rf_gs.best_estimator_, \"RandomForest(onehot)\", rf_gs.best_score_\n",
    ") if rf_gs.best_score_ >= log_gs.best_score_ else (\n",
    "    log_gs.best_estimator_, \"LogReg(onehot)\", log_gs.best_score_\n",
    ")\n",
    "\n",
    "print(\"Selected:\", best_name, \"CV f1_macro:\", best_cv)\n",
    "best_est.fit(X_tr, y_tr)\n",
    "y_pred = best_est.predict(X_te)\n",
    "\n",
    "print(\"Test Accuracy:\", accuracy_score(y_te, y_pred))\n",
    "print(\"Test Macro-F1:\", f1_score(y_te, y_pred, average='macro'))\n",
    "print(classification_report(y_te, y_pred, digits=4))\n",
    "\n",
    "ConfusionMatrixDisplay.from_predictions(y_te, y_pred)\n",
    "plt.title(\"Confusion Matrix — \" + best_name)\n",
    "plt.show()\n"
   ]
  },
  {
   "cell_type": "code",
   "execution_count": 112,
   "id": "2b9f3621-a348-40c8-8ccf-3a7f877c1329",
   "metadata": {},
   "outputs": [
    {
     "data": {
      "text/html": [
       "<div>\n",
       "<style scoped>\n",
       "    .dataframe tbody tr th:only-of-type {\n",
       "        vertical-align: middle;\n",
       "    }\n",
       "\n",
       "    .dataframe tbody tr th {\n",
       "        vertical-align: top;\n",
       "    }\n",
       "\n",
       "    .dataframe thead th {\n",
       "        text-align: right;\n",
       "    }\n",
       "</style>\n",
       "<table border=\"1\" class=\"dataframe\">\n",
       "  <thead>\n",
       "    <tr style=\"text-align: right;\">\n",
       "      <th></th>\n",
       "      <th>Test Size</th>\n",
       "      <th>Accuracy</th>\n",
       "      <th>Macro-F1</th>\n",
       "    </tr>\n",
       "  </thead>\n",
       "  <tbody>\n",
       "    <tr>\n",
       "      <th>0</th>\n",
       "      <td>0.20</td>\n",
       "      <td>0.832741</td>\n",
       "      <td>0.633620</td>\n",
       "    </tr>\n",
       "    <tr>\n",
       "      <th>1</th>\n",
       "      <td>0.25</td>\n",
       "      <td>0.832800</td>\n",
       "      <td>0.632557</td>\n",
       "    </tr>\n",
       "    <tr>\n",
       "      <th>2</th>\n",
       "      <td>0.30</td>\n",
       "      <td>0.829041</td>\n",
       "      <td>0.626714</td>\n",
       "    </tr>\n",
       "    <tr>\n",
       "      <th>3</th>\n",
       "      <td>0.40</td>\n",
       "      <td>0.827036</td>\n",
       "      <td>0.621858</td>\n",
       "    </tr>\n",
       "  </tbody>\n",
       "</table>\n",
       "</div>"
      ],
      "text/plain": [
       "   Test Size  Accuracy  Macro-F1\n",
       "0       0.20  0.832741  0.633620\n",
       "1       0.25  0.832800  0.632557\n",
       "2       0.30  0.829041  0.626714\n",
       "3       0.40  0.827036  0.621858"
      ]
     },
     "execution_count": 112,
     "metadata": {},
     "output_type": "execute_result"
    }
   ],
   "source": [
    "def eval_with_test_size(model, test_size):\n",
    "    X_tr2, X_te2, y_tr2, y_te2 = train_test_split(X, y, test_size=test_size, random_state=42, stratify=y)\n",
    "    model2 = model\n",
    "    model2.fit(X_tr2, y_tr2)\n",
    "    pred = model2.predict(X_te2)\n",
    "    return accuracy_score(y_te2, pred), f1_score(y_te2, pred, average='macro')\n",
    "\n",
    "sizes = [0.2, 0.25, 0.3, 0.4]\n",
    "rows = []\n",
    "for ts in sizes:\n",
    "    if best_name.startswith(\"RandomForest\"):\n",
    "        model_proto = Pipeline([('prep', prep_onehot), ('clf', RandomForestClassifier(\n",
    "            random_state=42, **{k.split('__')[1]: v for k,v in rf_gs.best_params_.items()}))])\n",
    "    else:\n",
    "        model_proto = Pipeline([('prep', prep_onehot), ('clf', LogisticRegression(\n",
    "            max_iter=1000, multi_class='multinomial', **{k.split('__')[1]: v for k,v in log_gs.best_params_.items()}))])\n",
    "    acc, f1m = eval_with_test_size(model_proto, ts)\n",
    "    rows.append({'Test Size': ts, 'Accuracy': acc, 'Macro-F1': f1m})\n",
    "\n",
    "split_df = pd.DataFrame(rows)\n",
    "split_df\n"
   ]
  },
  {
   "cell_type": "code",
   "execution_count": null,
   "id": "8e4503d9-1e2d-42f5-9bdd-5d864e3573e9",
   "metadata": {},
   "outputs": [],
   "source": []
  }
 ],
 "metadata": {
  "kernelspec": {
   "display_name": "Python 3 (ipykernel)",
   "language": "python",
   "name": "python3"
  },
  "language_info": {
   "codemirror_mode": {
    "name": "ipython",
    "version": 3
   },
   "file_extension": ".py",
   "mimetype": "text/x-python",
   "name": "python",
   "nbconvert_exporter": "python",
   "pygments_lexer": "ipython3",
   "version": "3.12.4"
  }
 },
 "nbformat": 4,
 "nbformat_minor": 5
}
