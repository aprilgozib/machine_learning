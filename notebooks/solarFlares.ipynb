{
 "cells": [
  {
   "cell_type": "markdown",
   "id": "9dcd95da-c118-4845-a8c2-b204ceef54c7",
   "metadata": {},
   "source": [
    "# Solar Flares — Supervised Learning (Regression)\n",
    "\n",
    "**Goal**: Predict the number of solar flares from sunspot-related features.  \n",
    "**What’s inside**: clean EDA → baseline regressor → model comparison with CV → hyperparameter tuning → test evaluation → sensitivity → conclusions.  \n",
    "**Reproducibility**: consistent workflow; all metrics and plots generated programmatically.  \n",
    "**Metrics**: We report RMSE, MAE, and R² for model selection.  \n"
   ]
  },
  {
   "cell_type": "markdown",
   "id": "2214ccb8-8393-4ac1-b372-11e9214b3a42",
   "metadata": {},
   "source": [
    "## 1) Imports & Set up"
   ]
  },
  {
   "cell_type": "code",
   "execution_count": 90,
   "id": "8e4696e4-5f34-496c-962e-9dbd69fb8bc8",
   "metadata": {},
   "outputs": [],
   "source": [
    "# imports\n",
    "import pandas as pd, numpy as np, matplotlib.pyplot as plt\n",
    "from sklearn.model_selection import train_test_split, KFold, cross_validate, GridSearchCV, GroupShuffleSplit, GroupKFold\n",
    "from sklearn.preprocessing import StandardScaler, OneHotEncoder\n",
    "from sklearn.pipeline import Pipeline\n",
    "from sklearn.dummy import DummyRegressor\n",
    "from sklearn.linear_model import LinearRegression, Ridge, Lasso\n",
    "from sklearn.tree import DecisionTreeRegressor\n",
    "from sklearn.ensemble import RandomForestRegressor\n",
    "from sklearn.metrics import make_scorer, mean_absolute_error, mean_squared_error, r2_score\n",
    "from sklearn.base import clone\n",
    "from sklearn.compose import ColumnTransformer"
   ]
  },
  {
   "cell_type": "code",
   "execution_count": 91,
   "id": "0bf3234a-d551-450f-bd70-3a4cdbd7b6de",
   "metadata": {},
   "outputs": [
    {
     "name": "stdout",
     "output_type": "stream",
     "text": [
      "data size: (1066, 11)\n"
     ]
    },
    {
     "data": {
      "text/html": [
       "<div>\n",
       "<style scoped>\n",
       "    .dataframe tbody tr th:only-of-type {\n",
       "        vertical-align: middle;\n",
       "    }\n",
       "\n",
       "    .dataframe tbody tr th {\n",
       "        vertical-align: top;\n",
       "    }\n",
       "\n",
       "    .dataframe thead th {\n",
       "        text-align: right;\n",
       "    }\n",
       "</style>\n",
       "<table border=\"1\" class=\"dataframe\">\n",
       "  <thead>\n",
       "    <tr style=\"text-align: right;\">\n",
       "      <th></th>\n",
       "      <th>sunspot_group_configuration</th>\n",
       "      <th>sunspot_largest_spot</th>\n",
       "      <th>sunspot_distribution</th>\n",
       "      <th>sunspot_activity</th>\n",
       "      <th>sunspot_evolution</th>\n",
       "      <th>recent_flare_activity</th>\n",
       "      <th>historically_complex_region</th>\n",
       "      <th>historically_complex_region_recent</th>\n",
       "      <th>region_area</th>\n",
       "      <th>largest_spot_area</th>\n",
       "      <th>target</th>\n",
       "    </tr>\n",
       "  </thead>\n",
       "  <tbody>\n",
       "    <tr>\n",
       "      <th>0</th>\n",
       "      <td>6</td>\n",
       "      <td>3</td>\n",
       "      <td>0</td>\n",
       "      <td>0</td>\n",
       "      <td>2</td>\n",
       "      <td>0</td>\n",
       "      <td>0</td>\n",
       "      <td>0</td>\n",
       "      <td>0</td>\n",
       "      <td>0</td>\n",
       "      <td>0</td>\n",
       "    </tr>\n",
       "    <tr>\n",
       "      <th>1</th>\n",
       "      <td>2</td>\n",
       "      <td>1</td>\n",
       "      <td>1</td>\n",
       "      <td>0</td>\n",
       "      <td>2</td>\n",
       "      <td>0</td>\n",
       "      <td>0</td>\n",
       "      <td>1</td>\n",
       "      <td>0</td>\n",
       "      <td>0</td>\n",
       "      <td>0</td>\n",
       "    </tr>\n",
       "    <tr>\n",
       "      <th>2</th>\n",
       "      <td>1</td>\n",
       "      <td>2</td>\n",
       "      <td>1</td>\n",
       "      <td>0</td>\n",
       "      <td>2</td>\n",
       "      <td>0</td>\n",
       "      <td>0</td>\n",
       "      <td>1</td>\n",
       "      <td>0</td>\n",
       "      <td>0</td>\n",
       "      <td>0</td>\n",
       "    </tr>\n",
       "    <tr>\n",
       "      <th>3</th>\n",
       "      <td>6</td>\n",
       "      <td>1</td>\n",
       "      <td>0</td>\n",
       "      <td>0</td>\n",
       "      <td>1</td>\n",
       "      <td>0</td>\n",
       "      <td>0</td>\n",
       "      <td>0</td>\n",
       "      <td>0</td>\n",
       "      <td>0</td>\n",
       "      <td>0</td>\n",
       "    </tr>\n",
       "    <tr>\n",
       "      <th>4</th>\n",
       "      <td>6</td>\n",
       "      <td>2</td>\n",
       "      <td>0</td>\n",
       "      <td>0</td>\n",
       "      <td>0</td>\n",
       "      <td>0</td>\n",
       "      <td>0</td>\n",
       "      <td>1</td>\n",
       "      <td>0</td>\n",
       "      <td>0</td>\n",
       "      <td>0</td>\n",
       "    </tr>\n",
       "  </tbody>\n",
       "</table>\n",
       "</div>"
      ],
      "text/plain": [
       "   sunspot_group_configuration  sunspot_largest_spot  sunspot_distribution  \\\n",
       "0                            6                     3                     0   \n",
       "1                            2                     1                     1   \n",
       "2                            1                     2                     1   \n",
       "3                            6                     1                     0   \n",
       "4                            6                     2                     0   \n",
       "\n",
       "   sunspot_activity  sunspot_evolution  recent_flare_activity  \\\n",
       "0                 0                  2                      0   \n",
       "1                 0                  2                      0   \n",
       "2                 0                  2                      0   \n",
       "3                 0                  1                      0   \n",
       "4                 0                  0                      0   \n",
       "\n",
       "   historically_complex_region  historically_complex_region_recent  \\\n",
       "0                            0                                   0   \n",
       "1                            0                                   1   \n",
       "2                            0                                   1   \n",
       "3                            0                                   0   \n",
       "4                            0                                   1   \n",
       "\n",
       "   region_area  largest_spot_area  target  \n",
       "0            0                  0       0  \n",
       "1            0                  0       0  \n",
       "2            0                  0       0  \n",
       "3            0                  0       0  \n",
       "4            0                  0       0  "
      ]
     },
     "execution_count": 91,
     "metadata": {},
     "output_type": "execute_result"
    }
   ],
   "source": [
    "# load\n",
    "df = pd.read_csv('../data/raw/solar_flare.csv')\n",
    "print(\"data size:\", df.shape)\n",
    "df.head()"
   ]
  },
  {
   "cell_type": "markdown",
   "id": "7e606e2a-44c0-4507-ba39-19415cc399d4",
   "metadata": {},
   "source": [
    "## 2) Validate (Schema check + EDA)"
   ]
  },
  {
   "cell_type": "code",
   "execution_count": 92,
   "id": "5a262cfa-d249-49d4-8cbb-1e25647f8d61",
   "metadata": {},
   "outputs": [
    {
     "name": "stdout",
     "output_type": "stream",
     "text": [
      "\n",
      "[Schema Information]\n",
      "<class 'pandas.core.frame.DataFrame'>\n",
      "RangeIndex: 1066 entries, 0 to 1065\n",
      "Data columns (total 11 columns):\n",
      " #   Column                              Non-Null Count  Dtype\n",
      "---  ------                              --------------  -----\n",
      " 0   sunspot_group_configuration         1066 non-null   int64\n",
      " 1   sunspot_largest_spot                1066 non-null   int64\n",
      " 2   sunspot_distribution                1066 non-null   int64\n",
      " 3   sunspot_activity                    1066 non-null   int64\n",
      " 4   sunspot_evolution                   1066 non-null   int64\n",
      " 5   recent_flare_activity               1066 non-null   int64\n",
      " 6   historically_complex_region         1066 non-null   int64\n",
      " 7   historically_complex_region_recent  1066 non-null   int64\n",
      " 8   region_area                         1066 non-null   int64\n",
      " 9   largest_spot_area                   1066 non-null   int64\n",
      " 10  target                              1066 non-null   int64\n",
      "dtypes: int64(11)\n",
      "memory usage: 91.7 KB\n",
      "None\n"
     ]
    }
   ],
   "source": [
    "# schema / data types\n",
    "print(\"\\n[Schema Information]\")\n",
    "print(df.info())"
   ]
  },
  {
   "cell_type": "code",
   "execution_count": 93,
   "id": "3e0276f0-041c-4fe7-a5c6-71d787c515b2",
   "metadata": {},
   "outputs": [
    {
     "name": "stdout",
     "output_type": "stream",
     "text": [
      "\n",
      "[Numeric Describe]\n"
     ]
    },
    {
     "data": {
      "text/html": [
       "<div>\n",
       "<style scoped>\n",
       "    .dataframe tbody tr th:only-of-type {\n",
       "        vertical-align: middle;\n",
       "    }\n",
       "\n",
       "    .dataframe tbody tr th {\n",
       "        vertical-align: top;\n",
       "    }\n",
       "\n",
       "    .dataframe thead th {\n",
       "        text-align: right;\n",
       "    }\n",
       "</style>\n",
       "<table border=\"1\" class=\"dataframe\">\n",
       "  <thead>\n",
       "    <tr style=\"text-align: right;\">\n",
       "      <th></th>\n",
       "      <th>sunspot_group_configuration</th>\n",
       "      <th>sunspot_largest_spot</th>\n",
       "      <th>sunspot_distribution</th>\n",
       "      <th>sunspot_activity</th>\n",
       "      <th>sunspot_evolution</th>\n",
       "      <th>recent_flare_activity</th>\n",
       "      <th>historically_complex_region</th>\n",
       "      <th>historically_complex_region_recent</th>\n",
       "      <th>region_area</th>\n",
       "      <th>largest_spot_area</th>\n",
       "      <th>target</th>\n",
       "    </tr>\n",
       "  </thead>\n",
       "  <tbody>\n",
       "    <tr>\n",
       "      <th>count</th>\n",
       "      <td>1066.000000</td>\n",
       "      <td>1066.000000</td>\n",
       "      <td>1066.000000</td>\n",
       "      <td>1066.000000</td>\n",
       "      <td>1066.000000</td>\n",
       "      <td>1066.000000</td>\n",
       "      <td>1066.000000</td>\n",
       "      <td>1066.000000</td>\n",
       "      <td>1066.000000</td>\n",
       "      <td>1066.0</td>\n",
       "      <td>1066.000000</td>\n",
       "    </tr>\n",
       "    <tr>\n",
       "      <th>mean</th>\n",
       "      <td>2.938086</td>\n",
       "      <td>1.906191</td>\n",
       "      <td>0.964353</td>\n",
       "      <td>0.153846</td>\n",
       "      <td>1.401501</td>\n",
       "      <td>0.059099</td>\n",
       "      <td>0.404315</td>\n",
       "      <td>0.875235</td>\n",
       "      <td>0.025328</td>\n",
       "      <td>0.0</td>\n",
       "      <td>0.300188</td>\n",
       "    </tr>\n",
       "    <tr>\n",
       "      <th>std</th>\n",
       "      <td>2.256740</td>\n",
       "      <td>1.197266</td>\n",
       "      <td>0.806456</td>\n",
       "      <td>0.360971</td>\n",
       "      <td>0.620584</td>\n",
       "      <td>0.320324</td>\n",
       "      <td>0.490989</td>\n",
       "      <td>0.330608</td>\n",
       "      <td>0.157194</td>\n",
       "      <td>0.0</td>\n",
       "      <td>0.835784</td>\n",
       "    </tr>\n",
       "    <tr>\n",
       "      <th>min</th>\n",
       "      <td>0.000000</td>\n",
       "      <td>0.000000</td>\n",
       "      <td>0.000000</td>\n",
       "      <td>0.000000</td>\n",
       "      <td>0.000000</td>\n",
       "      <td>0.000000</td>\n",
       "      <td>0.000000</td>\n",
       "      <td>0.000000</td>\n",
       "      <td>0.000000</td>\n",
       "      <td>0.0</td>\n",
       "      <td>0.000000</td>\n",
       "    </tr>\n",
       "    <tr>\n",
       "      <th>25%</th>\n",
       "      <td>1.000000</td>\n",
       "      <td>1.000000</td>\n",
       "      <td>0.000000</td>\n",
       "      <td>0.000000</td>\n",
       "      <td>1.000000</td>\n",
       "      <td>0.000000</td>\n",
       "      <td>0.000000</td>\n",
       "      <td>1.000000</td>\n",
       "      <td>0.000000</td>\n",
       "      <td>0.0</td>\n",
       "      <td>0.000000</td>\n",
       "    </tr>\n",
       "    <tr>\n",
       "      <th>50%</th>\n",
       "      <td>2.000000</td>\n",
       "      <td>2.000000</td>\n",
       "      <td>1.000000</td>\n",
       "      <td>0.000000</td>\n",
       "      <td>1.000000</td>\n",
       "      <td>0.000000</td>\n",
       "      <td>0.000000</td>\n",
       "      <td>1.000000</td>\n",
       "      <td>0.000000</td>\n",
       "      <td>0.0</td>\n",
       "      <td>0.000000</td>\n",
       "    </tr>\n",
       "    <tr>\n",
       "      <th>75%</th>\n",
       "      <td>6.000000</td>\n",
       "      <td>3.000000</td>\n",
       "      <td>1.000000</td>\n",
       "      <td>0.000000</td>\n",
       "      <td>2.000000</td>\n",
       "      <td>0.000000</td>\n",
       "      <td>1.000000</td>\n",
       "      <td>1.000000</td>\n",
       "      <td>0.000000</td>\n",
       "      <td>0.0</td>\n",
       "      <td>0.000000</td>\n",
       "    </tr>\n",
       "    <tr>\n",
       "      <th>max</th>\n",
       "      <td>6.000000</td>\n",
       "      <td>5.000000</td>\n",
       "      <td>3.000000</td>\n",
       "      <td>1.000000</td>\n",
       "      <td>2.000000</td>\n",
       "      <td>2.000000</td>\n",
       "      <td>1.000000</td>\n",
       "      <td>1.000000</td>\n",
       "      <td>1.000000</td>\n",
       "      <td>0.0</td>\n",
       "      <td>8.000000</td>\n",
       "    </tr>\n",
       "  </tbody>\n",
       "</table>\n",
       "</div>"
      ],
      "text/plain": [
       "       sunspot_group_configuration  sunspot_largest_spot  \\\n",
       "count                  1066.000000           1066.000000   \n",
       "mean                      2.938086              1.906191   \n",
       "std                       2.256740              1.197266   \n",
       "min                       0.000000              0.000000   \n",
       "25%                       1.000000              1.000000   \n",
       "50%                       2.000000              2.000000   \n",
       "75%                       6.000000              3.000000   \n",
       "max                       6.000000              5.000000   \n",
       "\n",
       "       sunspot_distribution  sunspot_activity  sunspot_evolution  \\\n",
       "count           1066.000000       1066.000000        1066.000000   \n",
       "mean               0.964353          0.153846           1.401501   \n",
       "std                0.806456          0.360971           0.620584   \n",
       "min                0.000000          0.000000           0.000000   \n",
       "25%                0.000000          0.000000           1.000000   \n",
       "50%                1.000000          0.000000           1.000000   \n",
       "75%                1.000000          0.000000           2.000000   \n",
       "max                3.000000          1.000000           2.000000   \n",
       "\n",
       "       recent_flare_activity  historically_complex_region  \\\n",
       "count            1066.000000                  1066.000000   \n",
       "mean                0.059099                     0.404315   \n",
       "std                 0.320324                     0.490989   \n",
       "min                 0.000000                     0.000000   \n",
       "25%                 0.000000                     0.000000   \n",
       "50%                 0.000000                     0.000000   \n",
       "75%                 0.000000                     1.000000   \n",
       "max                 2.000000                     1.000000   \n",
       "\n",
       "       historically_complex_region_recent  region_area  largest_spot_area  \\\n",
       "count                         1066.000000  1066.000000             1066.0   \n",
       "mean                             0.875235     0.025328                0.0   \n",
       "std                              0.330608     0.157194                0.0   \n",
       "min                              0.000000     0.000000                0.0   \n",
       "25%                              1.000000     0.000000                0.0   \n",
       "50%                              1.000000     0.000000                0.0   \n",
       "75%                              1.000000     0.000000                0.0   \n",
       "max                              1.000000     1.000000                0.0   \n",
       "\n",
       "            target  \n",
       "count  1066.000000  \n",
       "mean      0.300188  \n",
       "std       0.835784  \n",
       "min       0.000000  \n",
       "25%       0.000000  \n",
       "50%       0.000000  \n",
       "75%       0.000000  \n",
       "max       8.000000  "
      ]
     },
     "metadata": {},
     "output_type": "display_data"
    }
   ],
   "source": [
    "print(\"\\n[Numeric Describe]\")\n",
    "display(df.describe())"
   ]
  },
  {
   "cell_type": "code",
   "execution_count": 94,
   "id": "ca524a75-355b-4017-8913-b89ed1025a20",
   "metadata": {},
   "outputs": [
    {
     "name": "stdout",
     "output_type": "stream",
     "text": [
      "\n",
      "Target column: target\n",
      "Features: 10\n"
     ]
    }
   ],
   "source": [
    "# target columns\n",
    "target_col = 'target'\n",
    "X = df.drop(columns=[target_col])\n",
    "y = df[target_col]\n",
    "\n",
    "print(\"\\nTarget column:\", target_col)\n",
    "print(\"Features:\", len(X.columns))\n"
   ]
  },
  {
   "cell_type": "code",
   "execution_count": 95,
   "id": "098f9076-5be2-494e-b33f-c97d6aae3653",
   "metadata": {},
   "outputs": [
    {
     "name": "stdout",
     "output_type": "stream",
     "text": [
      "\n",
      "Categorical Columns: []\n",
      "Numeric Feature Columns: ['sunspot_group_configuration', 'sunspot_largest_spot', 'sunspot_distribution', 'sunspot_activity', 'sunspot_evolution', 'recent_flare_activity', 'historically_complex_region', 'historically_complex_region_recent', 'region_area', 'largest_spot_area']\n"
     ]
    }
   ],
   "source": [
    "cat_cols = X.select_dtypes(include=['object', 'category']).columns.tolist()\n",
    "num_cols = X.select_dtypes(include=['int64','float64']).columns.tolist()\n",
    "\n",
    "print(\"\\nCategorical Columns:\", cat_cols)\n",
    "print(\"Numeric Feature Columns:\", num_cols)\n"
   ]
  },
  {
   "cell_type": "code",
   "execution_count": 96,
   "id": "c3be6c1b-2193-454d-90bc-5a5cd12e02f9",
   "metadata": {},
   "outputs": [
    {
     "name": "stdout",
     "output_type": "stream",
     "text": [
      "\n",
      "Missing values per column:\n",
      "sunspot_group_configuration           0\n",
      "sunspot_largest_spot                  0\n",
      "sunspot_distribution                  0\n",
      "sunspot_activity                      0\n",
      "sunspot_evolution                     0\n",
      "recent_flare_activity                 0\n",
      "historically_complex_region           0\n",
      "historically_complex_region_recent    0\n",
      "region_area                           0\n",
      "largest_spot_area                     0\n",
      "target                                0\n",
      "dtype: int64\n",
      "\n",
      "Total duplicated rows: 716\n"
     ]
    }
   ],
   "source": [
    "print(\"\\nMissing values per column:\")\n",
    "print(df.isna().sum())\n",
    "\n",
    "print(\"\\nTotal duplicated rows:\", df.duplicated().sum())\n"
   ]
  },
  {
   "cell_type": "code",
   "execution_count": 97,
   "id": "55eb38ad-f594-4995-85be-29fac4cfce59",
   "metadata": {},
   "outputs": [
    {
     "data": {
      "image/png": "[encoded data removed]",
      "text/plain": [
       "<Figure size 600x300 with 1 Axes>"
      ]
     },
     "metadata": {},
     "output_type": "display_data"
    }
   ],
   "source": [
    "plt.figure(figsize=(6,3))\n",
    "plt.hist(y, bins=20, alpha=0.7, color='darkorange')\n",
    "plt.title(\"Distribution of Target (Solar Flares)\")\n",
    "plt.xlabel(\"Target Value\")\n",
    "plt.ylabel(\"Frequency\")\n",
    "plt.show()\n"
   ]
  },
  {
   "cell_type": "markdown",
   "id": "99269fc3-4749-4086-bb13-371504a80111",
   "metadata": {},
   "source": [
    "## 3) Preprocessing + Train/Test Split"
   ]
  },
  {
   "cell_type": "code",
   "execution_count": 98,
   "id": "ad6656fb-3563-46a0-9f06-06b5dc83717f",
   "metadata": {},
   "outputs": [
    {
     "name": "stdout",
     "output_type": "stream",
     "text": [
      "Train/Test (group-aware): (861, 10) (205, 10)\n"
     ]
    }
   ],
   "source": [
    "# (group key) exclude target\n",
    "feat_key = pd.util.hash_pandas_object(X, index=False).values\n",
    "\n",
    "# group-aware split \n",
    "gss = GroupShuffleSplit(n_splits=1, test_size=0.25, random_state=42)\n",
    "tr_idx, te_idx = next(gss.split(X, y, groups=feat_key))\n",
    "\n",
    "X_tr, X_te = X.iloc[tr_idx], X.iloc[te_idx]\n",
    "y_tr, y_te = y.iloc[tr_idx], y.iloc[te_idx]\n",
    "groups_tr, groups_te = feat_key[tr_idx], feat_key[te_idx]\n",
    "\n",
    "print(\"Train/Test (group-aware):\", X_tr.shape, X_te.shape)\n"
   ]
  },
  {
   "cell_type": "code",
   "execution_count": 99,
   "id": "68c30793-b3ce-4945-9e14-e3077d16b1cb",
   "metadata": {},
   "outputs": [],
   "source": [
    "# one-hot\n",
    "cat_cols = [\n",
    "    'sunspot_group_configuration',\n",
    "    'sunspot_largest_spot',\n",
    "    'sunspot_distribution',\n",
    "    'sunspot_evolution',\n",
    "    'recent_flare_activity'\n",
    "]\n",
    "bin_cols = [\n",
    "    'sunspot_activity',\n",
    "    'historically_complex_region',\n",
    "    'historically_complex_region_recent',\n",
    "    'region_area',\n",
    "    'largest_spot_area'\n",
    "]"
   ]
  },
  {
   "cell_type": "code",
   "execution_count": 100,
   "id": "37ab1b5f-5c00-441c-8a1d-3585b8c0cf14",
   "metadata": {},
   "outputs": [],
   "source": [
    "# categorical\n",
    "preprocess_ohe = ColumnTransformer(\n",
    "    transformers=[\n",
    "        ('cat', OneHotEncoder(handle_unknown='ignore', sparse_output=False), cat_cols),\n",
    "        ('bin', 'passthrough', bin_cols)\n",
    "    ],\n",
    "    remainder='drop'\n",
    ")\n",
    "\n",
    "# for linear model\n",
    "lin_scaler = StandardScaler()"
   ]
  },
  {
   "cell_type": "markdown",
   "id": "3e315cdf-3699-49ea-aca3-a62320d2d814",
   "metadata": {},
   "source": [
    "## 4) Baseline (Dummy Regressor)"
   ]
  },
  {
   "cell_type": "code",
   "execution_count": 101,
   "id": "ecee0d83-6d15-4e1e-8be8-fa1dda852827",
   "metadata": {},
   "outputs": [
    {
     "name": "stdout",
     "output_type": "stream",
     "text": [
      "Dummy(mean) | RMSE: 0.7779513288770808 MAE: 0.484473527662106 R²: -0.0003885128626659462\n"
     ]
    }
   ],
   "source": [
    "# Baseline (Dummy Regressor)\n",
    "def rmse(y_true, y_pred):\n",
    "    return np.sqrt(mean_squared_error(y_true, y_pred))\n",
    "\n",
    "# Dummy does not use X -> no need to scale; keep passthrough\n",
    "dummy_mean = Pipeline([\n",
    "    ('prep', 'passthrough'),\n",
    "    ('reg', DummyRegressor(strategy='mean'))\n",
    "]).fit(X_tr, y_tr)\n",
    "\n",
    "y_dummy_mean = dummy_mean.predict(X_te)\n",
    "print(\n",
    "    \"Dummy(mean) | RMSE:\", rmse(y_te, y_dummy_mean),\n",
    "    \"MAE:\", mean_absolute_error(y_te, y_dummy_mean),\n",
    "    \"R²:\", r2_score(y_te, y_dummy_mean)\n",
    ")\n"
   ]
  },
  {
   "cell_type": "markdown",
   "id": "33b3b51f-0639-459f-8a1e-f33fd946f58f",
   "metadata": {},
   "source": [
    "## 5) Model Registry + Cross-Validation Comparison"
   ]
  },
  {
   "cell_type": "code",
   "execution_count": 102,
   "id": "8eb80e5a-6843-4325-999a-0d24be42d0d3",
   "metadata": {},
   "outputs": [
    {
     "data": {
      "text/html": [
       "<div>\n",
       "<style scoped>\n",
       "    .dataframe tbody tr th:only-of-type {\n",
       "        vertical-align: middle;\n",
       "    }\n",
       "\n",
       "    .dataframe tbody tr th {\n",
       "        vertical-align: top;\n",
       "    }\n",
       "\n",
       "    .dataframe thead th {\n",
       "        text-align: right;\n",
       "    }\n",
       "</style>\n",
       "<table border=\"1\" class=\"dataframe\">\n",
       "  <thead>\n",
       "    <tr style=\"text-align: right;\">\n",
       "      <th></th>\n",
       "      <th>Model</th>\n",
       "      <th>CV RMSE (mean)</th>\n",
       "      <th>CV RMSE (std)</th>\n",
       "      <th>CV MAE (mean)</th>\n",
       "      <th>CV MAE (std)</th>\n",
       "      <th>CV R² (mean)</th>\n",
       "      <th>CV R² (std)</th>\n",
       "    </tr>\n",
       "  </thead>\n",
       "  <tbody>\n",
       "    <tr>\n",
       "      <th>0</th>\n",
       "      <td>Lasso</td>\n",
       "      <td>0.776864</td>\n",
       "      <td>0.075357</td>\n",
       "      <td>0.434968</td>\n",
       "      <td>0.077356</td>\n",
       "      <td>0.131437</td>\n",
       "      <td>0.152790</td>\n",
       "    </tr>\n",
       "    <tr>\n",
       "      <th>1</th>\n",
       "      <td>Ridge</td>\n",
       "      <td>0.777404</td>\n",
       "      <td>0.075765</td>\n",
       "      <td>0.436679</td>\n",
       "      <td>0.078848</td>\n",
       "      <td>0.130057</td>\n",
       "      <td>0.154683</td>\n",
       "    </tr>\n",
       "    <tr>\n",
       "      <th>2</th>\n",
       "      <td>Linear</td>\n",
       "      <td>0.777642</td>\n",
       "      <td>0.075790</td>\n",
       "      <td>0.436913</td>\n",
       "      <td>0.078978</td>\n",
       "      <td>0.129336</td>\n",
       "      <td>0.156100</td>\n",
       "    </tr>\n",
       "    <tr>\n",
       "      <th>3</th>\n",
       "      <td>RF</td>\n",
       "      <td>0.787625</td>\n",
       "      <td>0.077297</td>\n",
       "      <td>0.417827</td>\n",
       "      <td>0.079914</td>\n",
       "      <td>0.116961</td>\n",
       "      <td>0.070729</td>\n",
       "    </tr>\n",
       "    <tr>\n",
       "      <th>4</th>\n",
       "      <td>DT</td>\n",
       "      <td>0.875072</td>\n",
       "      <td>0.091774</td>\n",
       "      <td>0.466721</td>\n",
       "      <td>0.117937</td>\n",
       "      <td>-0.089690</td>\n",
       "      <td>0.101646</td>\n",
       "    </tr>\n",
       "  </tbody>\n",
       "</table>\n",
       "</div>"
      ],
      "text/plain": [
       "    Model  CV RMSE (mean)  CV RMSE (std)  CV MAE (mean)  CV MAE (std)  \\\n",
       "0   Lasso        0.776864       0.075357       0.434968      0.077356   \n",
       "1   Ridge        0.777404       0.075765       0.436679      0.078848   \n",
       "2  Linear        0.777642       0.075790       0.436913      0.078978   \n",
       "3      RF        0.787625       0.077297       0.417827      0.079914   \n",
       "4      DT        0.875072       0.091774       0.466721      0.117937   \n",
       "\n",
       "   CV R² (mean)  CV R² (std)  \n",
       "0      0.131437     0.152790  \n",
       "1      0.130057     0.154683  \n",
       "2      0.129336     0.156100  \n",
       "3      0.116961     0.070729  \n",
       "4     -0.089690     0.101646  "
      ]
     },
     "metadata": {},
     "output_type": "display_data"
    }
   ],
   "source": [
    "CV_SPLITS = 5\n",
    "cv = GroupKFold(n_splits=CV_SPLITS)\n",
    "\n",
    "registry = {\n",
    "    # linear\n",
    "    \"Linear\": Pipeline([\n",
    "        ('prep', preprocess_ohe),\n",
    "        ('scale', lin_scaler),\n",
    "        ('reg', LinearRegression())\n",
    "    ]),\n",
    "    \"Ridge\": Pipeline([\n",
    "        ('prep', preprocess_ohe),\n",
    "        ('scale', lin_scaler),\n",
    "        ('reg', Ridge(alpha=1.0))\n",
    "    ]),\n",
    "    \"Lasso\": Pipeline([\n",
    "        ('prep', preprocess_ohe),\n",
    "        ('scale', lin_scaler),\n",
    "        ('reg', Lasso(alpha=0.001, max_iter=5000))\n",
    "    ]),\n",
    "\n",
    "    # tree\n",
    "    \"DT\": Pipeline([\n",
    "        ('prep', preprocess_ohe),\n",
    "        ('reg', DecisionTreeRegressor(random_state=42))\n",
    "    ]),\n",
    "    \"RF\": Pipeline([\n",
    "        ('prep', preprocess_ohe),\n",
    "        ('reg', RandomForestRegressor(n_estimators=200, random_state=42, n_jobs=-1))\n",
    "    ]),\n",
    "}\n",
    "\n",
    "rows = []\n",
    "for name, pipe in registry.items():\n",
    "    scores = cross_validate(\n",
    "        pipe, X_tr, y_tr,\n",
    "        cv=cv, n_jobs=-1,\n",
    "        scoring={\n",
    "            'r2': 'r2',\n",
    "            'neg_rmse': 'neg_root_mean_squared_error',\n",
    "            'neg_mae': 'neg_mean_absolute_error'\n",
    "        },\n",
    "        return_train_score=False,\n",
    "        groups=groups_tr  # ★ 그룹 전달\n",
    "    )\n",
    "    rows.append({\n",
    "        \"Model\": name,\n",
    "        \"CV RMSE (mean)\": -scores['test_neg_rmse'].mean(),\n",
    "        \"CV RMSE (std)\":  scores['test_neg_rmse'].std(),\n",
    "        \"CV MAE (mean)\":  -scores['test_neg_mae'].mean(),\n",
    "        \"CV MAE (std)\":   scores['test_neg_mae'].std(),\n",
    "        \"CV R² (mean)\":   scores['test_r2'].mean(),\n",
    "        \"CV R² (std)\":    scores['test_r2'].std(),\n",
    "    })\n",
    "\n",
    "cv_df = pd.DataFrame(rows).sort_values(\"CV RMSE (mean)\").reset_index(drop=True)\n",
    "display(cv_df)\n"
   ]
  },
  {
   "cell_type": "code",
   "execution_count": 103,
   "id": "90694176-d7bc-44a7-94c4-8b14b02e6e47",
   "metadata": {},
   "outputs": [
    {
     "data": {
      "image/png": "[encoded data removed]",
      "text/plain": [
       "<Figure size 800x400 with 1 Axes>"
      ]
     },
     "metadata": {},
     "output_type": "display_data"
    }
   ],
   "source": [
    "plt.figure(figsize=(8,4))\n",
    "plt.barh(cv_df[\"Model\"], cv_df[\"CV RMSE (mean)\"], xerr=cv_df[\"CV RMSE (std)\"])\n",
    "plt.xlabel(\"CV RMSE (mean ± std) ↓\")\n",
    "plt.title(\"Model Comparison via CV (train-only)\")\n",
    "plt.tight_layout()\n",
    "plt.show()"
   ]
  },
  {
   "cell_type": "markdown",
   "id": "92f2dfb1-396e-4269-924f-32f2603c6ec2",
   "metadata": {},
   "source": [
    "## 6) Hyperparameter Tuning & Cross-Validation Comparison"
   ]
  },
  {
   "cell_type": "code",
   "execution_count": 104,
   "id": "8c57a907-5d74-4204-be97-678a0531fc8b",
   "metadata": {},
   "outputs": [
    {
     "name": "stdout",
     "output_type": "stream",
     "text": [
      "Lasso best: {'reg__alpha': np.float64(0.006579332246575682)} 0.7747807425112134\n"
     ]
    }
   ],
   "source": [
    "# Lasso\n",
    "lasso_pipe = Pipeline([\n",
    "    ('prep', preprocess_ohe),\n",
    "    ('scale', lin_scaler),\n",
    "    ('reg', Lasso(max_iter=5000))\n",
    "])\n",
    "lasso_grid = {'reg__alpha': np.logspace(-4, 1, 12)}\n",
    "\n",
    "lasso_gs = GridSearchCV(\n",
    "    lasso_pipe, lasso_grid,\n",
    "    cv=GroupKFold(n_splits=CV_SPLITS), n_jobs=-1,\n",
    "    scoring='neg_root_mean_squared_error',\n",
    "    return_train_score=True, refit=True\n",
    ")\n",
    "lasso_gs.fit(X_tr, y_tr, groups=groups_tr)\n",
    "print(\"Lasso best:\", lasso_gs.best_params_, -lasso_gs.best_score_)\n"
   ]
  },
  {
   "cell_type": "code",
   "execution_count": 105,
   "id": "05f293bf-36df-48bf-bfe2-8f97f8f1caf9",
   "metadata": {},
   "outputs": [
    {
     "name": "stdout",
     "output_type": "stream",
     "text": [
      "Ridge best params: {'reg__alpha': 10.0} | best CV RMSE: 0.7755447049199774\n"
     ]
    }
   ],
   "source": [
    "# ridge\n",
    "ridge_pipe = Pipeline([\n",
    "    ('prep', preprocess_ohe),\n",
    "    ('scale', lin_scaler),\n",
    "    ('reg', Ridge())\n",
    "])\n",
    "ridge_grid = {'reg__alpha': [0.1, 1.0, 5.0, 10.0]}\n",
    "\n",
    "ridge_gs = GridSearchCV(\n",
    "    ridge_pipe, ridge_grid,\n",
    "    cv=GroupKFold(n_splits=CV_SPLITS), n_jobs=-1,\n",
    "    scoring='neg_root_mean_squared_error',\n",
    "    return_train_score=True, refit=True\n",
    ")\n",
    "ridge_gs.fit(X_tr, y_tr, groups=groups_tr)\n",
    "print(\"Ridge best params:\", ridge_gs.best_params_,\n",
    "      \"| best CV RMSE:\", -ridge_gs.best_score_)\n"
   ]
  },
  {
   "cell_type": "code",
   "execution_count": 106,
   "id": "8e1d9d01-1cfd-4223-88b2-86ee98cff601",
   "metadata": {},
   "outputs": [
    {
     "name": "stdout",
     "output_type": "stream",
     "text": [
      "RF best params: {'reg__max_depth': None, 'reg__min_samples_leaf': 5, 'reg__n_estimators': 400} | best CV RMSE: 0.77405052548288\n"
     ]
    }
   ],
   "source": [
    "# RF\n",
    "rf_pipe = Pipeline([\n",
    "    ('prep', preprocess_ohe),\n",
    "    ('reg', RandomForestRegressor(random_state=42, n_jobs=-1))\n",
    "])\n",
    "rf_grid = {\n",
    "    'reg__n_estimators': [200, 400],\n",
    "    'reg__max_depth': [None, 12, 20],\n",
    "    'reg__min_samples_leaf': [1, 3, 5],\n",
    "}\n",
    "rf_gs = GridSearchCV(\n",
    "    rf_pipe, rf_grid,\n",
    "    cv=GroupKFold(n_splits=CV_SPLITS), n_jobs=-1,\n",
    "    scoring='neg_root_mean_squared_error',\n",
    "    return_train_score=True, refit=True\n",
    ")\n",
    "rf_gs.fit(X_tr, y_tr, groups=groups_tr)\n",
    "print(\"RF best params:\", rf_gs.best_params_,\n",
    "      \"| best CV RMSE:\", -rf_gs.best_score_)"
   ]
  },
  {
   "cell_type": "markdown",
   "id": "e7ea86d9-5e3e-4d93-9dae-9b302dc1520f",
   "metadata": {},
   "source": [
    "## 7) Final Model Selection & Test Evaluation"
   ]
  },
  {
   "cell_type": "code",
   "execution_count": 107,
   "id": "1fb85085-a52d-4814-b06d-71e8cf0bc89a",
   "metadata": {},
   "outputs": [],
   "source": [
    "cv = GroupKFold(n_splits=CV_SPLITS)\n",
    "\n",
    "# linear baseline\n",
    "linear_pipe = Pipeline([\n",
    "    ('prep', preprocess_ohe),\n",
    "    ('scale', lin_scaler),\n",
    "    ('reg', LinearRegression())\n",
    "])\n",
    "lin_cv = cross_validate(\n",
    "    linear_pipe, X_tr, y_tr, cv=cv, n_jobs=-1,\n",
    "    scoring={'r2':'r2','neg_rmse':'neg_root_mean_squared_error','neg_mae':'neg_mean_absolute_error'},\n",
    "    return_train_score=False, groups=groups_tr\n",
    ")"
   ]
  },
  {
   "cell_type": "code",
   "execution_count": 108,
   "id": "c7ad887d-42a3-45b6-8851-eb901a8d62b1",
   "metadata": {},
   "outputs": [
    {
     "data": {
      "text/html": [
       "<div>\n",
       "<style scoped>\n",
       "    .dataframe tbody tr th:only-of-type {\n",
       "        vertical-align: middle;\n",
       "    }\n",
       "\n",
       "    .dataframe tbody tr th {\n",
       "        vertical-align: top;\n",
       "    }\n",
       "\n",
       "    .dataframe thead th {\n",
       "        text-align: right;\n",
       "    }\n",
       "</style>\n",
       "<table border=\"1\" class=\"dataframe\">\n",
       "  <thead>\n",
       "    <tr style=\"text-align: right;\">\n",
       "      <th></th>\n",
       "      <th>Model</th>\n",
       "      <th>Best Params</th>\n",
       "      <th>CV RMSE (mean)</th>\n",
       "      <th>CV RMSE (std)</th>\n",
       "      <th>Test RMSE</th>\n",
       "      <th>Test MAE</th>\n",
       "      <th>Test R²</th>\n",
       "    </tr>\n",
       "  </thead>\n",
       "  <tbody>\n",
       "    <tr>\n",
       "      <th>0</th>\n",
       "      <td>RF</td>\n",
       "      <td>{'reg__max_depth': None, 'reg__min_samples_lea...</td>\n",
       "      <td>0.774051</td>\n",
       "      <td>0.082581</td>\n",
       "      <td>0.777457</td>\n",
       "      <td>0.459705</td>\n",
       "      <td>0.000881</td>\n",
       "    </tr>\n",
       "    <tr>\n",
       "      <th>1</th>\n",
       "      <td>Lasso</td>\n",
       "      <td>{'reg__alpha': 0.006579332246575682}</td>\n",
       "      <td>0.774781</td>\n",
       "      <td>0.074692</td>\n",
       "      <td>0.763359</td>\n",
       "      <td>0.463629</td>\n",
       "      <td>0.036790</td>\n",
       "    </tr>\n",
       "    <tr>\n",
       "      <th>2</th>\n",
       "      <td>Ridge</td>\n",
       "      <td>{'reg__alpha': 10.0}</td>\n",
       "      <td>0.775545</td>\n",
       "      <td>0.075660</td>\n",
       "      <td>0.776014</td>\n",
       "      <td>0.473859</td>\n",
       "      <td>0.004588</td>\n",
       "    </tr>\n",
       "    <tr>\n",
       "      <th>3</th>\n",
       "      <td>Linear</td>\n",
       "      <td>(none)</td>\n",
       "      <td>0.777642</td>\n",
       "      <td>0.075790</td>\n",
       "      <td>0.779069</td>\n",
       "      <td>0.475973</td>\n",
       "      <td>-0.003266</td>\n",
       "    </tr>\n",
       "  </tbody>\n",
       "</table>\n",
       "</div>"
      ],
      "text/plain": [
       "    Model                                        Best Params  CV RMSE (mean)  \\\n",
       "0      RF  {'reg__max_depth': None, 'reg__min_samples_lea...        0.774051   \n",
       "1   Lasso               {'reg__alpha': 0.006579332246575682}        0.774781   \n",
       "2   Ridge                               {'reg__alpha': 10.0}        0.775545   \n",
       "3  Linear                                             (none)        0.777642   \n",
       "\n",
       "   CV RMSE (std)  Test RMSE  Test MAE   Test R²  \n",
       "0       0.082581   0.777457  0.459705  0.000881  \n",
       "1       0.074692   0.763359  0.463629  0.036790  \n",
       "2       0.075660   0.776014  0.473859  0.004588  \n",
       "3       0.075790   0.779069  0.475973 -0.003266  "
      ]
     },
     "metadata": {},
     "output_type": "display_data"
    }
   ],
   "source": [
    "rows = []\n",
    "\n",
    "def add_row(name, est_or_gs, best_params=None):\n",
    "    if hasattr(est_or_gs, \"best_estimator_\"):  # GridSearchCV\n",
    "        est = est_or_gs.best_estimator_\n",
    "        cv_rmse_mean = -est_or_gs.best_score_\n",
    "        cv_rmse_std  = est_or_gs.cv_results_['std_test_score'][est_or_gs.best_index_]\n",
    "        params = est_or_gs.best_params_\n",
    "    else:  # Linear\n",
    "        est = est_or_gs\n",
    "        cv_rmse_mean = -lin_cv['test_neg_rmse'].mean()\n",
    "        cv_rmse_std  =  lin_cv['test_neg_rmse'].std()\n",
    "        params = \"(none)\"\n",
    "    est.fit(X_tr, y_tr)\n",
    "    y_hat = est.predict(X_te)\n",
    "    rows.append({\n",
    "        \"Model\": name,\n",
    "        \"Best Params\": params,\n",
    "        \"CV RMSE (mean)\": cv_rmse_mean,\n",
    "        \"CV RMSE (std)\":  cv_rmse_std,\n",
    "        \"Test RMSE\": rmse(y_te, y_hat),\n",
    "        \"Test MAE\": mean_absolute_error(y_te, y_hat),\n",
    "        \"Test R²\": r2_score(y_te, y_hat)\n",
    "    })\n",
    "\n",
    "add_row(\"Lasso\", lasso_gs)\n",
    "add_row(\"Ridge\", ridge_gs)\n",
    "add_row(\"RF\",    rf_gs)\n",
    "add_row(\"Linear\", linear_pipe)\n",
    "\n",
    "final_compare = pd.DataFrame(rows).sort_values([\"CV RMSE (mean)\", \"Test MAE\"]).reset_index(drop=True)\n",
    "display(final_compare)\n"
   ]
  },
  {
   "cell_type": "code",
   "execution_count": 109,
   "id": "8e45781a-c45a-4292-82b6-b862f9af044b",
   "metadata": {},
   "outputs": [
    {
     "name": "stdout",
     "output_type": "stream",
     "text": [
      "\n",
      "Selected: RF | CV RMSE: 0.7741 | \n",
      "Test RMSE: 0.7775 | \n",
      "Test MAE: 0.4597 | \n",
      "Test R²: 0.0009\n"
     ]
    }
   ],
   "source": [
    "# final select\n",
    "best_name = final_compare.iloc[0][\"Model\"]\n",
    "best_est  = {\n",
    "    \"Lasso\": lasso_gs.best_estimator_,\n",
    "    \"Ridge\": ridge_gs.best_estimator_,\n",
    "    \"RF\":    rf_gs.best_estimator_,\n",
    "    \"Linear\": linear_pipe\n",
    "}[best_name]\n",
    "\n",
    "print(f\"\\nSelected: {best_name} | CV RMSE: {final_compare.iloc[0]['CV RMSE (mean)']:.4f} | \"\n",
    "      f\"\\nTest RMSE: {final_compare.iloc[0]['Test RMSE']:.4f} | \"\n",
    "      f\"\\nTest MAE: {final_compare.iloc[0]['Test MAE']:.4f} | \"\n",
    "      f\"\\nTest R²: {final_compare.iloc[0]['Test R²']:.4f}\")\n"
   ]
  },
  {
   "cell_type": "code",
   "execution_count": 110,
   "id": "21bf12f2-9473-43ea-8591-c6c6e51a61c4",
   "metadata": {},
   "outputs": [
    {
     "data": {
      "image/png": "[encoded data removed]",
      "text/plain": [
       "<Figure size 500x500 with 1 Axes>"
      ]
     },
     "metadata": {},
     "output_type": "display_data"
    }
   ],
   "source": [
    "# Pred vs Actual\n",
    "plt.figure(figsize=(5,5))\n",
    "plt.scatter(y_te, y_hat, alpha=0.4, s=12)\n",
    "lims = [min(y_te.min(), y_hat.min()), max(y_te.max(), y_hat.max())]\n",
    "plt.plot(lims, lims)\n",
    "plt.xlabel(\"Actual\")\n",
    "plt.ylabel(\"Predicted\")\n",
    "plt.title(f\"Predicted vs Actual ({best_name})\")\n",
    "plt.tight_layout()\n",
    "plt.show()\n"
   ]
  },
  {
   "cell_type": "code",
   "execution_count": 111,
   "id": "1a10fe22-47b6-44ea-a269-bafda95265bd",
   "metadata": {},
   "outputs": [
    {
     "data": {
      "image/png": "[encoded data removed]",
      "text/plain": [
       "<Figure size 600x300 with 1 Axes>"
      ]
     },
     "metadata": {},
     "output_type": "display_data"
    }
   ],
   "source": [
    "# Residual plots\n",
    "resid = y_te - y_hat\n",
    "plt.figure(figsize=(6,3))\n",
    "plt.scatter(y_hat, resid, alpha=0.4, s=12)\n",
    "plt.axhline(0, color='k', lw=1)\n",
    "plt.xlabel(\"Predicted\")\n",
    "plt.ylabel(\"Residual\")\n",
    "plt.title(\"Residual Plot\")\n",
    "plt.tight_layout()\n",
    "plt.show()"
   ]
  },
  {
   "cell_type": "code",
   "execution_count": 112,
   "id": "4544f061-6be4-4200-b9b5-f983114c9adf",
   "metadata": {},
   "outputs": [
    {
     "data": {
      "image/png": "[encoded data removed]",
      "text/plain": [
       "<Figure size 600x300 with 1 Axes>"
      ]
     },
     "metadata": {},
     "output_type": "display_data"
    }
   ],
   "source": [
    "plt.figure(figsize=(6,3))\n",
    "plt.hist(resid, bins=30, alpha=0.7)\n",
    "plt.title(\"Residual Histogram\"); plt.tight_layout(); plt.show()"
   ]
  },
  {
   "cell_type": "markdown",
   "id": "9997dc4a-b2c6-4c28-a5e9-19f0f9bda6c4",
   "metadata": {},
   "source": [
    "## 8) Test Size Sensitivity Analysis"
   ]
  },
  {
   "cell_type": "code",
   "execution_count": 113,
   "id": "bb021a78-f975-48b9-b769-5eff38b3e264",
   "metadata": {},
   "outputs": [
    {
     "data": {
      "text/html": [
       "<div>\n",
       "<style scoped>\n",
       "    .dataframe tbody tr th:only-of-type {\n",
       "        vertical-align: middle;\n",
       "    }\n",
       "\n",
       "    .dataframe tbody tr th {\n",
       "        vertical-align: top;\n",
       "    }\n",
       "\n",
       "    .dataframe thead th {\n",
       "        text-align: right;\n",
       "    }\n",
       "</style>\n",
       "<table border=\"1\" class=\"dataframe\">\n",
       "  <thead>\n",
       "    <tr style=\"text-align: right;\">\n",
       "      <th></th>\n",
       "      <th>Test Size</th>\n",
       "      <th>RMSE</th>\n",
       "      <th>MAE</th>\n",
       "      <th>R²</th>\n",
       "    </tr>\n",
       "  </thead>\n",
       "  <tbody>\n",
       "    <tr>\n",
       "      <th>0</th>\n",
       "      <td>0.20</td>\n",
       "      <td>0.778164</td>\n",
       "      <td>0.451106</td>\n",
       "      <td>-0.005008</td>\n",
       "    </tr>\n",
       "    <tr>\n",
       "      <th>1</th>\n",
       "      <td>0.25</td>\n",
       "      <td>0.777457</td>\n",
       "      <td>0.459705</td>\n",
       "      <td>0.000881</td>\n",
       "    </tr>\n",
       "    <tr>\n",
       "      <th>2</th>\n",
       "      <td>0.30</td>\n",
       "      <td>0.763006</td>\n",
       "      <td>0.448140</td>\n",
       "      <td>0.055386</td>\n",
       "    </tr>\n",
       "    <tr>\n",
       "      <th>3</th>\n",
       "      <td>0.40</td>\n",
       "      <td>0.729671</td>\n",
       "      <td>0.407916</td>\n",
       "      <td>0.120107</td>\n",
       "    </tr>\n",
       "  </tbody>\n",
       "</table>\n",
       "</div>"
      ],
      "text/plain": [
       "   Test Size      RMSE       MAE        R²\n",
       "0       0.20  0.778164  0.451106 -0.005008\n",
       "1       0.25  0.777457  0.459705  0.000881\n",
       "2       0.30  0.763006  0.448140  0.055386\n",
       "3       0.40  0.729671  0.407916  0.120107"
      ]
     },
     "metadata": {},
     "output_type": "display_data"
    }
   ],
   "source": [
    "def eval_with_test_size(model_template, test_size):\n",
    "    gss = GroupShuffleSplit(n_splits=1, test_size=test_size, random_state=42)\n",
    "    tr_idx, te_idx = next(gss.split(X, y, groups=feat_key))\n",
    "    X_tr2, X_te2 = X.iloc[tr_idx], X.iloc[te_idx]\n",
    "    y_tr2, y_te2 = y.iloc[tr_idx], y.iloc[te_idx]\n",
    "\n",
    "    model = clone(model_template)\n",
    "    model.fit(X_tr2, y_tr2)\n",
    "    pred = model.predict(X_te2)\n",
    "    return {\"Test Size\": test_size,\n",
    "            \"RMSE\": np.sqrt(mean_squared_error(y_te2, pred)),\n",
    "            \"MAE\": mean_absolute_error(y_te2, pred),\n",
    "            \"R²\": r2_score(y_te2, pred)}\n",
    "\n",
    "final_template = clone(best_est)\n",
    "sizes = [0.2, 0.25, 0.3, 0.4]\n",
    "sens = [eval_with_test_size(final_template, s) for s in sizes]\n",
    "sens_df = pd.DataFrame(sens)\n",
    "display(sens_df)\n"
   ]
  },
  {
   "cell_type": "code",
   "execution_count": 114,
   "id": "65c9ace7-786c-41a3-9285-c68bdc4e9248",
   "metadata": {},
   "outputs": [
    {
     "data": {
      "image/png": "[encoded data removed]",
      "text/plain": [
       "<Figure size 640x480 with 1 Axes>"
      ]
     },
     "metadata": {},
     "output_type": "display_data"
    }
   ],
   "source": [
    "plt.figure()\n",
    "plt.plot(sens_df[\"Test Size\"], sens_df[\"RMSE\"], marker='o', label=\"RMSE\")\n",
    "plt.plot(sens_df[\"Test Size\"], sens_df[\"MAE\"], marker='o', label=\"MAE\")\n",
    "plt.plot(sens_df[\"Test Size\"], sens_df[\"R²\"], marker='o', label=\"R²\")\n",
    "plt.xlabel(\"Test Size\"); plt.ylabel(\"Metric Value\")\n",
    "plt.title(\"Effect of Test Size on Model Performance\")\n",
    "plt.legend(); plt.grid(True, alpha=0.3)\n",
    "plt.show()\n"
   ]
  },
  {
   "cell_type": "markdown",
   "id": "7db7e7a1-156e-4ec4-8346-b8b13db2a243",
   "metadata": {},
   "source": [
    "### Discussion\n",
    "\n",
    "The Solar Flares dataset consists primarily of **categorical and ordinal descriptors** of sunspot regions, while the target variable (flare count) is **highly zero-inflated**.\n",
    "This means that most observations contain no flare events, and as a result, the **overall predictive signal is weak**.\n",
    "\n",
    "- After applying **One-Hot Encoding**, feature dimensionality increased but **no strong nonlinear patterns emerged**.\n",
    "- **Ridge Regression** and **Lasso Regression** performed similarly, providing **stable coefficient estimates** through regularization.\n",
    "- **RandomForest** did **not substantially outperform** the linear models, suggesting that the dataset **does not contain strong hierarchical or interaction-based structure** that tree-based models could exploit.\n",
    "- Because the underlying relationships are subtle and low-intensity, even complex models are **limited by the available information**.\n",
    "\n",
    "The cross-validation and sensitivity analyses consistently demonstrate that the dataset **supports only modest predictive accuracy**, and that **regularized linear models** are an appropriate choice given the **low signal-to-noise ratio**.\n",
    "Overall, the dataset’s relationships appear **weak, mostly additive, and not strongly nonlinear**.\n"
   ]
  },
  {
   "cell_type": "markdown",
   "id": "742cc332-995f-4cbc-95c6-481f360a7ca6",
   "metadata": {},
   "source": [
    "### Conclusion\n",
    "\n",
    "The best-performing models in this task were **Ridge Regression and Lasso Regression** combined with **One-Hot Encoding**, offering a balance of **interpretability, stability, and generalization performance**.\n",
    "While **RandomForest** achieved similar RMSE scores, it did not provide a clear advantage and increased model complexity without improving predictive accuracy.\n",
    "\n",
    "Given the **low R² values**, the current feature set appears to contain **limited predictive information** about solar flare occurrence.\n",
    "Substantial performance improvement will likely require **more detailed physical measurements**, such as **magnetic field dynamics** or **temporal flare history**, rather than further hyperparameter tuning.\n",
    "\n",
    "Therefore, this modeling outcome should be interpreted as a **baseline benchmark**, rather than a fully predictive solar flare forecasting system.\n"
   ]
  },
  {
   "cell_type": "markdown",
   "id": "f492f6e9-1036-4864-a044-4b723f2f995f",
   "metadata": {},
   "source": [
    "### Reflection\n",
    "\n",
    "The results show that **no single model is universally optimal**.\n",
    "\n",
    "- For Connect-4, the data consists of **non-ordinal categorical spatial states**, making **One-Hot + RandomForest** the best match.\n",
    "- For Solar Flares, the dataset is composed of **categorical/ordinal descriptors** of sunspot regions, and the target is **highly zero-inflated**.\n",
    "  The predictive signal is **weak and mostly additive**, which is why **regularized linear models (Ridge/Lasso)** performed similarly to **RandomForest**, despite the latter’s ability to model nonlinear interactions.\n",
    "  This indicates that the **limitation lies in the available features**, rather than in model selection complexity.\n",
    "\n",
    "This demonstrates that **model selection must be data-driven**.\n",
    "Model choice depends on:\n",
    "\n",
    "- feature type (spatial vs categorical vs continuous)\n",
    "- underlying physical signal strength\n",
    "- whether relationships are **linear or nonlinear, strong or weak**.\n",
    "\n",
    "→ Therefore, **there is not one “best” model in general — only the best model for a given dataset**, based on how much meaningful information the features actually contain.\n"
   ]
  },
  {
   "cell_type": "code",
   "execution_count": null,
   "id": "3e29f526-ef76-46ef-b035-2c458d5b5b8f",
   "metadata": {},
   "outputs": [],
   "source": []
  }
 ],
 "metadata": {
  "kernelspec": {
   "display_name": "Python 3 (ipykernel)",
   "language": "python",
   "name": "python3"
  },
  "language_info": {
   "codemirror_mode": {
    "name": "ipython",
    "version": 3
   },
   "file_extension": ".py",
   "mimetype": "text/x-python",
   "name": "python",
   "nbconvert_exporter": "python",
   "pygments_lexer": "ipython3",
   "version": "3.12.11"
  }
 },
 "nbformat": 4,
 "nbformat_minor": 5
}
