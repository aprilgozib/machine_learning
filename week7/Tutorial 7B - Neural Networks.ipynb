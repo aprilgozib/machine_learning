{
 "cells": [
  {
   "cell_type": "markdown",
   "id": "afb842ab",
   "metadata": {},
   "source": [
    "## Week 7 - Neural Networks \n",
    "\n",
    "\n",
    "In this tutorial, we shall install tensorflow and build deep learning model to predict hand-written digits from the mnist dataset. More about the dataset can be found <a href=\"https://www.kaggle.com/c/digit-recognizer\">here</a>."
   ]
  },
  {
   "cell_type": "markdown",
   "id": "9f4204fd",
   "metadata": {},
   "source": [
    "#### Keras Installation \n",
    "\n",
    "To get started with building deep learning models, install tensorflow: `conda install tensorflow`. Since keras is fully integrated with tensorflow, keras comes with tensorflow by default."
   ]
  },
  {
   "cell_type": "markdown",
   "id": "6fcbda36",
   "metadata": {},
   "source": [
    "#### Import Packages"
   ]
  },
  {
   "cell_type": "code",
   "execution_count": 1,
   "id": "f73d4da7",
   "metadata": {},
   "outputs": [],
   "source": [
    "import numpy as np\n",
    "import pandas as pd \n",
    "from time import time\n",
    "from tensorflow import keras\n",
    "from random import randint\n",
    "from matplotlib import pyplot as plt\n",
    "from sklearn.neural_network import MLPClassifier\n",
    "from sklearn.metrics import accuracy_score\n",
    "\n",
    "from tensorflow.keras.datasets import mnist \n",
    "from tensorflow.keras.layers import Dense \n",
    "from tensorflow.keras.models import Sequential\n",
    "\n",
    "import warnings\n",
    "warnings.filterwarnings('ignore')"
   ]
  },
  {
   "cell_type": "code",
   "execution_count": 2,
   "id": "a2bbe77a",
   "metadata": {},
   "outputs": [],
   "source": [
    "# to get reproducible results\n",
    "from numpy.random import seed\n",
    "seed(1)\n",
    "import tensorflow\n",
    "tensorflow.random.set_seed(1)"
   ]
  },
  {
   "cell_type": "markdown",
   "id": "146293f9",
   "metadata": {},
   "source": [
    "#### Load Dataset"
   ]
  },
  {
   "cell_type": "code",
   "execution_count": 3,
   "id": "38b6473e",
   "metadata": {},
   "outputs": [],
   "source": [
    "#setup train-test split\n",
    "(X_train, y_train), (X_test, y_test) = mnist.load_data()\n",
    "assert X_train.shape == (60000, 28, 28)\n",
    "assert X_test.shape == (10000, 28, 28)\n",
    "assert y_train.shape == (60000,)\n",
    "assert y_test.shape == (10000,)"
   ]
  },
  {
   "cell_type": "code",
   "execution_count": 4,
   "id": "527a04dc",
   "metadata": {},
   "outputs": [
    {
     "name": "stdout",
     "output_type": "stream",
     "text": [
      "Each image is of 28 height and 28 width in pixels\n"
     ]
    },
    {
     "data": {
      "image/png": "[encoded data removed]",
      "text/plain": [
       "<Figure size 518.4x518.4 with 12 Axes>"
      ]
     },
     "metadata": {},
     "output_type": "display_data"
    }
   ],
   "source": [
    "#visually inspect the data \n",
    "\n",
    "h, w = X_train[0].shape[0], X_train[0].shape[1]\n",
    "\n",
    "# Reusing the functions that we previously used for face-recognition \n",
    "def plot_gallery(images, titles, h, w, n_row=3, n_col=4):\n",
    "    \"\"\"Helper function to plot a gallery of digits\"\"\"\n",
    "    plt.figure(figsize=(1.8 * n_col, 2.4 * n_row))\n",
    "    plt.subplots_adjust(bottom=0, left=.01, right=.99, top=.90, hspace=.35)\n",
    "    for i in range(n_row * n_col):\n",
    "        plt.subplot(n_row, n_col, i + 1)\n",
    "        plt.imshow(images[i].reshape((h, w)), cmap=plt.cm.gray_r)\n",
    "        plt.title(titles[i], size=12)\n",
    "        plt.xticks(())\n",
    "        plt.yticks(())\n",
    "\n",
    "\n",
    "# plot the result of the prediction on a portion of the test set\n",
    "\n",
    "def get_title(y, i):\n",
    "    label = y[i]\n",
    "    return('Digit Label: %s' % label)\n",
    "\n",
    "titles = [get_title(y_train, i) for i in range(10,25)]\n",
    "print(\"Each image is of %s height and %s width in pixels\" % (h, w))\n",
    "plot_gallery(X_train[10:25], titles, h, w)\n",
    "plt.show()"
   ]
  },
  {
   "cell_type": "markdown",
   "id": "0a43b33f",
   "metadata": {},
   "source": [
    "#### Preprocess Data"
   ]
  },
  {
   "cell_type": "code",
   "execution_count": 5,
   "id": "0e751713",
   "metadata": {},
   "outputs": [],
   "source": [
    "# Count overall pixels in each image \n",
    "image_size = h*w\n",
    "\n",
    "# Transform from matrix to vector, cast and normalize for training set\n",
    "X_train = X_train.reshape(X_train.shape[0], image_size)\n",
    "X_train = X_train.astype('float32')\n",
    "X_train /= 255 \n",
    "\n",
    "# Transform from matrix to vector, cast and normalize for test set\n",
    "X_test = X_test.reshape(X_test.shape[0], image_size)\n",
    "X_test = X_test.astype('float32')\n",
    "X_test /= 255"
   ]
  },
  {
   "cell_type": "markdown",
   "id": "1eb73f25",
   "metadata": {},
   "source": [
    "### Neural network with scikit-learn"
   ]
  },
  {
   "cell_type": "code",
   "execution_count": 6,
   "id": "255eecd0",
   "metadata": {},
   "outputs": [
    {
     "name": "stdout",
     "output_type": "stream",
     "text": [
      "Iteration 1, loss = 0.32009830\n",
      "Iteration 2, loss = 0.15345341\n",
      "Iteration 3, loss = 0.11544316\n",
      "Iteration 4, loss = 0.09305058\n",
      "Iteration 5, loss = 0.07870843\n",
      "Iteration 6, loss = 0.07093436\n",
      "Iteration 7, loss = 0.06236826\n",
      "Iteration 8, loss = 0.05530422\n",
      "Iteration 9, loss = 0.04932042\n",
      "Iteration 10, loss = 0.04607797\n"
     ]
    },
    {
     "data": {
      "text/plain": [
       "MLPClassifier(hidden_layer_sizes=(50,), learning_rate_init=0.1, max_iter=10,\n",
       "              random_state=1, solver='sgd', verbose=1)"
      ]
     },
     "execution_count": 6,
     "metadata": {},
     "output_type": "execute_result"
    }
   ],
   "source": [
    "mlp = MLPClassifier(hidden_layer_sizes=(50, ), max_iter=10, alpha=1e-4, solver='sgd', \n",
    "                    verbose=1, random_state=1, learning_rate_init=.1)\n",
    "mlp.fit(X_train, y_train)"
   ]
  },
  {
   "cell_type": "code",
   "execution_count": 7,
   "id": "a54f1cb2",
   "metadata": {},
   "outputs": [
    {
     "data": {
      "text/plain": [
       "0.9711"
      ]
     },
     "execution_count": 7,
     "metadata": {},
     "output_type": "execute_result"
    }
   ],
   "source": [
    "mlp.score(X_test, y_test) # Test Accuracy"
   ]
  },
  {
   "cell_type": "markdown",
   "id": "b2dcc08e",
   "metadata": {},
   "source": [
    "### Neural network with keras"
   ]
  },
  {
   "cell_type": "code",
   "execution_count": 8,
   "id": "c27d82c3",
   "metadata": {},
   "outputs": [
    {
     "data": {
      "text/plain": [
       "array([[0., 0., 0., 0., 0., 0., 0., 1., 0., 0.],\n",
       "       [0., 0., 1., 0., 0., 0., 0., 0., 0., 0.]], dtype=float32)"
      ]
     },
     "execution_count": 8,
     "metadata": {},
     "output_type": "execute_result"
    }
   ],
   "source": [
    "# Converting classes to binary class vectors - similar to one-hot encoding\n",
    "y_train = keras.utils.to_categorical(y_train, 10)\n",
    "y_test = keras.utils.to_categorical(y_test, 10)\n",
    "y_test[:2]"
   ]
  },
  {
   "cell_type": "markdown",
   "id": "08356828",
   "metadata": {},
   "source": [
    "#### Define network "
   ]
  },
  {
   "cell_type": "code",
   "execution_count": 9,
   "id": "144a8acb",
   "metadata": {},
   "outputs": [],
   "source": [
    "model = Sequential([Dense(units = 16, input_shape=(image_size,), activation='sigmoid'), # first hidden layer \n",
    "                    Dense(units = 32, activation='sigmoid'), # second hidden layer\n",
    "                    Dense(units=10, activation='softmax')]) # output layer with 10 units as there are 10 digits to identify \n",
    "                                                            # softmax gives the probability for each output class "
   ]
  },
  {
   "cell_type": "code",
   "execution_count": 10,
   "id": "d6a4e89a",
   "metadata": {},
   "outputs": [
    {
     "name": "stdout",
     "output_type": "stream",
     "text": [
      "Model: \"sequential\"\n",
      "_________________________________________________________________\n",
      "Layer (type)                 Output Shape              Param #   \n",
      "=================================================================\n",
      "dense (Dense)                (None, 16)                12560     \n",
      "_________________________________________________________________\n",
      "dense_1 (Dense)              (None, 32)                544       \n",
      "_________________________________________________________________\n",
      "dense_2 (Dense)              (None, 10)                330       \n",
      "=================================================================\n",
      "Total params: 13,434\n",
      "Trainable params: 13,434\n",
      "Non-trainable params: 0\n",
      "_________________________________________________________________\n"
     ]
    }
   ],
   "source": [
    "model.summary()"
   ]
  },
  {
   "cell_type": "markdown",
   "id": "29366646",
   "metadata": {},
   "source": [
    "#### Compile network"
   ]
  },
  {
   "cell_type": "code",
   "execution_count": 11,
   "id": "c4b2de05",
   "metadata": {},
   "outputs": [],
   "source": [
    "model.compile(loss='categorical_crossentropy', optimizer='sgd', metrics=['accuracy'])"
   ]
  },
  {
   "cell_type": "markdown",
   "id": "beadae6a",
   "metadata": {},
   "source": [
    "#### Fit network"
   ]
  },
  {
   "cell_type": "code",
   "execution_count": 12,
   "id": "3b438d3b",
   "metadata": {},
   "outputs": [
    {
     "name": "stdout",
     "output_type": "stream",
     "text": [
      "Epoch 1/15\n",
      "1688/1688 [==============================] - 2s 1ms/step - loss: 2.2719 - accuracy: 0.1799 - val_loss: 2.2255 - val_accuracy: 0.2530\n",
      "Epoch 2/15\n",
      "1688/1688 [==============================] - 2s 989us/step - loss: 2.1429 - accuracy: 0.4174 - val_loss: 2.0102 - val_accuracy: 0.5357\n",
      "Epoch 3/15\n",
      "1688/1688 [==============================] - 2s 992us/step - loss: 1.8434 - accuracy: 0.5563 - val_loss: 1.6224 - val_accuracy: 0.6205\n",
      "Epoch 4/15\n",
      "1688/1688 [==============================] - 2s 1ms/step - loss: 1.4754 - accuracy: 0.6571 - val_loss: 1.2741 - val_accuracy: 0.7095\n",
      "Epoch 5/15\n",
      "1688/1688 [==============================] - 2s 996us/step - loss: 1.1936 - accuracy: 0.7186 - val_loss: 1.0276 - val_accuracy: 0.7823\n",
      "Epoch 6/15\n",
      "1688/1688 [==============================] - 2s 969us/step - loss: 0.9916 - accuracy: 0.7657 - val_loss: 0.8482 - val_accuracy: 0.8187\n",
      "Epoch 7/15\n",
      "1688/1688 [==============================] - 2s 1ms/step - loss: 0.8408 - accuracy: 0.8018 - val_loss: 0.7113 - val_accuracy: 0.8480\n",
      "Epoch 8/15\n",
      "1688/1688 [==============================] - 2s 1000us/step - loss: 0.7249 - accuracy: 0.8280 - val_loss: 0.6073 - val_accuracy: 0.8668\n",
      "Epoch 9/15\n",
      "1688/1688 [==============================] - 2s 1ms/step - loss: 0.6373 - accuracy: 0.8469 - val_loss: 0.5312 - val_accuracy: 0.8793\n",
      "Epoch 10/15\n",
      "1688/1688 [==============================] - 2s 999us/step - loss: 0.5722 - accuracy: 0.8596 - val_loss: 0.4756 - val_accuracy: 0.8900\n",
      "Epoch 11/15\n",
      "1688/1688 [==============================] - 2s 1ms/step - loss: 0.5237 - accuracy: 0.8685 - val_loss: 0.4348 - val_accuracy: 0.8955\n",
      "Epoch 12/15\n",
      "1688/1688 [==============================] - 2s 998us/step - loss: 0.4870 - accuracy: 0.8750 - val_loss: 0.4047 - val_accuracy: 0.8982\n",
      "Epoch 13/15\n",
      "1688/1688 [==============================] - 2s 944us/step - loss: 0.4586 - accuracy: 0.8810 - val_loss: 0.3811 - val_accuracy: 0.9037\n",
      "Epoch 14/15\n",
      "1688/1688 [==============================] - 2s 1ms/step - loss: 0.4359 - accuracy: 0.8860 - val_loss: 0.3625 - val_accuracy: 0.9058\n",
      "Epoch 15/15\n",
      "1688/1688 [==============================] - 2s 1ms/step - loss: 0.4173 - accuracy: 0.8898 - val_loss: 0.3467 - val_accuracy: 0.9085\n"
     ]
    },
    {
     "data": {
      "text/plain": [
       "<tensorflow.python.keras.callbacks.History at 0x25b3a85d9d0>"
      ]
     },
     "execution_count": 12,
     "metadata": {},
     "output_type": "execute_result"
    }
   ],
   "source": [
    "#Train the model to learn weights \n",
    "\n",
    "# validation set is kept aside before the epoch begins and within each epoch, \n",
    "# the same validation set is used to evaluate the model performance. \n",
    "# Shuffle is true by default and is done only for the training set.\n",
    "model.fit(X_train, y_train, epochs = 15, validation_split=0.1, shuffle=True, verbose=1)"
   ]
  },
  {
   "cell_type": "markdown",
   "id": "fef88180",
   "metadata": {},
   "source": [
    "#### Make predictions"
   ]
  },
  {
   "cell_type": "code",
   "execution_count": 13,
   "id": "5b1197db",
   "metadata": {},
   "outputs": [
    {
     "data": {
      "text/plain": [
       "array([[1.1245670e-02, 8.1418584e-05, 7.3533016e-04, 6.5590939e-03,\n",
       "        5.5623455e-05, 7.4086915e-04, 6.9264029e-06, 9.6205467e-01,\n",
       "        6.8934704e-04, 1.7830992e-02],\n",
       "       [3.9842837e-03, 3.2950330e-03, 8.6650193e-01, 6.3645259e-02,\n",
       "        3.2952117e-05, 1.5642900e-02, 3.9158098e-02, 3.3743498e-05,\n",
       "        7.6858681e-03, 1.9785446e-05]], dtype=float32)"
      ]
     },
     "execution_count": 13,
     "metadata": {},
     "output_type": "execute_result"
    }
   ],
   "source": [
    "# predicts the probabilities of each class \n",
    "predictions = model.predict(X_test, verbose=0)\n",
    "predictions[:2]"
   ]
  },
  {
   "cell_type": "code",
   "execution_count": 14,
   "id": "16ec1072",
   "metadata": {},
   "outputs": [
    {
     "data": {
      "text/plain": [
       "array([7, 2, 1, 0, 4, 1, 4, 9, 6, 9], dtype=int64)"
      ]
     },
     "execution_count": 14,
     "metadata": {},
     "output_type": "execute_result"
    }
   ],
   "source": [
    "# Class with maximum probability is considered as the predicted class. \n",
    "predictions_classes = np.argmax(predictions, axis=-1)\n",
    "predictions_classes[:10]"
   ]
  },
  {
   "cell_type": "code",
   "execution_count": 15,
   "id": "cf342d8d",
   "metadata": {},
   "outputs": [
    {
     "data": {
      "text/plain": [
       "0.8957"
      ]
     },
     "execution_count": 15,
     "metadata": {},
     "output_type": "execute_result"
    }
   ],
   "source": [
    "accuracy_score(np.argmax(y_test, axis=-1), predictions_classes)"
   ]
  },
  {
   "cell_type": "markdown",
   "id": "f1f01e16",
   "metadata": {},
   "source": [
    "#### Confusion matrix"
   ]
  },
  {
   "cell_type": "code",
   "execution_count": 16,
   "id": "fbc21cba",
   "metadata": {},
   "outputs": [],
   "source": [
    "%matplotlib inline \n",
    "from sklearn.metrics import ConfusionMatrixDisplay\n",
    "import matplotlib.pyplot as plt "
   ]
  },
  {
   "cell_type": "code",
   "execution_count": 17,
   "id": "e9bdb267",
   "metadata": {},
   "outputs": [
    {
     "data": {
      "image/png": "[encoded data removed]",
      "text/plain": [
       "<Figure size 720x720 with 2 Axes>"
      ]
     },
     "metadata": {
      "needs_background": "light"
     },
     "output_type": "display_data"
    }
   ],
   "source": [
    "with plt.rc_context({'xtick.labelsize':12, 'ytick.labelsize':12, 'axes.labelsize':14, 'figure.figsize': (10,10)}):\n",
    "    ConfusionMatrixDisplay.from_predictions(np.argmax(y_test, axis=1), predictions_classes)"
   ]
  }
 ],
 "metadata": {
  "kernelspec": {
   "display_name": "Python 3 (ipykernel)",
   "language": "python",
   "name": "python3"
  },
  "language_info": {
   "codemirror_mode": {
    "name": "ipython",
    "version": 3
   },
   "file_extension": ".py",
   "mimetype": "text/x-python",
   "name": "python",
   "nbconvert_exporter": "python",
   "pygments_lexer": "ipython3",
   "version": "3.8.12"
  }
 },
 "nbformat": 4,
 "nbformat_minor": 5
}
