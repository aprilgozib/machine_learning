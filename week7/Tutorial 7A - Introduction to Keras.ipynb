{
 "cells": [
  {
   "cell_type": "markdown",
   "metadata": {},
   "source": [
    "## Week 7 - Introduction to Keras"
   ]
  },
  {
   "cell_type": "markdown",
   "metadata": {},
   "source": [
    "scikit-learn provides little support for implementing deep learning models (<a href=\"https://scikit-learn.org/stable/modules/classes.html#module-sklearn.neural_network\">here</a>). The most popular deep-learning framework is keras. \n",
    "\n",
    "### Brief introduction to keras\n",
    "\n",
    "There are several frameworks for deep learning that help build neural networks - TensorFlow, Theano, Microsoft Cognitive Toolkit (CNTK) etc. Keras acts as a wrapper for these framework in python using the frameworks in the backend for fast computation while providing a user friendly and easy-to-learn front-end. \n",
    "\n",
    "Keras is fully integrated with TensorFlow 2.0, which is the primary backend engine of keras.\n",
    "\n",
    "<img src=\"https://naadispeaks.files.wordpress.com/2018/06/keras_2.png\" alt=\"drawing\" width=\"600\"/>\n",
    "\n",
    "\n",
    "**Why Keras ?** \n",
    "- Simple to use \n",
    "- Easy extensibility \n",
    "- Well documented (https://www.tensorflow.org/api_docs/python/tf/keras)\n",
    "- Modularity\n",
    "- Runs seamlessly on CPU and GPU\n",
    "- Pre-trained models \n",
    "\n",
    "Keras follows a very simple design idea. The four main steps of designing a Keras model deep learning model.\n",
    "\n",
    "1. Prepare your inputs and output tensors\n",
    "2. Create first layer to handle input tensor\n",
    "3. Create output layer to handle targets\n",
    "4. Build virtually any model you like in between\n",
    "\n",
    "<img src=\"https://naadispeaks.files.wordpress.com/2018/06/keras_3.png\" alt=\"drawing\" width=\"600\"/>\n",
    "\n",
    "Keras models go through the above pipeline. One might have to revisit the steps again and again to come up with the best model.         \n",
    "         "
   ]
  },
  {
   "cell_type": "markdown",
   "metadata": {},
   "source": [
    "Additional:\n",
    "    \n",
    "1. <a href=\"https://www.youtube.com/watch?v=yJm2l2Mh7nQ\">An absolute beginner's guide to deep learning</a>\n",
    "2. <a href=\"https://www.youtube.com/watch?v=qFJeN9V1ZsI\">Python Deep Learning for Beginners</a>"
   ]
  }
 ],
 "metadata": {
  "kernelspec": {
   "display_name": "Python 3",
   "language": "python",
   "name": "python3"
  },
  "language_info": {
   "codemirror_mode": {
    "name": "ipython",
    "version": 3
   },
   "file_extension": ".py",
   "mimetype": "text/x-python",
   "name": "python",
   "nbconvert_exporter": "python",
   "pygments_lexer": "ipython3",
   "version": "3.8.5"
  }
 },
 "nbformat": 4,
 "nbformat_minor": 5
}
